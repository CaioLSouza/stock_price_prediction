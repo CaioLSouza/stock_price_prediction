{
 "cells": [
  {
   "cell_type": "markdown",
   "id": "700cb690-5436-46b3-a989-f92e1604f04a",
   "metadata": {},
   "source": [
    "# Stock price prediction: A machine learning approach\n",
    "\n",
    "Purpose: Predict stock price using Machine Learning methods, such as Support Vector Machines, Deep Neural Networks and Random Forest \\\n",
    "Authors: Caio Lopes De Souza, Silvio Sandoval Zocchi, Gabriel Rodrigues Palma"
   ]
  },
  {
   "cell_type": "markdown",
   "id": "61e1122d-12fc-4f1d-9628-d80a8f988f8a",
   "metadata": {},
   "source": [
    "# Packages used in the project"
   ]
  },
  {
   "cell_type": "code",
   "execution_count": 82,
   "id": "146e6684-6d00-461a-a94f-84429ed0ee2c",
   "metadata": {},
   "outputs": [],
   "source": [
    "# API for acessing the stock data\n",
    "import yfinance as yfs\n",
    "\n",
    "# Data manipulation modules\n",
    "import pandas as pd\n",
    "import numpy as np\n",
    "\n",
    "# Data visualisation modules\n",
    "import matplotlib.pyplot as plt\n",
    "\n",
    "# Machine Learning modules\n",
    "from sklearn.ensemble import RandomForestClassifier"
   ]
  },
  {
   "cell_type": "markdown",
   "id": "d5b0e0f5-c3fe-4033-9335-c1d21a2396e2",
   "metadata": {},
   "source": [
    "# Functions used in the project"
   ]
  },
  {
   "cell_type": "code",
   "execution_count": 50,
   "id": "d3e2a87a-7ef7-4487-9595-20fda8dd4b9b",
   "metadata": {},
   "outputs": [],
   "source": [
    "def get_stock_series(stock_name):\n",
    "    '''This function acess the yfinance API and collect the desired stock time series'''\n",
    "    yfinance_api = yfs.Ticker(stock_name) \n",
    "    stock_series = yfinance_api.history(period='max')\n",
    "    return(stock_series)\n",
    "\n",
    "def get_train_test_data(stock_series, test_percentage):\n",
    "    '''This functions creates the training and test data for the stock time series'''\n",
    "    time_series_length = len(stock_series)\n",
    "    test_series = stock_series.iloc[:int(time_series_length*test_percentage)]\n",
    "    train_series = stock_series.iloc[:-int(time_series_length*test_percentage)]\n",
    "    \n",
    "    return(test_series, train_series)"
   ]
  },
  {
   "cell_type": "markdown",
   "id": "6de743c9-5847-4287-8388-8a737ee3e752",
   "metadata": {},
   "source": [
    "# Reading the data"
   ]
  },
  {
   "cell_type": "code",
   "execution_count": 54,
   "id": "ef4c4db6-425b-4305-b800-cc64bfcac820",
   "metadata": {},
   "outputs": [],
   "source": [
    "stock_series = get_stock_series(stock_name = 'PETR4.SA')"
   ]
  },
  {
   "cell_type": "code",
   "execution_count": 55,
   "id": "56e54da6-a7e7-41d6-a740-21d1f93ab284",
   "metadata": {},
   "outputs": [
    {
     "data": {
      "text/html": [
       "<div>\n",
       "<style scoped>\n",
       "    .dataframe tbody tr th:only-of-type {\n",
       "        vertical-align: middle;\n",
       "    }\n",
       "\n",
       "    .dataframe tbody tr th {\n",
       "        vertical-align: top;\n",
       "    }\n",
       "\n",
       "    .dataframe thead th {\n",
       "        text-align: right;\n",
       "    }\n",
       "</style>\n",
       "<table border=\"1\" class=\"dataframe\">\n",
       "  <thead>\n",
       "    <tr style=\"text-align: right;\">\n",
       "      <th></th>\n",
       "      <th>Open</th>\n",
       "      <th>High</th>\n",
       "      <th>Low</th>\n",
       "      <th>Close</th>\n",
       "      <th>Volume</th>\n",
       "      <th>Dividends</th>\n",
       "      <th>Stock Splits</th>\n",
       "    </tr>\n",
       "    <tr>\n",
       "      <th>Date</th>\n",
       "      <th></th>\n",
       "      <th></th>\n",
       "      <th></th>\n",
       "      <th></th>\n",
       "      <th></th>\n",
       "      <th></th>\n",
       "      <th></th>\n",
       "    </tr>\n",
       "  </thead>\n",
       "  <tbody>\n",
       "    <tr>\n",
       "      <th>2000-01-03</th>\n",
       "      <td>2.627552</td>\n",
       "      <td>2.627552</td>\n",
       "      <td>2.627552</td>\n",
       "      <td>2.627552</td>\n",
       "      <td>35389440000</td>\n",
       "      <td>0.0</td>\n",
       "      <td>0.0</td>\n",
       "    </tr>\n",
       "    <tr>\n",
       "      <th>2000-01-04</th>\n",
       "      <td>2.482198</td>\n",
       "      <td>2.482198</td>\n",
       "      <td>2.482198</td>\n",
       "      <td>2.482198</td>\n",
       "      <td>28861440000</td>\n",
       "      <td>0.0</td>\n",
       "      <td>0.0</td>\n",
       "    </tr>\n",
       "    <tr>\n",
       "      <th>2000-01-05</th>\n",
       "      <td>2.457152</td>\n",
       "      <td>2.457152</td>\n",
       "      <td>2.457152</td>\n",
       "      <td>2.457152</td>\n",
       "      <td>43033600000</td>\n",
       "      <td>0.0</td>\n",
       "      <td>0.0</td>\n",
       "    </tr>\n",
       "    <tr>\n",
       "      <th>2000-01-06</th>\n",
       "      <td>2.448654</td>\n",
       "      <td>2.448654</td>\n",
       "      <td>2.448654</td>\n",
       "      <td>2.448654</td>\n",
       "      <td>34055680000</td>\n",
       "      <td>0.0</td>\n",
       "      <td>0.0</td>\n",
       "    </tr>\n",
       "    <tr>\n",
       "      <th>2000-01-07</th>\n",
       "      <td>2.459836</td>\n",
       "      <td>2.459836</td>\n",
       "      <td>2.459836</td>\n",
       "      <td>2.459836</td>\n",
       "      <td>20912640000</td>\n",
       "      <td>0.0</td>\n",
       "      <td>0.0</td>\n",
       "    </tr>\n",
       "  </tbody>\n",
       "</table>\n",
       "</div>"
      ],
      "text/plain": [
       "                Open      High       Low     Close       Volume  Dividends  \\\n",
       "Date                                                                         \n",
       "2000-01-03  2.627552  2.627552  2.627552  2.627552  35389440000        0.0   \n",
       "2000-01-04  2.482198  2.482198  2.482198  2.482198  28861440000        0.0   \n",
       "2000-01-05  2.457152  2.457152  2.457152  2.457152  43033600000        0.0   \n",
       "2000-01-06  2.448654  2.448654  2.448654  2.448654  34055680000        0.0   \n",
       "2000-01-07  2.459836  2.459836  2.459836  2.459836  20912640000        0.0   \n",
       "\n",
       "            Stock Splits  \n",
       "Date                      \n",
       "2000-01-03           0.0  \n",
       "2000-01-04           0.0  \n",
       "2000-01-05           0.0  \n",
       "2000-01-06           0.0  \n",
       "2000-01-07           0.0  "
      ]
     },
     "execution_count": 55,
     "metadata": {},
     "output_type": "execute_result"
    }
   ],
   "source": [
    "stock_series.head()"
   ]
  },
  {
   "cell_type": "code",
   "execution_count": 84,
   "id": "e7eca5bd-c201-40a9-bed6-3602a93a8a38",
   "metadata": {
    "tags": []
   },
   "outputs": [
    {
     "data": {
      "text/plain": [
       "array([0, 0, 0, ..., 1, 0, 0])"
      ]
     },
     "execution_count": 84,
     "metadata": {},
     "output_type": "execute_result"
    }
   ],
   "source": [
    "np.array(series_test.shift(-1) > stock_series.Close).astype(int)"
   ]
  },
  {
   "cell_type": "code",
   "execution_count": 76,
   "id": "82c4da29-1292-4f1e-8082-5b4cd9028d63",
   "metadata": {},
   "outputs": [
    {
     "ename": "ValueError",
     "evalue": "Can only compare identically-labeled Series objects",
     "output_type": "error",
     "traceback": [
      "\u001b[0;31m---------------------------------------------------------------------------\u001b[0m",
      "\u001b[0;31mValueError\u001b[0m                                Traceback (most recent call last)",
      "Input \u001b[0;32mIn [76]\u001b[0m, in \u001b[0;36m<cell line: 1>\u001b[0;34m()\u001b[0m\n\u001b[0;32m----> 1\u001b[0m classes \u001b[38;5;241m=\u001b[39m (\u001b[43mseries_test\u001b[49m\u001b[38;5;241;43m.\u001b[39;49m\u001b[43mshift\u001b[49m\u001b[43m(\u001b[49m\u001b[38;5;241;43m-\u001b[39;49m\u001b[38;5;241;43m1\u001b[39;49m\u001b[43m)\u001b[49m\u001b[43m \u001b[49m\u001b[38;5;241;43m>\u001b[39;49m\u001b[43m \u001b[49m\u001b[43mstock_series\u001b[49m\u001b[38;5;241;43m.\u001b[39;49m\u001b[43mClose\u001b[49m)\u001b[38;5;241m.\u001b[39mastype(\u001b[38;5;28mint\u001b[39m)\n",
      "File \u001b[0;32m~/miniforge3/envs/stock/lib/python3.9/site-packages/pandas/core/ops/common.py:70\u001b[0m, in \u001b[0;36m_unpack_zerodim_and_defer.<locals>.new_method\u001b[0;34m(self, other)\u001b[0m\n\u001b[1;32m     66\u001b[0m             \u001b[38;5;28;01mreturn\u001b[39;00m \u001b[38;5;28mNotImplemented\u001b[39m\n\u001b[1;32m     68\u001b[0m other \u001b[38;5;241m=\u001b[39m item_from_zerodim(other)\n\u001b[0;32m---> 70\u001b[0m \u001b[38;5;28;01mreturn\u001b[39;00m \u001b[43mmethod\u001b[49m\u001b[43m(\u001b[49m\u001b[38;5;28;43mself\u001b[39;49m\u001b[43m,\u001b[49m\u001b[43m \u001b[49m\u001b[43mother\u001b[49m\u001b[43m)\u001b[49m\n",
      "File \u001b[0;32m~/miniforge3/envs/stock/lib/python3.9/site-packages/pandas/core/arraylike.py:56\u001b[0m, in \u001b[0;36mOpsMixin.__gt__\u001b[0;34m(self, other)\u001b[0m\n\u001b[1;32m     54\u001b[0m \u001b[38;5;129m@unpack_zerodim_and_defer\u001b[39m(\u001b[38;5;124m\"\u001b[39m\u001b[38;5;124m__gt__\u001b[39m\u001b[38;5;124m\"\u001b[39m)\n\u001b[1;32m     55\u001b[0m \u001b[38;5;28;01mdef\u001b[39;00m \u001b[38;5;21m__gt__\u001b[39m(\u001b[38;5;28mself\u001b[39m, other):\n\u001b[0;32m---> 56\u001b[0m     \u001b[38;5;28;01mreturn\u001b[39;00m \u001b[38;5;28;43mself\u001b[39;49m\u001b[38;5;241;43m.\u001b[39;49m\u001b[43m_cmp_method\u001b[49m\u001b[43m(\u001b[49m\u001b[43mother\u001b[49m\u001b[43m,\u001b[49m\u001b[43m \u001b[49m\u001b[43moperator\u001b[49m\u001b[38;5;241;43m.\u001b[39;49m\u001b[43mgt\u001b[49m\u001b[43m)\u001b[49m\n",
      "File \u001b[0;32m~/miniforge3/envs/stock/lib/python3.9/site-packages/pandas/core/series.py:5617\u001b[0m, in \u001b[0;36mSeries._cmp_method\u001b[0;34m(self, other, op)\u001b[0m\n\u001b[1;32m   5614\u001b[0m res_name \u001b[38;5;241m=\u001b[39m ops\u001b[38;5;241m.\u001b[39mget_op_result_name(\u001b[38;5;28mself\u001b[39m, other)\n\u001b[1;32m   5616\u001b[0m \u001b[38;5;28;01mif\u001b[39;00m \u001b[38;5;28misinstance\u001b[39m(other, Series) \u001b[38;5;129;01mand\u001b[39;00m \u001b[38;5;129;01mnot\u001b[39;00m \u001b[38;5;28mself\u001b[39m\u001b[38;5;241m.\u001b[39m_indexed_same(other):\n\u001b[0;32m-> 5617\u001b[0m     \u001b[38;5;28;01mraise\u001b[39;00m \u001b[38;5;167;01mValueError\u001b[39;00m(\u001b[38;5;124m\"\u001b[39m\u001b[38;5;124mCan only compare identically-labeled Series objects\u001b[39m\u001b[38;5;124m\"\u001b[39m)\n\u001b[1;32m   5619\u001b[0m lvalues \u001b[38;5;241m=\u001b[39m \u001b[38;5;28mself\u001b[39m\u001b[38;5;241m.\u001b[39m_values\n\u001b[1;32m   5620\u001b[0m rvalues \u001b[38;5;241m=\u001b[39m extract_array(other, extract_numpy\u001b[38;5;241m=\u001b[39m\u001b[38;5;28;01mTrue\u001b[39;00m, extract_range\u001b[38;5;241m=\u001b[39m\u001b[38;5;28;01mTrue\u001b[39;00m)\n",
      "\u001b[0;31mValueError\u001b[0m: Can only compare identically-labeled Series objects"
     ]
    }
   ],
   "source": [
    "classes = (series_test.shift(-1) > stock_series.Close)"
   ]
  },
  {
   "cell_type": "code",
   "execution_count": null,
   "id": "632039a4-43c7-4168-b958-89afea396fad",
   "metadata": {},
   "outputs": [],
   "source": []
  },
  {
   "cell_type": "code",
   "execution_count": 112,
   "id": "2357fbb3-f30a-4bcc-bd50-8d4328d60948",
   "metadata": {},
   "outputs": [],
   "source": [
    "series_test = stock_series.Close[0:5]\n",
    "series_test_tommorow = series_test.shift(4)\n",
    "series_test_tommorow.fillna(series_test_tommorow.iloc[4],inplace=True)"
   ]
  },
  {
   "cell_type": "code",
   "execution_count": 113,
   "id": "053b6d77-f999-47ab-9805-e10e9e463b50",
   "metadata": {},
   "outputs": [
    {
     "data": {
      "text/plain": [
       "Date\n",
       "2000-01-03    2.627552\n",
       "2000-01-04    2.482198\n",
       "2000-01-05    2.457152\n",
       "2000-01-06    2.448654\n",
       "2000-01-07    2.459836\n",
       "Name: Close, dtype: float64"
      ]
     },
     "execution_count": 113,
     "metadata": {},
     "output_type": "execute_result"
    }
   ],
   "source": [
    "series_test"
   ]
  },
  {
   "cell_type": "code",
   "execution_count": 114,
   "id": "42c57ff8-a854-46a7-8ccc-32814faa1bd7",
   "metadata": {},
   "outputs": [
    {
     "data": {
      "text/plain": [
       "Date\n",
       "2000-01-03    2.627552\n",
       "2000-01-04    2.627552\n",
       "2000-01-05    2.627552\n",
       "2000-01-06    2.627552\n",
       "2000-01-07    2.627552\n",
       "Name: Close, dtype: float64"
      ]
     },
     "execution_count": 114,
     "metadata": {},
     "output_type": "execute_result"
    }
   ],
   "source": [
    "series_test_tommorow"
   ]
  },
  {
   "cell_type": "code",
   "execution_count": 115,
   "id": "69329012-50a7-4af1-845b-ee6a93faffa7",
   "metadata": {},
   "outputs": [
    {
     "data": {
      "text/plain": [
       "[<matplotlib.lines.Line2D at 0x286f2ef10>]"
      ]
     },
     "execution_count": 115,
     "metadata": {},
     "output_type": "execute_result"
    },
    {
     "data": {
      "image/png": "[encoded data removed]",
      "text/plain": [
       "<Figure size 432x288 with 1 Axes>"
      ]
     },
     "metadata": {
      "needs_background": "light"
     },
     "output_type": "display_data"
    }
   ],
   "source": [
    "plt.plot(series_test)\n",
    "plt.plot(series_test_tommorow)"
   ]
  },
  {
   "cell_type": "code",
   "execution_count": 105,
   "id": "4a397ce3-e256-4ee9-9ce1-1db915555cdc",
   "metadata": {},
   "outputs": [
    {
     "data": {
      "text/plain": [
       "Date\n",
       "2000-01-03    False\n",
       "2000-01-04    False\n",
       "2000-01-05     True\n",
       "2000-01-06     True\n",
       "2000-01-07    False\n",
       "Name: Close, dtype: bool"
      ]
     },
     "execution_count": 105,
     "metadata": {},
     "output_type": "execute_result"
    }
   ],
   "source": [
    "series_test_tommorow > series_test"
   ]
  },
  {
   "cell_type": "markdown",
   "id": "aa48725b-0983-4e08-9818-afe4ea669245",
   "metadata": {},
   "source": [
    "## Proposed approach"
   ]
  },
  {
   "cell_type": "code",
   "execution_count": 53,
   "id": "540a30ed-6f3f-4add-b293-f5c6e79a4d6e",
   "metadata": {},
   "outputs": [],
   "source": [
    "test_series, train_series = get_train_test_data(stock_series = stock_series,\n",
    "                                                test_percentage = 0.3)"
   ]
  }
 ],
 "metadata": {
  "kernelspec": {
   "display_name": "Python 3 (ipykernel)",
   "language": "python",
   "name": "python3"
  },
  "language_info": {
   "codemirror_mode": {
    "name": "ipython",
    "version": 3
   },
   "file_extension": ".py",
   "mimetype": "text/x-python",
   "name": "python",
   "nbconvert_exporter": "python",
   "pygments_lexer": "ipython3",
   "version": "3.9.13"
  }
 },
 "nbformat": 4,
 "nbformat_minor": 5
}
