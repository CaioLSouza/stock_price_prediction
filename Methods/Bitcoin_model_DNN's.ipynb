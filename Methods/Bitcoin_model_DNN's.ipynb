{
 "cells": [
  {
   "cell_type": "markdown",
   "id": "c236656f",
   "metadata": {},
   "source": [
    "# Stock price prediction: A machine learning approach\n",
    "\n",
    "Purpose: Predict stock price using Machine Learning methods, such as Support Vector Machines, Deep Neural Networks and Random Forest \\\n",
    "Authors: Caio Lopes De Souza, Silvio Sandoval Zocchi, Gabriel Rodrigues Palma"
   ]
  },
  {
   "cell_type": "markdown",
   "id": "383f5a72",
   "metadata": {},
   "source": [
    "# Packages used in the project"
   ]
  },
  {
   "cell_type": "code",
   "execution_count": 2,
   "id": "532cbc59",
   "metadata": {},
   "outputs": [],
   "source": [
    "# Data manipulation modules\n",
    "import pandas as pd\n",
    "import numpy as np\n",
    "\n",
    "# Data visualisation modules\n",
    "import matplotlib.pyplot as plt\n",
    "\n",
    "# Machine Learning modules\n",
    "from keras.models import Sequential\n",
    "from keras.layers import Activation, Dense\n",
    "\n",
    "# Cross-validation modules \n",
    "from sklearn.model_selection import TimeSeriesSplit\n",
    "\n",
    "# Grid search module\n",
    "from sklearn.model_selection import GridSearchCV\n",
    "\n",
    "# Evaluation metrics modules\n",
    "from sklearn.metrics import precision_score\n",
    "from sklearn.metrics import recall_score\n",
    "from sklearn.metrics import accuracy_score"
   ]
  },
  {
   "cell_type": "code",
   "execution_count": 3,
   "id": "a57d467a",
   "metadata": {},
   "outputs": [],
   "source": [
    "def get_train_test_data(cripto_series, test_percentage):\n",
    "    '''This functions creates the training and test data for the stock time series'''\n",
    "    time_series_length = len(cripto_series)\n",
    "    test_series = cripto_series.iloc[int(1 - time_series_length*test_percentage):]\n",
    "    train_series = cripto_series.iloc[:int(1 - time_series_length*test_percentage)]\n",
    "    \n",
    "    return(test_series, train_series)\n",
    "\n",
    "def get_rate_of_change(cripto_series, variable, n_days):\n",
    "    '''This function computes several values for the rate of change and add them into a dataset'''\n",
    "    for day in n_days: \n",
    "        variable_name = f\"{day}_days_of_change\"\n",
    "        cripto_series[variable_name] = (cripto_series[variable] - cripto_series[variable].shift(day)) / cripto_series[variable].shift(day)\n",
    "        \n",
    "def get_moving_average(cripto_series, variable, n_days):\n",
    "    '''This function computes several values for the moving average and add them into a dataset'''\n",
    "    for day in n_days:\n",
    "        variable_name = f\"{day}_day_moving_average\"\n",
    "        cripto_series[variable_name] = cripto_series[variable].rolling(day).mean()\n",
    "        \n",
    "def get_ratio(cripto_series, variable_1, variable_2):\n",
    "    '''This function computes the ratio between two variables and add it into a dataset'''\n",
    "    variable_name = f\"{variable_1}_{variable_2}_ratio\"\n",
    "    cripto_series[variable_name] = cripto_series[variable_1] / cripto_series[variable_2]\n",
    "    \n",
    "def train_and_predict(model, predictors, target, test_predictors):\n",
    "    '''This function fits a model and then make predictions on it for a given amount of data'''\n",
    "    model.fit(predictors, target)\n",
    "    preds = model.predict(test_predictors)\n",
    "    preds = pd.Series(preds, index=test_series.index)\n",
    "    return preds"
   ]
  },
  {
   "cell_type": "markdown",
   "id": "a9e5abda",
   "metadata": {},
   "source": [
    "## Reading the Data"
   ]
  },
  {
   "cell_type": "code",
   "execution_count": 4,
   "id": "3bd92b90",
   "metadata": {},
   "outputs": [],
   "source": [
    "cripto_series = pd.read_csv('https://raw.githubusercontent.com/CaioLSouza/stock_price_prediction/main/Data/revolut_crypto_data.csv', index_col='time_open')\n",
    "bitcoin_series = cripto_series.loc[cripto_series['name'] == 'Bitcoin']"
   ]
  },
  {
   "cell_type": "markdown",
   "id": "cd4e2ee9",
   "metadata": {},
   "source": [
    "## Cleaning variables"
   ]
  },
  {
   "cell_type": "code",
   "execution_count": 5,
   "id": "67f0c22f",
   "metadata": {},
   "outputs": [
    {
     "name": "stderr",
     "output_type": "stream",
     "text": [
      "c:\\users\\caiol\\appdata\\local\\programs\\python\\python37\\lib\\site-packages\\pandas\\core\\frame.py:4913: SettingWithCopyWarning: \n",
      "A value is trying to be set on a copy of a slice from a DataFrame\n",
      "\n",
      "See the caveats in the documentation: https://pandas.pydata.org/pandas-docs/stable/user_guide/indexing.html#returning-a-view-versus-a-copy\n",
      "  errors=errors,\n"
     ]
    }
   ],
   "source": [
    "bitcoin_series.drop(['timestamp', 'id', 'Unnamed: 0', 'slug', 'time_close', 'time_high', 'time_low', 'name', 'symbol', 'ref_cur'], axis=1, inplace=True)"
   ]
  },
  {
   "cell_type": "code",
   "execution_count": 6,
   "id": "89ed1725",
   "metadata": {},
   "outputs": [
    {
     "data": {
      "text/html": [
       "<div>\n",
       "<style scoped>\n",
       "    .dataframe tbody tr th:only-of-type {\n",
       "        vertical-align: middle;\n",
       "    }\n",
       "\n",
       "    .dataframe tbody tr th {\n",
       "        vertical-align: top;\n",
       "    }\n",
       "\n",
       "    .dataframe thead th {\n",
       "        text-align: right;\n",
       "    }\n",
       "</style>\n",
       "<table border=\"1\" class=\"dataframe\">\n",
       "  <thead>\n",
       "    <tr style=\"text-align: right;\">\n",
       "      <th></th>\n",
       "      <th>open</th>\n",
       "      <th>high</th>\n",
       "      <th>low</th>\n",
       "      <th>close</th>\n",
       "      <th>volume</th>\n",
       "      <th>market_cap</th>\n",
       "    </tr>\n",
       "    <tr>\n",
       "      <th>time_open</th>\n",
       "      <th></th>\n",
       "      <th></th>\n",
       "      <th></th>\n",
       "      <th></th>\n",
       "      <th></th>\n",
       "      <th></th>\n",
       "    </tr>\n",
       "  </thead>\n",
       "  <tbody>\n",
       "    <tr>\n",
       "      <th>2013-04-29</th>\n",
       "      <td>134.444000</td>\n",
       "      <td>147.488007</td>\n",
       "      <td>134.000000</td>\n",
       "      <td>144.539993</td>\n",
       "      <td>0.0</td>\n",
       "      <td>1.603769e+09</td>\n",
       "    </tr>\n",
       "    <tr>\n",
       "      <th>2013-04-30</th>\n",
       "      <td>144.000000</td>\n",
       "      <td>146.929993</td>\n",
       "      <td>134.050003</td>\n",
       "      <td>139.000000</td>\n",
       "      <td>0.0</td>\n",
       "      <td>1.542813e+09</td>\n",
       "    </tr>\n",
       "    <tr>\n",
       "      <th>2013-05-01</th>\n",
       "      <td>139.000000</td>\n",
       "      <td>139.889999</td>\n",
       "      <td>107.720001</td>\n",
       "      <td>116.989998</td>\n",
       "      <td>0.0</td>\n",
       "      <td>1.298955e+09</td>\n",
       "    </tr>\n",
       "    <tr>\n",
       "      <th>2013-05-02</th>\n",
       "      <td>116.379997</td>\n",
       "      <td>125.599998</td>\n",
       "      <td>92.281898</td>\n",
       "      <td>105.209999</td>\n",
       "      <td>0.0</td>\n",
       "      <td>1.168517e+09</td>\n",
       "    </tr>\n",
       "    <tr>\n",
       "      <th>2013-05-03</th>\n",
       "      <td>106.250000</td>\n",
       "      <td>108.127998</td>\n",
       "      <td>79.099998</td>\n",
       "      <td>97.750000</td>\n",
       "      <td>0.0</td>\n",
       "      <td>1.085995e+09</td>\n",
       "    </tr>\n",
       "  </tbody>\n",
       "</table>\n",
       "</div>"
      ],
      "text/plain": [
       "                  open        high         low       close  volume  \\\n",
       "time_open                                                            \n",
       "2013-04-29  134.444000  147.488007  134.000000  144.539993     0.0   \n",
       "2013-04-30  144.000000  146.929993  134.050003  139.000000     0.0   \n",
       "2013-05-01  139.000000  139.889999  107.720001  116.989998     0.0   \n",
       "2013-05-02  116.379997  125.599998   92.281898  105.209999     0.0   \n",
       "2013-05-03  106.250000  108.127998   79.099998   97.750000     0.0   \n",
       "\n",
       "              market_cap  \n",
       "time_open                 \n",
       "2013-04-29  1.603769e+09  \n",
       "2013-04-30  1.542813e+09  \n",
       "2013-05-01  1.298955e+09  \n",
       "2013-05-02  1.168517e+09  \n",
       "2013-05-03  1.085995e+09  "
      ]
     },
     "execution_count": 6,
     "metadata": {},
     "output_type": "execute_result"
    }
   ],
   "source": [
    "bitcoin_series.head()"
   ]
  },
  {
   "cell_type": "code",
   "execution_count": 7,
   "id": "95923975",
   "metadata": {},
   "outputs": [
    {
     "name": "stderr",
     "output_type": "stream",
     "text": [
      "c:\\users\\caiol\\appdata\\local\\programs\\python\\python37\\lib\\site-packages\\ipykernel_launcher.py:1: SettingWithCopyWarning: \n",
      "A value is trying to be set on a copy of a slice from a DataFrame.\n",
      "Try using .loc[row_indexer,col_indexer] = value instead\n",
      "\n",
      "See the caveats in the documentation: https://pandas.pydata.org/pandas-docs/stable/user_guide/indexing.html#returning-a-view-versus-a-copy\n",
      "  \"\"\"Entry point for launching an IPython kernel.\n"
     ]
    }
   ],
   "source": [
    "bitcoin_series['target']  = np.array(bitcoin_series['close'].shift(-1) > bitcoin_series['close']).astype(int)"
   ]
  },
  {
   "cell_type": "markdown",
   "id": "bd9e0732",
   "metadata": {},
   "source": [
    "## Creating new variables"
   ]
  },
  {
   "cell_type": "code",
   "execution_count": 8,
   "id": "e6875bc5",
   "metadata": {},
   "outputs": [
    {
     "name": "stderr",
     "output_type": "stream",
     "text": [
      "c:\\users\\caiol\\appdata\\local\\programs\\python\\python37\\lib\\site-packages\\ipykernel_launcher.py:13: SettingWithCopyWarning: \n",
      "A value is trying to be set on a copy of a slice from a DataFrame.\n",
      "Try using .loc[row_indexer,col_indexer] = value instead\n",
      "\n",
      "See the caveats in the documentation: https://pandas.pydata.org/pandas-docs/stable/user_guide/indexing.html#returning-a-view-versus-a-copy\n",
      "  del sys.path[0]\n"
     ]
    }
   ],
   "source": [
    "get_rate_of_change(bitcoin_series, 'close', [3, 5, 7, 15])"
   ]
  },
  {
   "cell_type": "code",
   "execution_count": 9,
   "id": "167ad0b0",
   "metadata": {},
   "outputs": [
    {
     "name": "stderr",
     "output_type": "stream",
     "text": [
      "c:\\users\\caiol\\appdata\\local\\programs\\python\\python37\\lib\\site-packages\\ipykernel_launcher.py:19: SettingWithCopyWarning: \n",
      "A value is trying to be set on a copy of a slice from a DataFrame.\n",
      "Try using .loc[row_indexer,col_indexer] = value instead\n",
      "\n",
      "See the caveats in the documentation: https://pandas.pydata.org/pandas-docs/stable/user_guide/indexing.html#returning-a-view-versus-a-copy\n"
     ]
    }
   ],
   "source": [
    "get_moving_average(bitcoin_series, 'close', [3, 5, 7, 15])"
   ]
  },
  {
   "cell_type": "code",
   "execution_count": 10,
   "id": "40d684ff",
   "metadata": {},
   "outputs": [
    {
     "name": "stderr",
     "output_type": "stream",
     "text": [
      "c:\\users\\caiol\\appdata\\local\\programs\\python\\python37\\lib\\site-packages\\ipykernel_launcher.py:24: SettingWithCopyWarning: \n",
      "A value is trying to be set on a copy of a slice from a DataFrame.\n",
      "Try using .loc[row_indexer,col_indexer] = value instead\n",
      "\n",
      "See the caveats in the documentation: https://pandas.pydata.org/pandas-docs/stable/user_guide/indexing.html#returning-a-view-versus-a-copy\n"
     ]
    }
   ],
   "source": [
    "get_ratio(bitcoin_series, 'close', 'open')\n",
    "get_ratio(bitcoin_series, 'close', 'low')\n",
    "get_ratio(bitcoin_series, 'close', 'high')"
   ]
  },
  {
   "cell_type": "markdown",
   "id": "47b0ea83",
   "metadata": {},
   "source": [
    "## Proposed approach"
   ]
  },
  {
   "cell_type": "code",
   "execution_count": 11,
   "id": "185afe24",
   "metadata": {},
   "outputs": [
    {
     "name": "stderr",
     "output_type": "stream",
     "text": [
      "c:\\users\\caiol\\appdata\\local\\programs\\python\\python37\\lib\\site-packages\\pandas\\util\\_decorators.py:311: SettingWithCopyWarning: \n",
      "A value is trying to be set on a copy of a slice from a DataFrame\n",
      "\n",
      "See the caveats in the documentation: https://pandas.pydata.org/pandas-docs/stable/user_guide/indexing.html#returning-a-view-versus-a-copy\n",
      "  return func(*args, **kwargs)\n"
     ]
    }
   ],
   "source": [
    "bitcoin_series.dropna(axis=0, inplace=True)"
   ]
  },
  {
   "cell_type": "code",
   "execution_count": 12,
   "id": "7067b841",
   "metadata": {},
   "outputs": [],
   "source": [
    "test_series, train_series = get_train_test_data(bitcoin_series,\n",
    "                                                test_percentage = 0.1)"
   ]
  },
  {
   "cell_type": "code",
   "execution_count": 13,
   "id": "bee67df6",
   "metadata": {},
   "outputs": [],
   "source": [
    "predictors = ['close', 'open', 'high', 'low', 'volume', '3_days_of_change',\n",
    "             '5_days_of_change', '7_days_of_change', '15_days_of_change',\n",
    "             '3_day_moving_average', '5_day_moving_average', '7_day_moving_average', '15_day_moving_average',\n",
    "             'close_open_ratio', 'close_low_ratio', 'close_high_ratio', 'market_cap']"
   ]
  },
  {
   "cell_type": "code",
   "execution_count": 14,
   "id": "795c9201",
   "metadata": {},
   "outputs": [
    {
     "ename": "TypeError",
     "evalue": "Cannot clone object '<keras.engine.sequential.Sequential object at 0x000001B49FF33A58>' (type <class 'keras.engine.sequential.Sequential'>): it does not seem to be a scikit-learn estimator as it does not implement a 'get_params' method.",
     "output_type": "error",
     "traceback": [
      "\u001b[1;31m---------------------------------------------------------------------------\u001b[0m",
      "\u001b[1;31mTypeError\u001b[0m                                 Traceback (most recent call last)",
      "\u001b[1;32m~\\AppData\\Local\\Temp\\ipykernel_8288\\2517254333.py\u001b[0m in \u001b[0;36m<module>\u001b[1;34m\u001b[0m\n\u001b[0;32m      9\u001b[0m                            scoring='precision')\n\u001b[0;32m     10\u001b[0m \u001b[1;33m\u001b[0m\u001b[0m\n\u001b[1;32m---> 11\u001b[1;33m \u001b[0mgrid_search\u001b[0m\u001b[1;33m.\u001b[0m\u001b[0mfit\u001b[0m\u001b[1;33m(\u001b[0m\u001b[0mtrain_series\u001b[0m\u001b[1;33m[\u001b[0m\u001b[0mpredictors\u001b[0m\u001b[1;33m]\u001b[0m\u001b[1;33m,\u001b[0m \u001b[0mtrain_series\u001b[0m\u001b[1;33m[\u001b[0m\u001b[1;34m'target'\u001b[0m\u001b[1;33m]\u001b[0m\u001b[1;33m)\u001b[0m\u001b[1;33m\u001b[0m\u001b[1;33m\u001b[0m\u001b[0m\n\u001b[0m",
      "\u001b[1;32mc:\\users\\caiol\\appdata\\local\\programs\\python\\python37\\lib\\site-packages\\sklearn\\model_selection\\_search.py\u001b[0m in \u001b[0;36mfit\u001b[1;34m(self, X, y, groups, **fit_params)\u001b[0m\n\u001b[0;32m    803\u001b[0m         \u001b[0mn_splits\u001b[0m \u001b[1;33m=\u001b[0m \u001b[0mcv_orig\u001b[0m\u001b[1;33m.\u001b[0m\u001b[0mget_n_splits\u001b[0m\u001b[1;33m(\u001b[0m\u001b[0mX\u001b[0m\u001b[1;33m,\u001b[0m \u001b[0my\u001b[0m\u001b[1;33m,\u001b[0m \u001b[0mgroups\u001b[0m\u001b[1;33m)\u001b[0m\u001b[1;33m\u001b[0m\u001b[1;33m\u001b[0m\u001b[0m\n\u001b[0;32m    804\u001b[0m \u001b[1;33m\u001b[0m\u001b[0m\n\u001b[1;32m--> 805\u001b[1;33m         \u001b[0mbase_estimator\u001b[0m \u001b[1;33m=\u001b[0m \u001b[0mclone\u001b[0m\u001b[1;33m(\u001b[0m\u001b[0mself\u001b[0m\u001b[1;33m.\u001b[0m\u001b[0mestimator\u001b[0m\u001b[1;33m)\u001b[0m\u001b[1;33m\u001b[0m\u001b[1;33m\u001b[0m\u001b[0m\n\u001b[0m\u001b[0;32m    806\u001b[0m \u001b[1;33m\u001b[0m\u001b[0m\n\u001b[0;32m    807\u001b[0m         \u001b[0mparallel\u001b[0m \u001b[1;33m=\u001b[0m \u001b[0mParallel\u001b[0m\u001b[1;33m(\u001b[0m\u001b[0mn_jobs\u001b[0m\u001b[1;33m=\u001b[0m\u001b[0mself\u001b[0m\u001b[1;33m.\u001b[0m\u001b[0mn_jobs\u001b[0m\u001b[1;33m,\u001b[0m \u001b[0mpre_dispatch\u001b[0m\u001b[1;33m=\u001b[0m\u001b[0mself\u001b[0m\u001b[1;33m.\u001b[0m\u001b[0mpre_dispatch\u001b[0m\u001b[1;33m)\u001b[0m\u001b[1;33m\u001b[0m\u001b[1;33m\u001b[0m\u001b[0m\n",
      "\u001b[1;32mc:\\users\\caiol\\appdata\\local\\programs\\python\\python37\\lib\\site-packages\\sklearn\\base.py\u001b[0m in \u001b[0;36mclone\u001b[1;34m(estimator, safe)\u001b[0m\n\u001b[0;32m     78\u001b[0m                     \u001b[1;34m\"it does not seem to be a scikit-learn \"\u001b[0m\u001b[1;33m\u001b[0m\u001b[1;33m\u001b[0m\u001b[0m\n\u001b[0;32m     79\u001b[0m                     \u001b[1;34m\"estimator as it does not implement a \"\u001b[0m\u001b[1;33m\u001b[0m\u001b[1;33m\u001b[0m\u001b[0m\n\u001b[1;32m---> 80\u001b[1;33m                     \u001b[1;34m\"'get_params' method.\"\u001b[0m \u001b[1;33m%\u001b[0m \u001b[1;33m(\u001b[0m\u001b[0mrepr\u001b[0m\u001b[1;33m(\u001b[0m\u001b[0mestimator\u001b[0m\u001b[1;33m)\u001b[0m\u001b[1;33m,\u001b[0m \u001b[0mtype\u001b[0m\u001b[1;33m(\u001b[0m\u001b[0mestimator\u001b[0m\u001b[1;33m)\u001b[0m\u001b[1;33m)\u001b[0m\u001b[1;33m\u001b[0m\u001b[1;33m\u001b[0m\u001b[0m\n\u001b[0m\u001b[0;32m     81\u001b[0m                 )\n\u001b[0;32m     82\u001b[0m \u001b[1;33m\u001b[0m\u001b[0m\n",
      "\u001b[1;31mTypeError\u001b[0m: Cannot clone object '<keras.engine.sequential.Sequential object at 0x000001B49FF33A58>' (type <class 'keras.engine.sequential.Sequential'>): it does not seem to be a scikit-learn estimator as it does not implement a 'get_params' method."
     ]
    }
   ],
   "source": [
    "tscv = TimeSeriesSplit()\n",
    "\n",
    "param_grid = [{'epochs': [100, 200, 300]}\n",
    "]\n",
    "\n",
    "dnn = Sequential()\n",
    "\n",
    "grid_search = GridSearchCV(dnn, param_grid, cv=tscv,\n",
    "                           scoring='precision')\n",
    "\n",
    "grid_search.fit(train_series[predictors], train_series['target'])"
   ]
  },
  {
   "cell_type": "code",
   "execution_count": null,
   "id": "16e86975",
   "metadata": {},
   "outputs": [],
   "source": [
    "grid_search.best_params_"
   ]
  },
  {
   "cell_type": "code",
   "execution_count": null,
   "id": "016ffc62",
   "metadata": {},
   "outputs": [],
   "source": [
    "# criando as redes neurais \n",
    "model = Sequential()\n",
    "model.add(Dense(units=32, activation='relu', input_shape=(train[predictors].shape[1:])))\n",
    "model.add(Dense(units=10, activation='relu', input_shape=(train[predictors].shape[1:])))\n",
    "model.add(Dense(units=6, activation='relu', input_shape=(train[predictors].shape[1:])))\n",
    "model.add(Dense(1, activation = 'sigmoid'))"
   ]
  },
  {
   "cell_type": "code",
   "execution_count": null,
   "id": "7cff2d6a",
   "metadata": {},
   "outputs": [],
   "source": [
    "model.compile(optimizer='adam', loss='binary_crossentropy', metrics=['accuracy', Precision()])"
   ]
  }
 ],
 "metadata": {
  "kernelspec": {
   "display_name": "Python 3 (ipykernel)",
   "language": "python",
   "name": "python3"
  },
  "language_info": {
   "codemirror_mode": {
    "name": "ipython",
    "version": 3
   },
   "file_extension": ".py",
   "mimetype": "text/x-python",
   "name": "python",
   "nbconvert_exporter": "python",
   "pygments_lexer": "ipython3",
   "version": "3.7.1"
  }
 },
 "nbformat": 4,
 "nbformat_minor": 5
}
