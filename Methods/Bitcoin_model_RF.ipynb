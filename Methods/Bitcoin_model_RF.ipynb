{
 "cells": [
  {
   "cell_type": "markdown",
   "id": "b5fd81e2",
   "metadata": {},
   "source": [
    "# Stock price prediction: A machine learning approach\n",
    "\n",
    "Purpose: Predict stock price using Machine Learning methods, such as Support Vector Machines, Deep Neural Networks and Random Forest \\\n",
    "Authors: Caio Lopes De Souza, Silvio Sandoval Zocchi, Gabriel Rodrigues Palma"
   ]
  },
  {
   "cell_type": "markdown",
   "id": "4de7e954",
   "metadata": {},
   "source": [
    "# Packages used in the project"
   ]
  },
  {
   "cell_type": "code",
   "execution_count": 162,
   "id": "ca80ab5d",
   "metadata": {},
   "outputs": [],
   "source": [
    "# Data manipulation modules\n",
    "import pandas as pd\n",
    "pd.options.mode.chained_assignment = None\n",
    "import numpy as np\n",
    "\n",
    "# Data visualization modules\n",
    "import matplotlib.pyplot as plt\n",
    "\n",
    "# Machine Learning modules\n",
    "from sklearn.ensemble import RandomForestClassifier\n",
    "\n",
    "# Cross-validation modules \n",
    "from sklearn.model_selection import TimeSeriesSplit\n",
    "\n",
    "# Grid search module\n",
    "from sklearn.model_selection import GridSearchCV\n",
    "\n",
    "# Evaluation metrics modules\n",
    "from sklearn.metrics import precision_score\n",
    "from sklearn.metrics import recall_score\n",
    "from sklearn.metrics import accuracy_score\n",
    "from sklearn.metrics import confusion_matrix"
   ]
  },
  {
   "cell_type": "markdown",
   "id": "680f8041",
   "metadata": {},
   "source": [
    "# Functions used in this project"
   ]
  },
  {
   "cell_type": "code",
   "execution_count": 166,
   "id": "5d978125",
   "metadata": {},
   "outputs": [],
   "source": [
    "def get_currency(cripto_series, currency_name):\n",
    "    '''This function select a subset of the general cryptocurrencies dataset for a particular cryptocurrency'''\n",
    "    \n",
    "    return cripto_series.loc[cripto_series['name'] == currency_name]\n",
    "\n",
    "\n",
    "def get_train_test_data(cripto_series, test_percentage):\n",
    "    '''This functions creates the training and test data for the stock time series'''\n",
    "    time_series_length = len(cripto_series)\n",
    "    test_series = cripto_series.iloc[int(1 - time_series_length*test_percentage):]\n",
    "    train_series = cripto_series.iloc[:int(1 - time_series_length*test_percentage)]\n",
    "    \n",
    "    return(test_series, train_series)\n",
    "\n",
    "def get_rate_of_change(cripto_series, variable, n_days):\n",
    "    '''This function computes several values for the rate of change and add them into a dataset'''\n",
    "    for day in n_days: \n",
    "        variable_name = f\"{day}_days_of_change\"\n",
    "        cripto_series[variable_name] = (cripto_series[variable] - cripto_series[variable].shift(day)) / cripto_series[variable].shift(day)\n",
    "        \n",
    "def get_moving_average(cripto_series, variable, n_days):\n",
    "    '''This function computes several values for the moving average and add them into a dataset'''\n",
    "    for day in n_days:\n",
    "        variable_name = f\"{day}_day_moving_average\"\n",
    "        cripto_series[variable_name] = cripto_series[variable].rolling(day).mean()\n",
    "        \n",
    "def get_ratio(cripto_series, variable_1, variable_2):\n",
    "    '''This function computes the ratio between two variables and add it into a dataset'''\n",
    "    variable_name = f\"{variable_1}_{variable_2}_ratio\"\n",
    "    cripto_series[variable_name] = cripto_series[variable_1] / cripto_series[variable_2]\n",
    "    \n",
    "def train_and_predict(model, train_predictors, train_target, test_predictors):\n",
    "    '''This function fits a model and then make predictions on it for a given amount of data'''\n",
    "    model.fit(train_predictors, train_target)\n",
    "    preds = model.predict(test_predictors)\n",
    "    preds = pd.Series(preds, index=test_series.index)\n",
    "    return preds"
   ]
  },
  {
   "cell_type": "markdown",
   "id": "cea476bb",
   "metadata": {},
   "source": [
    "## Reading the Data"
   ]
  },
  {
   "cell_type": "code",
   "execution_count": 173,
   "id": "bb6e50e2",
   "metadata": {},
   "outputs": [],
   "source": [
    "crypto_series = pd.read_csv('https://raw.githubusercontent.com/CaioLSouza/stock_price_prediction/main/Data/revolut_crypto_data.csv', index_col='time_open')\n",
    "\n",
    "bitcoin_series = get_currency(crypto_series, 'Bitcoin')"
   ]
  },
  {
   "cell_type": "markdown",
   "id": "c4f5559d",
   "metadata": {},
   "source": [
    "## Cleaning variables"
   ]
  },
  {
   "cell_type": "code",
   "execution_count": 178,
   "id": "7fcbfc69",
   "metadata": {},
   "outputs": [
    {
     "data": {
      "text/html": [
       "<div>\n",
       "<style scoped>\n",
       "    .dataframe tbody tr th:only-of-type {\n",
       "        vertical-align: middle;\n",
       "    }\n",
       "\n",
       "    .dataframe tbody tr th {\n",
       "        vertical-align: top;\n",
       "    }\n",
       "\n",
       "    .dataframe thead th {\n",
       "        text-align: right;\n",
       "    }\n",
       "</style>\n",
       "<table border=\"1\" class=\"dataframe\">\n",
       "  <thead>\n",
       "    <tr style=\"text-align: right;\">\n",
       "      <th></th>\n",
       "      <th>open</th>\n",
       "      <th>high</th>\n",
       "      <th>low</th>\n",
       "      <th>close</th>\n",
       "      <th>volume</th>\n",
       "      <th>market_cap</th>\n",
       "    </tr>\n",
       "    <tr>\n",
       "      <th>time_open</th>\n",
       "      <th></th>\n",
       "      <th></th>\n",
       "      <th></th>\n",
       "      <th></th>\n",
       "      <th></th>\n",
       "      <th></th>\n",
       "    </tr>\n",
       "  </thead>\n",
       "  <tbody>\n",
       "    <tr>\n",
       "      <th>2013-04-29</th>\n",
       "      <td>134.444000</td>\n",
       "      <td>147.488007</td>\n",
       "      <td>134.000000</td>\n",
       "      <td>144.539993</td>\n",
       "      <td>0.0</td>\n",
       "      <td>1.603769e+09</td>\n",
       "    </tr>\n",
       "    <tr>\n",
       "      <th>2013-04-30</th>\n",
       "      <td>144.000000</td>\n",
       "      <td>146.929993</td>\n",
       "      <td>134.050003</td>\n",
       "      <td>139.000000</td>\n",
       "      <td>0.0</td>\n",
       "      <td>1.542813e+09</td>\n",
       "    </tr>\n",
       "    <tr>\n",
       "      <th>2013-05-01</th>\n",
       "      <td>139.000000</td>\n",
       "      <td>139.889999</td>\n",
       "      <td>107.720001</td>\n",
       "      <td>116.989998</td>\n",
       "      <td>0.0</td>\n",
       "      <td>1.298955e+09</td>\n",
       "    </tr>\n",
       "    <tr>\n",
       "      <th>2013-05-02</th>\n",
       "      <td>116.379997</td>\n",
       "      <td>125.599998</td>\n",
       "      <td>92.281898</td>\n",
       "      <td>105.209999</td>\n",
       "      <td>0.0</td>\n",
       "      <td>1.168517e+09</td>\n",
       "    </tr>\n",
       "    <tr>\n",
       "      <th>2013-05-03</th>\n",
       "      <td>106.250000</td>\n",
       "      <td>108.127998</td>\n",
       "      <td>79.099998</td>\n",
       "      <td>97.750000</td>\n",
       "      <td>0.0</td>\n",
       "      <td>1.085995e+09</td>\n",
       "    </tr>\n",
       "  </tbody>\n",
       "</table>\n",
       "</div>"
      ],
      "text/plain": [
       "                  open        high         low       close  volume  \\\n",
       "time_open                                                            \n",
       "2013-04-29  134.444000  147.488007  134.000000  144.539993     0.0   \n",
       "2013-04-30  144.000000  146.929993  134.050003  139.000000     0.0   \n",
       "2013-05-01  139.000000  139.889999  107.720001  116.989998     0.0   \n",
       "2013-05-02  116.379997  125.599998   92.281898  105.209999     0.0   \n",
       "2013-05-03  106.250000  108.127998   79.099998   97.750000     0.0   \n",
       "\n",
       "              market_cap  \n",
       "time_open                 \n",
       "2013-04-29  1.603769e+09  \n",
       "2013-04-30  1.542813e+09  \n",
       "2013-05-01  1.298955e+09  \n",
       "2013-05-02  1.168517e+09  \n",
       "2013-05-03  1.085995e+09  "
      ]
     },
     "execution_count": 178,
     "metadata": {},
     "output_type": "execute_result"
    }
   ],
   "source": [
    "bitcoin_series.head()"
   ]
  },
  {
   "cell_type": "code",
   "execution_count": 174,
   "id": "dfdb4a98",
   "metadata": {},
   "outputs": [],
   "source": [
    "bitcoin_series.drop(['timestamp', 'id', 'Unnamed: 0', 'slug', 'time_close', 'time_high', 'time_low', 'name', 'symbol', 'ref_cur'], axis=1, inplace=True)"
   ]
  },
  {
   "cell_type": "markdown",
   "id": "c54fdbf7",
   "metadata": {},
   "source": [
    "## Creating new variables"
   ]
  },
  {
   "cell_type": "code",
   "execution_count": 120,
   "id": "ec95c929",
   "metadata": {},
   "outputs": [],
   "source": [
    "# target variable\n",
    "bitcoin_series['target']  = np.array(bitcoin_series['close'].shift(-1) > bitcoin_series['close']).astype(int) "
   ]
  },
  {
   "cell_type": "code",
   "execution_count": 121,
   "id": "1b111f06",
   "metadata": {},
   "outputs": [],
   "source": [
    "get_rate_of_change(bitcoin_series, 'close', [3, 5, 7, 15])"
   ]
  },
  {
   "cell_type": "code",
   "execution_count": 122,
   "id": "27aa048d",
   "metadata": {},
   "outputs": [],
   "source": [
    "get_moving_average(bitcoin_series, 'close', [3, 5, 7, 15])"
   ]
  },
  {
   "cell_type": "code",
   "execution_count": 123,
   "id": "ce78abd7",
   "metadata": {},
   "outputs": [],
   "source": [
    "get_ratio(bitcoin_series, 'close', 'open')\n",
    "get_ratio(bitcoin_series, 'close', 'low')\n",
    "get_ratio(bitcoin_series, 'close', 'high')"
   ]
  },
  {
   "cell_type": "markdown",
   "id": "52382e08",
   "metadata": {},
   "source": [
    "## Proposed approach"
   ]
  },
  {
   "cell_type": "code",
   "execution_count": 125,
   "id": "285754b6",
   "metadata": {},
   "outputs": [],
   "source": [
    "bitcoin_series.dropna(axis=0, inplace=True)"
   ]
  },
  {
   "cell_type": "code",
   "execution_count": 126,
   "id": "410d08a3",
   "metadata": {},
   "outputs": [],
   "source": [
    "test_series, train_series = get_train_test_data(bitcoin_series,\n",
    "                                                test_percentage = 0.1)"
   ]
  },
  {
   "cell_type": "code",
   "execution_count": 127,
   "id": "42bc7342",
   "metadata": {},
   "outputs": [],
   "source": [
    "predictors = ['close', 'open', 'high', 'low', 'volume', '3_days_of_change',\n",
    "             '5_days_of_change', '7_days_of_change', '15_days_of_change',\n",
    "             '3_day_moving_average', '5_day_moving_average', '7_day_moving_average', '15_day_moving_average',\n",
    "             'close_open_ratio', 'close_low_ratio', 'close_high_ratio', 'market_cap']"
   ]
  },
  {
   "cell_type": "code",
   "execution_count": 128,
   "id": "fac96c9f",
   "metadata": {},
   "outputs": [
    {
     "data": {
      "text/plain": [
       "GridSearchCV(cv=TimeSeriesSplit(gap=0, max_train_size=None, n_splits=5, test_size=None),\n",
       "             estimator=RandomForestClassifier(),\n",
       "             param_grid=[{'max_depth': [400, 500, 600],\n",
       "                          'min_samples_split': [100, 200, 300],\n",
       "                          'n_estimators': [100, 200, 300, 400, 500]}],\n",
       "             scoring='precision')"
      ]
     },
     "execution_count": 128,
     "metadata": {},
     "output_type": "execute_result"
    }
   ],
   "source": [
    "tscv = TimeSeriesSplit()\n",
    "\n",
    "param_grid = [\n",
    "    {'n_estimators': [100, 200, 300, 400, 500], 'max_depth': [400, 500, 600], 'min_samples_split': [100, 200, 300]}\n",
    "]\n",
    "\n",
    "forest_class = RandomForestClassifier()\n",
    "\n",
    "grid_search = GridSearchCV(forest_class, param_grid, cv=tscv,\n",
    "                           scoring='precision')\n",
    "\n",
    "grid_search.fit(train_series[predictors], train_series['target'])\n",
    "\n",
    "grid_search.best_params_"
   ]
  },
  {
   "cell_type": "code",
   "execution_count": 146,
   "id": "8c6a6106",
   "metadata": {},
   "outputs": [],
   "source": [
    "model = RandomForestClassifier(n_estimators=400, min_samples_split = 200, max_depth=600 ,random_state=True)"
   ]
  },
  {
   "cell_type": "code",
   "execution_count": 147,
   "id": "01999e53",
   "metadata": {},
   "outputs": [],
   "source": [
    "preds = train_and_predict(model, train_series[predictors], \n",
    "                          train_series['target'], test_series[predictors])"
   ]
  },
  {
   "cell_type": "code",
   "execution_count": 161,
   "id": "f42186fc",
   "metadata": {},
   "outputs": [
    {
     "name": "stdout",
     "output_type": "stream",
     "text": [
      "The accuracy of the model is: 0.5194029850746269\n",
      "The precision of the model is: 0.5077720207253886\n",
      "The recall of the model is: 0.5975609756097561\n"
     ]
    }
   ],
   "source": [
    "print(f\"The accuracy of the model is: {accuracy_score(test_series['target'], preds)}\")\n",
    "print(f\"The precision of the model is: {precision_score(test_series['target'], preds)}\")\n",
    "print(f\"The recall of the model is: {recall_score(test_series['target'], preds)}\")"
   ]
  },
  {
   "cell_type": "code",
   "execution_count": 165,
   "id": "273a959b",
   "metadata": {},
   "outputs": [
    {
     "data": {
      "text/plain": [
       "array([[76, 95],\n",
       "       [66, 98]], dtype=int64)"
      ]
     },
     "execution_count": 165,
     "metadata": {},
     "output_type": "execute_result"
    }
   ],
   "source": [
    "confusion_matrix(test_series['target'], preds)"
   ]
  }
 ],
 "metadata": {
  "kernelspec": {
   "display_name": "Python 3 (ipykernel)",
   "language": "python",
   "name": "python3"
  },
  "language_info": {
   "codemirror_mode": {
    "name": "ipython",
    "version": 3
   },
   "file_extension": ".py",
   "mimetype": "text/x-python",
   "name": "python",
   "nbconvert_exporter": "python",
   "pygments_lexer": "ipython3",
   "version": "3.7.1"
  }
 },
 "nbformat": 4,
 "nbformat_minor": 5
}
