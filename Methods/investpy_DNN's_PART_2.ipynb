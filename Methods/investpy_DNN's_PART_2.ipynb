{
 "cells": [
  {
   "cell_type": "code",
   "execution_count": 1,
   "id": "613f1b34",
   "metadata": {},
   "outputs": [],
   "source": [
    "import investpy"
   ]
  },
  {
   "cell_type": "code",
   "execution_count": 35,
   "id": "31c78013",
   "metadata": {},
   "outputs": [],
   "source": [
    "# Data manipulation modules\n",
    "import pandas as pd\n",
    "pd.options.mode.chained_assignment = None\n",
    "import numpy as np\n",
    "import yfinance as yf\n",
    "\n",
    "# Data visualization modules\n",
    "import matplotlib.pyplot as plt\n",
    "\n",
    "# Machine Learning modules\n",
    "from keras.models import Sequential\n",
    "from keras.layers import Activation, Dense\n",
    "\n",
    "# Cross-validation modules \n",
    "from sklearn.model_selection import TimeSeriesSplit\n",
    "\n",
    "# Grid search module\n",
    "from sklearn.model_selection import GridSearchCV\n",
    "\n",
    "# Evaluation metrics modules\n",
    "from sklearn.metrics import precision_score\n",
    "from sklearn.metrics import recall_score\n",
    "from sklearn.metrics import accuracy_score\n",
    "from sklearn.metrics import confusion_matrix\n",
    "from tensorflow.keras.metrics import Precision"
   ]
  },
  {
   "cell_type": "code",
   "execution_count": 36,
   "id": "48ace5d9",
   "metadata": {},
   "outputs": [],
   "source": [
    "def get_train_test_data(cripto_series, test_percentage):\n",
    "    '''This functions creates the training and test data for the stock time series'''\n",
    "    time_series_length = len(cripto_series)\n",
    "    test_series = cripto_series.iloc[int(time_series_length*(1-test_percentage)):time_series_length]\n",
    "    train_series = cripto_series.iloc[:-int(time_series_length*test_percentage)]\n",
    "    \n",
    "    return(test_series, train_series)\n",
    "\n",
    "def get_rate_of_change(cripto_series, variable, n_days):\n",
    "    '''This function computes several values for the rate of change and add them into a dataset'''\n",
    "    for day in n_days: \n",
    "        variable_name = f\"{day}_days_of_change\"\n",
    "        cripto_series[variable_name] = (cripto_series[variable] - cripto_series[variable].shift(day)) / cripto_series[variable].shift(day)\n",
    "        \n",
    "def get_moving_average(cripto_series, variable, n_days):\n",
    "    '''This function computes several values for the moving average and add them into a dataset'''\n",
    "    for day in n_days:\n",
    "        variable_name = f\"{day}_day_moving_average\"\n",
    "        cripto_series[variable_name] = cripto_series[variable].rolling(day).mean()\n",
    "        \n",
    "def get_ratio(cripto_series, variable_1, variable_2):\n",
    "    '''This function computes the ratio between two variables and add it into a dataset'''\n",
    "    variable_name = f\"{variable_1}_{variable_2}_ratio\"\n",
    "    cripto_series[variable_name] = cripto_series[variable_1] / cripto_series[variable_2]\n",
    "    \n",
    "def get_difference(cripto_series, variable_1, variable_2):\n",
    "    '''This function computes the difference between the values of two variables and add it into a dataset'''\n",
    "    variable_name = f\"{variable_1}_{variable_2}_difference\"\n",
    "    cripto_series[variable_name] = cripto_series[variable_1] - cripto_series[variable_2] \n",
    "    \n",
    "def train_and_predict(model, train_predictors, train_target, test_predictors):\n",
    "    '''This function fits a model and then make predictions on it for a given amount of data'''\n",
    "    model.fit(train_predictors, train_target)\n",
    "    preds = model.predict(test_predictors)\n",
    "    preds = pd.Series(preds, index=test_series_2.index)\n",
    "    return preds"
   ]
  },
  {
   "cell_type": "code",
   "execution_count": 37,
   "id": "9b838f1c",
   "metadata": {},
   "outputs": [],
   "source": [
    "stock_series = investpy.stocks.get_stock_historical_data('PETR4', 'brazil', from_date = '01/01/2002', to_date='01/08/2022')"
   ]
  },
  {
   "cell_type": "code",
   "execution_count": 38,
   "id": "3d54666f",
   "metadata": {},
   "outputs": [
    {
     "data": {
      "text/html": [
       "<div>\n",
       "<style scoped>\n",
       "    .dataframe tbody tr th:only-of-type {\n",
       "        vertical-align: middle;\n",
       "    }\n",
       "\n",
       "    .dataframe tbody tr th {\n",
       "        vertical-align: top;\n",
       "    }\n",
       "\n",
       "    .dataframe thead th {\n",
       "        text-align: right;\n",
       "    }\n",
       "</style>\n",
       "<table border=\"1\" class=\"dataframe\">\n",
       "  <thead>\n",
       "    <tr style=\"text-align: right;\">\n",
       "      <th></th>\n",
       "      <th>Open</th>\n",
       "      <th>High</th>\n",
       "      <th>Low</th>\n",
       "      <th>Close</th>\n",
       "      <th>Volume</th>\n",
       "      <th>Currency</th>\n",
       "    </tr>\n",
       "    <tr>\n",
       "      <th>Date</th>\n",
       "      <th></th>\n",
       "      <th></th>\n",
       "      <th></th>\n",
       "      <th></th>\n",
       "      <th></th>\n",
       "      <th></th>\n",
       "    </tr>\n",
       "  </thead>\n",
       "  <tbody>\n",
       "    <tr>\n",
       "      <th>2002-01-02</th>\n",
       "      <td>4.73</td>\n",
       "      <td>4.79</td>\n",
       "      <td>4.72</td>\n",
       "      <td>4.73</td>\n",
       "      <td>23979552</td>\n",
       "      <td>BRL</td>\n",
       "    </tr>\n",
       "    <tr>\n",
       "      <th>2002-01-03</th>\n",
       "      <td>4.75</td>\n",
       "      <td>4.80</td>\n",
       "      <td>4.74</td>\n",
       "      <td>4.76</td>\n",
       "      <td>39124800</td>\n",
       "      <td>BRL</td>\n",
       "    </tr>\n",
       "    <tr>\n",
       "      <th>2002-01-04</th>\n",
       "      <td>4.76</td>\n",
       "      <td>4.76</td>\n",
       "      <td>4.67</td>\n",
       "      <td>4.73</td>\n",
       "      <td>21548832</td>\n",
       "      <td>BRL</td>\n",
       "    </tr>\n",
       "    <tr>\n",
       "      <th>2002-01-07</th>\n",
       "      <td>4.71</td>\n",
       "      <td>4.87</td>\n",
       "      <td>4.71</td>\n",
       "      <td>4.83</td>\n",
       "      <td>40547104</td>\n",
       "      <td>BRL</td>\n",
       "    </tr>\n",
       "    <tr>\n",
       "      <th>2002-01-08</th>\n",
       "      <td>4.83</td>\n",
       "      <td>4.83</td>\n",
       "      <td>4.77</td>\n",
       "      <td>4.80</td>\n",
       "      <td>34469888</td>\n",
       "      <td>BRL</td>\n",
       "    </tr>\n",
       "  </tbody>\n",
       "</table>\n",
       "</div>"
      ],
      "text/plain": [
       "            Open  High   Low  Close    Volume Currency\n",
       "Date                                                  \n",
       "2002-01-02  4.73  4.79  4.72   4.73  23979552      BRL\n",
       "2002-01-03  4.75  4.80  4.74   4.76  39124800      BRL\n",
       "2002-01-04  4.76  4.76  4.67   4.73  21548832      BRL\n",
       "2002-01-07  4.71  4.87  4.71   4.83  40547104      BRL\n",
       "2002-01-08  4.83  4.83  4.77   4.80  34469888      BRL"
      ]
     },
     "execution_count": 38,
     "metadata": {},
     "output_type": "execute_result"
    }
   ],
   "source": [
    "stock_series.head()"
   ]
  },
  {
   "cell_type": "code",
   "execution_count": 39,
   "id": "ff74a7c9",
   "metadata": {},
   "outputs": [],
   "source": [
    "test_series, train_series = get_train_test_data(stock_series, test_percentage=0.1)"
   ]
  },
  {
   "cell_type": "markdown",
   "id": "37a7fcf1",
   "metadata": {},
   "source": [
    "## Applying the new variables"
   ]
  },
  {
   "cell_type": "code",
   "execution_count": 40,
   "id": "4cd07e22",
   "metadata": {},
   "outputs": [],
   "source": [
    "train_series['target']  = np.array(train_series['Close'].shift(-1) > train_series['Close']).astype(int) "
   ]
  },
  {
   "cell_type": "code",
   "execution_count": 41,
   "id": "b14d527e",
   "metadata": {},
   "outputs": [],
   "source": [
    "get_rate_of_change(train_series, 'Close', [3, 5, 7, 15])"
   ]
  },
  {
   "cell_type": "code",
   "execution_count": 42,
   "id": "bd0e462a",
   "metadata": {},
   "outputs": [],
   "source": [
    "get_difference(train_series, 'Close', 'Open')\n",
    "get_difference(train_series, 'High', 'Low')"
   ]
  },
  {
   "cell_type": "code",
   "execution_count": 43,
   "id": "7caa4f97",
   "metadata": {},
   "outputs": [],
   "source": [
    "train_series['low_dif'] = (train_series['Low'] - train_series['Low'].shift(1))\n",
    "train_series['high_dif'] = train_series['High'] - train_series['High'].shift(1)"
   ]
  },
  {
   "cell_type": "code",
   "execution_count": 44,
   "id": "49857fe4",
   "metadata": {},
   "outputs": [],
   "source": [
    "get_ratio(train_series, 'Open', 'Close')\n",
    "get_ratio(train_series, 'High', 'Close')\n",
    "get_ratio(train_series, 'Low', 'Close')"
   ]
  },
  {
   "cell_type": "code",
   "execution_count": 45,
   "id": "c327e5f7",
   "metadata": {},
   "outputs": [],
   "source": [
    "train_series.drop('Currency', axis=1, inplace=True)"
   ]
  },
  {
   "cell_type": "code",
   "execution_count": 46,
   "id": "845f54a3",
   "metadata": {},
   "outputs": [],
   "source": [
    "train_series.dropna(axis=0, inplace=True)"
   ]
  },
  {
   "cell_type": "code",
   "execution_count": 47,
   "id": "8fa35cf6",
   "metadata": {},
   "outputs": [],
   "source": [
    "test_series['target']  = np.array(test_series['Close'].shift(-1) > test_series['Close']).astype(int) "
   ]
  },
  {
   "cell_type": "code",
   "execution_count": 48,
   "id": "9f87a6dd",
   "metadata": {},
   "outputs": [],
   "source": [
    "get_rate_of_change(test_series, 'Close', [3, 5, 7, 15])"
   ]
  },
  {
   "cell_type": "code",
   "execution_count": 49,
   "id": "814b986b",
   "metadata": {},
   "outputs": [],
   "source": [
    "get_difference(test_series, 'Close', 'Open')\n",
    "get_difference(test_series, 'High', 'Low')"
   ]
  },
  {
   "cell_type": "code",
   "execution_count": 50,
   "id": "0a2073c0",
   "metadata": {},
   "outputs": [],
   "source": [
    "test_series['low_dif'] = (test_series['Low'] - test_series['Low'].shift(1))\n",
    "test_series['high_dif'] = test_series['High'] - test_series['High'].shift(1)"
   ]
  },
  {
   "cell_type": "code",
   "execution_count": 51,
   "id": "ae03825a",
   "metadata": {},
   "outputs": [],
   "source": [
    "get_ratio(test_series, 'Open', 'Close')\n",
    "get_ratio(test_series, 'High', 'Close')\n",
    "get_ratio(test_series, 'Low', 'Close')"
   ]
  },
  {
   "cell_type": "code",
   "execution_count": 52,
   "id": "d06eb28f",
   "metadata": {},
   "outputs": [],
   "source": [
    "test_series.drop('Currency', axis=1, inplace=True)"
   ]
  },
  {
   "cell_type": "code",
   "execution_count": 53,
   "id": "e1f56e01",
   "metadata": {},
   "outputs": [],
   "source": [
    "test_series.dropna(axis=0, inplace=True)"
   ]
  },
  {
   "cell_type": "code",
   "execution_count": 54,
   "id": "a86f6e7a",
   "metadata": {},
   "outputs": [
    {
     "name": "stdout",
     "output_type": "stream",
     "text": [
      "Index(['Open', 'High', 'Low', 'Close', 'Volume', 'target', '3_days_of_change',\n",
      "       '5_days_of_change', '7_days_of_change', '15_days_of_change',\n",
      "       'Close_Open_difference', 'High_Low_difference', 'low_dif', 'high_dif',\n",
      "       'Open_Close_ratio', 'High_Close_ratio', 'Low_Close_ratio'],\n",
      "      dtype='object')\n",
      "Index(['Open', 'High', 'Low', 'Close', 'Volume', 'target', '3_days_of_change',\n",
      "       '5_days_of_change', '7_days_of_change', '15_days_of_change',\n",
      "       'Close_Open_difference', 'High_Low_difference', 'low_dif', 'high_dif',\n",
      "       'Open_Close_ratio', 'High_Close_ratio', 'Low_Close_ratio'],\n",
      "      dtype='object')\n"
     ]
    }
   ],
   "source": [
    "print(train_series.columns)\n",
    "print(test_series.columns)"
   ]
  },
  {
   "cell_type": "code",
   "execution_count": 55,
   "id": "a5f026d3",
   "metadata": {},
   "outputs": [],
   "source": [
    "predictors = ['Open', 'High', 'Low', 'Close', 'Volume',\n",
    "       '3_days_of_change', '5_days_of_change', '7_days_of_change',\n",
    "       '15_days_of_change', 'Close_Open_difference', 'High_Low_difference',\n",
    "       'low_dif', 'high_dif', 'Open_Close_ratio', 'High_Close_ratio',\n",
    "       'Low_Close_ratio']"
   ]
  },
  {
   "cell_type": "code",
   "execution_count": 56,
   "id": "b14c0103",
   "metadata": {},
   "outputs": [],
   "source": [
    "model = Sequential()\n",
    "model.add(Dense(units=32, activation='relu', input_shape=(train_series[predictors].shape[1:])))\n",
    "model.add(Dense(units=10, activation='relu', input_shape=(train_series[predictors].shape[1:])))\n",
    "model.add(Dense(units=6, activation='relu', input_shape=(train_series[predictors].shape[1:])))\n",
    "model.add(Dense(1, activation = 'sigmoid'))"
   ]
  },
  {
   "cell_type": "code",
   "execution_count": 57,
   "id": "7d066621",
   "metadata": {},
   "outputs": [],
   "source": [
    "model.compile(optimizer='adam', loss='binary_crossentropy', metrics=['accuracy', Precision()])"
   ]
  },
  {
   "cell_type": "code",
   "execution_count": 58,
   "id": "6188b09a",
   "metadata": {},
   "outputs": [
    {
     "name": "stdout",
     "output_type": "stream",
     "text": [
      "Epoch 1/100\n",
      "458/458 [==============================] - 2s 2ms/step - loss: 22434.6641 - accuracy: 0.5047 - precision_1: 0.5162\n",
      "Epoch 2/100\n",
      "458/458 [==============================] - 1s 2ms/step - loss: 5307.6768 - accuracy: 0.5003 - precision_1: 0.5115\n",
      "Epoch 3/100\n",
      "458/458 [==============================] - 1s 2ms/step - loss: 4402.8418 - accuracy: 0.5060 - precision_1: 0.5167\n",
      "Epoch 4/100\n",
      "458/458 [==============================] - 2s 3ms/step - loss: 3378.8989 - accuracy: 0.4975 - precision_1: 0.5086\n",
      "Epoch 5/100\n",
      "458/458 [==============================] - 1s 3ms/step - loss: 2984.7344 - accuracy: 0.5014 - precision_1: 0.5126\n",
      "Epoch 6/100\n",
      "458/458 [==============================] - 1s 2ms/step - loss: 2710.0400 - accuracy: 0.4992 - precision_1: 0.5103\n",
      "Epoch 7/100\n",
      "458/458 [==============================] - 1s 3ms/step - loss: 3016.9048 - accuracy: 0.4977 - precision_1: 0.5090\n",
      "Epoch 8/100\n",
      "458/458 [==============================] - 1s 2ms/step - loss: 1808.7072 - accuracy: 0.4903 - precision_1: 0.5017\n",
      "Epoch 9/100\n",
      "458/458 [==============================] - 1s 3ms/step - loss: 1393.3212 - accuracy: 0.4953 - precision_1: 0.5067\n",
      "Epoch 10/100\n",
      "458/458 [==============================] - 1s 2ms/step - loss: 1913.9762 - accuracy: 0.5038 - precision_1: 0.5148\n",
      "Epoch 11/100\n",
      "458/458 [==============================] - 1s 2ms/step - loss: 1250.5945 - accuracy: 0.4874 - precision_1: 0.4989\n",
      "Epoch 12/100\n",
      "458/458 [==============================] - 1s 2ms/step - loss: 962.5337 - accuracy: 0.5080 - precision_1: 0.5186\n",
      "Epoch 13/100\n",
      "458/458 [==============================] - 1s 2ms/step - loss: 859.0931 - accuracy: 0.4986 - precision_1: 0.5098\n",
      "Epoch 14/100\n",
      "458/458 [==============================] - 1s 2ms/step - loss: 482.1746 - accuracy: 0.4911 - precision_1: 0.5025\n",
      "Epoch 15/100\n",
      "458/458 [==============================] - 1s 3ms/step - loss: 602.4061 - accuracy: 0.4927 - precision_1: 0.5040\n",
      "Epoch 16/100\n",
      "458/458 [==============================] - 1s 2ms/step - loss: 424.0338 - accuracy: 0.5080 - precision_1: 0.5188\n",
      "Epoch 17/100\n",
      "458/458 [==============================] - 1s 2ms/step - loss: 280.5264 - accuracy: 0.5016 - precision_1: 0.5127\n",
      "Epoch 18/100\n",
      "458/458 [==============================] - 1s 3ms/step - loss: 224.4921 - accuracy: 0.4831 - precision_1: 0.4946\n",
      "Epoch 19/100\n",
      "458/458 [==============================] - 1s 2ms/step - loss: 3.0679 - accuracy: 0.4927 - precision_1: 0.5040\n",
      "Epoch 20/100\n",
      "458/458 [==============================] - 1s 2ms/step - loss: 1.4031 - accuracy: 0.5104 - precision_1: 0.5267\n",
      "Epoch 21/100\n",
      "458/458 [==============================] - 1s 2ms/step - loss: 0.6939 - accuracy: 0.4885 - precision_1: 0.0000e+00\n",
      "Epoch 22/100\n",
      "458/458 [==============================] - 1s 2ms/step - loss: 0.6933 - accuracy: 0.4879 - precision_1: 0.4651\n",
      "Epoch 23/100\n",
      "458/458 [==============================] - 1s 3ms/step - loss: 0.6931 - accuracy: 0.5005 - precision_1: 0.5069\n",
      "Epoch 24/100\n",
      "458/458 [==============================] - 1s 2ms/step - loss: 0.6930 - accuracy: 0.5115 - precision_1: 0.5115\n",
      "Epoch 25/100\n",
      "458/458 [==============================] - 1s 3ms/step - loss: 0.6929 - accuracy: 0.5115 - precision_1: 0.5115\n",
      "Epoch 26/100\n",
      "458/458 [==============================] - 1s 3ms/step - loss: 0.6929 - accuracy: 0.5115 - precision_1: 0.5115\n",
      "Epoch 27/100\n",
      "458/458 [==============================] - 1s 3ms/step - loss: 0.6929 - accuracy: 0.5115 - precision_1: 0.5115\n",
      "Epoch 28/100\n",
      "458/458 [==============================] - 1s 2ms/step - loss: 0.6929 - accuracy: 0.5115 - precision_1: 0.5115\n",
      "Epoch 29/100\n",
      "458/458 [==============================] - 1s 3ms/step - loss: 0.6929 - accuracy: 0.5115 - precision_1: 0.5115\n",
      "Epoch 30/100\n",
      "458/458 [==============================] - 1s 3ms/step - loss: 0.6930 - accuracy: 0.5115 - precision_1: 0.5115\n",
      "Epoch 31/100\n",
      "458/458 [==============================] - 1s 3ms/step - loss: 0.6929 - accuracy: 0.5115 - precision_1: 0.5115\n",
      "Epoch 32/100\n",
      "458/458 [==============================] - 1s 2ms/step - loss: 0.6929 - accuracy: 0.5115 - precision_1: 0.5115\n",
      "Epoch 33/100\n",
      "458/458 [==============================] - 1s 2ms/step - loss: 0.6930 - accuracy: 0.5115 - precision_1: 0.5115\n",
      "Epoch 34/100\n",
      "458/458 [==============================] - 1s 2ms/step - loss: 0.6929 - accuracy: 0.5115 - precision_1: 0.5115\n",
      "Epoch 35/100\n",
      "458/458 [==============================] - 1s 2ms/step - loss: 0.6929 - accuracy: 0.5115 - precision_1: 0.5115\n",
      "Epoch 36/100\n",
      "458/458 [==============================] - 1s 2ms/step - loss: 0.6929 - accuracy: 0.5115 - precision_1: 0.5115\n",
      "Epoch 37/100\n",
      "458/458 [==============================] - 1s 2ms/step - loss: 0.6930 - accuracy: 0.5115 - precision_1: 0.5115\n",
      "Epoch 38/100\n",
      "458/458 [==============================] - 1s 2ms/step - loss: 0.6930 - accuracy: 0.5115 - precision_1: 0.5115\n",
      "Epoch 39/100\n",
      "458/458 [==============================] - 1s 2ms/step - loss: 0.6929 - accuracy: 0.5115 - precision_1: 0.5115\n",
      "Epoch 40/100\n",
      "458/458 [==============================] - 1s 2ms/step - loss: 0.6930 - accuracy: 0.5115 - precision_1: 0.5115\n",
      "Epoch 41/100\n",
      "458/458 [==============================] - 1s 2ms/step - loss: 0.6930 - accuracy: 0.5115 - precision_1: 0.5115\n",
      "Epoch 42/100\n",
      "458/458 [==============================] - 1s 2ms/step - loss: 0.6930 - accuracy: 0.5115 - precision_1: 0.5115\n",
      "Epoch 43/100\n",
      "458/458 [==============================] - 1s 2ms/step - loss: 0.6929 - accuracy: 0.5115 - precision_1: 0.5115\n",
      "Epoch 44/100\n",
      "458/458 [==============================] - 1s 2ms/step - loss: 0.6929 - accuracy: 0.5115 - precision_1: 0.5115\n",
      "Epoch 45/100\n",
      "458/458 [==============================] - 1s 3ms/step - loss: 0.6930 - accuracy: 0.5115 - precision_1: 0.5115\n",
      "Epoch 46/100\n",
      "458/458 [==============================] - 1s 3ms/step - loss: 0.6930 - accuracy: 0.5115 - precision_1: 0.5115\n",
      "Epoch 47/100\n",
      "458/458 [==============================] - 1s 3ms/step - loss: 0.6929 - accuracy: 0.5115 - precision_1: 0.5115\n",
      "Epoch 48/100\n",
      "458/458 [==============================] - 1s 3ms/step - loss: 0.6929 - accuracy: 0.5115 - precision_1: 0.5115\n",
      "Epoch 49/100\n",
      "458/458 [==============================] - 1s 3ms/step - loss: 0.6929 - accuracy: 0.5115 - precision_1: 0.5115\n",
      "Epoch 50/100\n",
      "458/458 [==============================] - 1s 2ms/step - loss: 0.6929 - accuracy: 0.5115 - precision_1: 0.5115\n",
      "Epoch 51/100\n",
      "458/458 [==============================] - 1s 2ms/step - loss: 0.6929 - accuracy: 0.5115 - precision_1: 0.5115\n",
      "Epoch 52/100\n",
      "458/458 [==============================] - 1s 2ms/step - loss: 0.6929 - accuracy: 0.5115 - precision_1: 0.5115\n",
      "Epoch 53/100\n",
      "458/458 [==============================] - 1s 2ms/step - loss: 0.6929 - accuracy: 0.5115 - precision_1: 0.5115\n",
      "Epoch 54/100\n",
      "458/458 [==============================] - 1s 2ms/step - loss: 0.6930 - accuracy: 0.5115 - precision_1: 0.5115\n",
      "Epoch 55/100\n",
      "458/458 [==============================] - 1s 2ms/step - loss: 0.6930 - accuracy: 0.5115 - precision_1: 0.5115\n",
      "Epoch 56/100\n",
      "458/458 [==============================] - 1s 2ms/step - loss: 0.6929 - accuracy: 0.5115 - precision_1: 0.5115\n",
      "Epoch 57/100\n",
      "458/458 [==============================] - 1s 2ms/step - loss: 0.6929 - accuracy: 0.5115 - precision_1: 0.5115\n",
      "Epoch 58/100\n",
      "458/458 [==============================] - 1s 3ms/step - loss: 0.6929 - accuracy: 0.5115 - precision_1: 0.5115\n",
      "Epoch 59/100\n",
      "458/458 [==============================] - 1s 3ms/step - loss: 0.6930 - accuracy: 0.5115 - precision_1: 0.5115\n",
      "Epoch 60/100\n",
      "458/458 [==============================] - 1s 3ms/step - loss: 0.6930 - accuracy: 0.5115 - precision_1: 0.5115\n",
      "Epoch 61/100\n",
      "458/458 [==============================] - 1s 2ms/step - loss: 0.6930 - accuracy: 0.5115 - precision_1: 0.5115\n",
      "Epoch 62/100\n",
      "458/458 [==============================] - 1s 2ms/step - loss: 0.6930 - accuracy: 0.5115 - precision_1: 0.5115\n",
      "Epoch 63/100\n",
      "458/458 [==============================] - 1s 2ms/step - loss: 0.6930 - accuracy: 0.5115 - precision_1: 0.5115\n",
      "Epoch 64/100\n",
      "458/458 [==============================] - 1s 3ms/step - loss: 0.6929 - accuracy: 0.5115 - precision_1: 0.5115\n",
      "Epoch 65/100\n",
      "458/458 [==============================] - 1s 2ms/step - loss: 0.6930 - accuracy: 0.5115 - precision_1: 0.5115\n",
      "Epoch 66/100\n"
     ]
    },
    {
     "name": "stdout",
     "output_type": "stream",
     "text": [
      "458/458 [==============================] - 1s 2ms/step - loss: 0.6929 - accuracy: 0.5115 - precision_1: 0.5115\n",
      "Epoch 67/100\n",
      "458/458 [==============================] - 1s 3ms/step - loss: 0.6930 - accuracy: 0.5115 - precision_1: 0.5115\n",
      "Epoch 68/100\n",
      "458/458 [==============================] - 1s 3ms/step - loss: 0.6929 - accuracy: 0.5115 - precision_1: 0.5115\n",
      "Epoch 69/100\n",
      "458/458 [==============================] - 1s 2ms/step - loss: 0.6929 - accuracy: 0.5115 - precision_1: 0.5115\n",
      "Epoch 70/100\n",
      "458/458 [==============================] - 1s 2ms/step - loss: 0.6929 - accuracy: 0.5115 - precision_1: 0.5115\n",
      "Epoch 71/100\n",
      "458/458 [==============================] - 1s 2ms/step - loss: 0.6929 - accuracy: 0.5115 - precision_1: 0.5115\n",
      "Epoch 72/100\n",
      "458/458 [==============================] - 1s 3ms/step - loss: 0.6929 - accuracy: 0.5115 - precision_1: 0.5115\n",
      "Epoch 73/100\n",
      "458/458 [==============================] - 1s 3ms/step - loss: 0.6929 - accuracy: 0.5115 - precision_1: 0.5115\n",
      "Epoch 74/100\n",
      "458/458 [==============================] - 1s 3ms/step - loss: 0.6929 - accuracy: 0.5115 - precision_1: 0.5115\n",
      "Epoch 75/100\n",
      "458/458 [==============================] - 1s 3ms/step - loss: 0.6930 - accuracy: 0.5115 - precision_1: 0.5115\n",
      "Epoch 76/100\n",
      "458/458 [==============================] - 1s 2ms/step - loss: 0.6930 - accuracy: 0.5115 - precision_1: 0.5115\n",
      "Epoch 77/100\n",
      "458/458 [==============================] - 1s 2ms/step - loss: 0.6929 - accuracy: 0.5115 - precision_1: 0.5115\n",
      "Epoch 78/100\n",
      "458/458 [==============================] - 1s 2ms/step - loss: 0.6929 - accuracy: 0.5115 - precision_1: 0.5115\n",
      "Epoch 79/100\n",
      "458/458 [==============================] - 1s 3ms/step - loss: 0.6930 - accuracy: 0.5115 - precision_1: 0.5115\n",
      "Epoch 80/100\n",
      "458/458 [==============================] - 1s 2ms/step - loss: 0.6930 - accuracy: 0.5115 - precision_1: 0.5115\n",
      "Epoch 81/100\n",
      "458/458 [==============================] - 1s 2ms/step - loss: 0.6930 - accuracy: 0.5115 - precision_1: 0.5115\n",
      "Epoch 82/100\n",
      "458/458 [==============================] - 1s 2ms/step - loss: 0.6930 - accuracy: 0.5115 - precision_1: 0.5115\n",
      "Epoch 83/100\n",
      "458/458 [==============================] - 1s 2ms/step - loss: 0.6930 - accuracy: 0.5115 - precision_1: 0.5115\n",
      "Epoch 84/100\n",
      "458/458 [==============================] - 1s 2ms/step - loss: 0.6929 - accuracy: 0.5115 - precision_1: 0.5115\n",
      "Epoch 85/100\n",
      "458/458 [==============================] - 1s 2ms/step - loss: 0.6929 - accuracy: 0.5115 - precision_1: 0.5115\n",
      "Epoch 86/100\n",
      "458/458 [==============================] - 1s 2ms/step - loss: 0.6929 - accuracy: 0.5115 - precision_1: 0.5115\n",
      "Epoch 87/100\n",
      "458/458 [==============================] - 1s 3ms/step - loss: 0.6930 - accuracy: 0.5115 - precision_1: 0.5115\n",
      "Epoch 88/100\n",
      "458/458 [==============================] - 1s 3ms/step - loss: 0.6929 - accuracy: 0.5115 - precision_1: 0.5115\n",
      "Epoch 89/100\n",
      "458/458 [==============================] - 1s 2ms/step - loss: 0.6930 - accuracy: 0.5115 - precision_1: 0.5115\n",
      "Epoch 90/100\n",
      "458/458 [==============================] - 1s 2ms/step - loss: 0.6929 - accuracy: 0.5115 - precision_1: 0.5115\n",
      "Epoch 91/100\n",
      "458/458 [==============================] - 1s 2ms/step - loss: 0.6929 - accuracy: 0.5115 - precision_1: 0.5115\n",
      "Epoch 92/100\n",
      "458/458 [==============================] - 1s 2ms/step - loss: 0.6929 - accuracy: 0.5115 - precision_1: 0.5115\n",
      "Epoch 93/100\n",
      "458/458 [==============================] - 1s 2ms/step - loss: 0.6930 - accuracy: 0.5115 - precision_1: 0.5115\n",
      "Epoch 94/100\n",
      "458/458 [==============================] - 1s 2ms/step - loss: 0.6929 - accuracy: 0.5115 - precision_1: 0.5115\n",
      "Epoch 95/100\n",
      "458/458 [==============================] - 1s 2ms/step - loss: 0.6930 - accuracy: 0.5115 - precision_1: 0.5115\n",
      "Epoch 96/100\n",
      "458/458 [==============================] - 1s 2ms/step - loss: 0.6929 - accuracy: 0.5115 - precision_1: 0.5115\n",
      "Epoch 97/100\n",
      "458/458 [==============================] - 1s 2ms/step - loss: 0.6930 - accuracy: 0.5115 - precision_1: 0.5115\n",
      "Epoch 98/100\n",
      "458/458 [==============================] - 1s 3ms/step - loss: 0.6929 - accuracy: 0.5115 - precision_1: 0.5115\n",
      "Epoch 99/100\n",
      "458/458 [==============================] - 1s 2ms/step - loss: 0.6929 - accuracy: 0.5115 - precision_1: 0.5115\n",
      "Epoch 100/100\n",
      "458/458 [==============================] - 1s 2ms/step - loss: 0.6929 - accuracy: 0.5115 - precision_1: 0.5115\n"
     ]
    },
    {
     "data": {
      "text/plain": [
       "<keras.callbacks.History at 0x1eebbb59748>"
      ]
     },
     "execution_count": 58,
     "metadata": {},
     "output_type": "execute_result"
    }
   ],
   "source": [
    "model.fit(train_series[predictors], train_series['target'], batch_size=10,epochs=100)"
   ]
  },
  {
   "cell_type": "code",
   "execution_count": 59,
   "id": "ee15405a",
   "metadata": {},
   "outputs": [
    {
     "name": "stdout",
     "output_type": "stream",
     "text": [
      "16/16 [==============================] - 1s 2ms/step - loss: 0.6927 - accuracy: 0.5152 - precision_1: 0.5152\n"
     ]
    },
    {
     "data": {
      "text/plain": [
       "[0.692701518535614, 0.5151515007019043, 0.5151515007019043]"
      ]
     },
     "execution_count": 59,
     "metadata": {},
     "output_type": "execute_result"
    }
   ],
   "source": [
    "model.evaluate(test_series[predictors], test_series['target'])"
   ]
  },
  {
   "cell_type": "code",
   "execution_count": 60,
   "id": "d9a1bbea",
   "metadata": {},
   "outputs": [
    {
     "name": "stdout",
     "output_type": "stream",
     "text": [
      "16/16 [==============================] - 0s 1ms/step\n"
     ]
    }
   ],
   "source": [
    "preds = model.predict(test_series[predictors])\n",
    "preds = preds.reshape(-1)\n",
    "preds = pd.Series(preds, index=test_series.index)"
   ]
  },
  {
   "cell_type": "code",
   "execution_count": 61,
   "id": "320545e7",
   "metadata": {},
   "outputs": [],
   "source": [
    "preds[preds >= 0.5] = 1\n",
    "preds[preds < 0.5] = 0"
   ]
  },
  {
   "cell_type": "code",
   "execution_count": 62,
   "id": "be2d7fd1",
   "metadata": {},
   "outputs": [
    {
     "data": {
      "text/plain": [
       "0.5151515151515151"
      ]
     },
     "execution_count": 62,
     "metadata": {},
     "output_type": "execute_result"
    }
   ],
   "source": [
    "precision_score(test_series['target'], preds)"
   ]
  },
  {
   "cell_type": "code",
   "execution_count": 63,
   "id": "5d94ad73",
   "metadata": {},
   "outputs": [
    {
     "data": {
      "text/plain": [
       "1.0"
      ]
     },
     "execution_count": 63,
     "metadata": {},
     "output_type": "execute_result"
    }
   ],
   "source": [
    "recall_score(test_series['target'], preds)"
   ]
  },
  {
   "cell_type": "code",
   "execution_count": 64,
   "id": "de0eb596",
   "metadata": {},
   "outputs": [
    {
     "data": {
      "text/plain": [
       "0.5151515151515151"
      ]
     },
     "execution_count": 64,
     "metadata": {},
     "output_type": "execute_result"
    }
   ],
   "source": [
    "accuracy_score(test_series['target'], preds)"
   ]
  },
  {
   "cell_type": "code",
   "execution_count": 65,
   "id": "a7f3192e",
   "metadata": {},
   "outputs": [
    {
     "data": {
      "text/plain": [
       "array([[  0, 240],\n",
       "       [  0, 255]], dtype=int64)"
      ]
     },
     "execution_count": 65,
     "metadata": {},
     "output_type": "execute_result"
    }
   ],
   "source": [
    "confusion_matrix(test_series['target'], preds)"
   ]
  }
 ],
 "metadata": {
  "kernelspec": {
   "display_name": "Python 3 (ipykernel)",
   "language": "python",
   "name": "python3"
  },
  "language_info": {
   "codemirror_mode": {
    "name": "ipython",
    "version": 3
   },
   "file_extension": ".py",
   "mimetype": "text/x-python",
   "name": "python",
   "nbconvert_exporter": "python",
   "pygments_lexer": "ipython3",
   "version": "3.7.1"
  }
 },
 "nbformat": 4,
 "nbformat_minor": 5
}
