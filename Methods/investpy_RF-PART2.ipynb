{
 "cells": [
  {
   "cell_type": "code",
   "execution_count": 81,
   "id": "613f1b34",
   "metadata": {},
   "outputs": [],
   "source": [
    "import investpy"
   ]
  },
  {
   "cell_type": "code",
   "execution_count": 82,
   "id": "31c78013",
   "metadata": {},
   "outputs": [],
   "source": [
    "# Data manipulation modules\n",
    "import pandas as pd\n",
    "pd.options.mode.chained_assignment = None\n",
    "import numpy as np\n",
    "import yfinance as yf\n",
    "\n",
    "# Data visualization modules\n",
    "import matplotlib.pyplot as plt\n",
    "\n",
    "# Machine Learning modules\n",
    "from sklearn.ensemble import RandomForestClassifier\n",
    "\n",
    "# Cross-validation modules \n",
    "from sklearn.model_selection import TimeSeriesSplit\n",
    "\n",
    "# Grid search module\n",
    "from sklearn.model_selection import GridSearchCV\n",
    "\n",
    "# Evaluation metrics modules\n",
    "from sklearn.metrics import precision_score\n",
    "from sklearn.metrics import recall_score\n",
    "from sklearn.metrics import accuracy_score\n",
    "from sklearn.metrics import confusion_matrix"
   ]
  },
  {
   "cell_type": "code",
   "execution_count": 83,
   "id": "48ace5d9",
   "metadata": {},
   "outputs": [],
   "source": [
    "def get_train_test_data(cripto_series, test_percentage):\n",
    "    '''This functions creates the training and test data for the stock time series'''\n",
    "    time_series_length = len(cripto_series)\n",
    "    test_series = cripto_series.iloc[int(time_series_length*(1-test_percentage)):time_series_length]\n",
    "    train_series = cripto_series.iloc[:-int(time_series_length*test_percentage)]\n",
    "    \n",
    "    return(test_series, train_series)\n",
    "\n",
    "def get_rate_of_change(cripto_series, variable, n_days):\n",
    "    '''This function computes several values for the rate of change and add them into a dataset'''\n",
    "    for day in n_days: \n",
    "        variable_name = f\"{day}_days_of_change\"\n",
    "        cripto_series[variable_name] = (cripto_series[variable] - cripto_series[variable].shift(day)) / cripto_series[variable].shift(day)\n",
    "        \n",
    "def get_moving_average(cripto_series, variable, n_days):\n",
    "    '''This function computes several values for the moving average and add them into a dataset'''\n",
    "    for day in n_days:\n",
    "        variable_name = f\"{day}_day_moving_average\"\n",
    "        cripto_series[variable_name] = cripto_series[variable].rolling(day).mean()\n",
    "        \n",
    "def get_ratio(cripto_series, variable_1, variable_2):\n",
    "    '''This function computes the ratio between two variables and add it into a dataset'''\n",
    "    variable_name = f\"{variable_1}_{variable_2}_ratio\"\n",
    "    cripto_series[variable_name] = cripto_series[variable_1] / cripto_series[variable_2]\n",
    "    \n",
    "def get_difference(cripto_series, variable_1, variable_2):\n",
    "    '''This function computes the difference between the values of two variables and add it into a dataset'''\n",
    "    variable_name = f\"{variable_1}_{variable_2}_difference\"\n",
    "    cripto_series[variable_name] = cripto_series[variable_1] - cripto_series[variable_2] \n",
    "    \n",
    "def train_and_predict(model, train_predictors, train_target, test_predictors):\n",
    "    '''This function fits a model and then make predictions on it for a given amount of data'''\n",
    "    model.fit(train_predictors, train_target)\n",
    "    preds = model.predict(test_predictors)\n",
    "    preds = pd.Series(preds, index=test_series_2.index)\n",
    "    return preds"
   ]
  },
  {
   "cell_type": "code",
   "execution_count": 84,
   "id": "9b838f1c",
   "metadata": {},
   "outputs": [],
   "source": [
    "stock_series = investpy.stocks.get_stock_historical_data('PETR4', 'brazil', from_date = '01/01/2002', to_date='01/08/2022')"
   ]
  },
  {
   "cell_type": "code",
   "execution_count": 85,
   "id": "360afd7a",
   "metadata": {},
   "outputs": [
    {
     "data": {
      "text/html": [
       "<div>\n",
       "<style scoped>\n",
       "    .dataframe tbody tr th:only-of-type {\n",
       "        vertical-align: middle;\n",
       "    }\n",
       "\n",
       "    .dataframe tbody tr th {\n",
       "        vertical-align: top;\n",
       "    }\n",
       "\n",
       "    .dataframe thead th {\n",
       "        text-align: right;\n",
       "    }\n",
       "</style>\n",
       "<table border=\"1\" class=\"dataframe\">\n",
       "  <thead>\n",
       "    <tr style=\"text-align: right;\">\n",
       "      <th></th>\n",
       "      <th>Open</th>\n",
       "      <th>High</th>\n",
       "      <th>Low</th>\n",
       "      <th>Close</th>\n",
       "      <th>Volume</th>\n",
       "      <th>Currency</th>\n",
       "    </tr>\n",
       "    <tr>\n",
       "      <th>Date</th>\n",
       "      <th></th>\n",
       "      <th></th>\n",
       "      <th></th>\n",
       "      <th></th>\n",
       "      <th></th>\n",
       "      <th></th>\n",
       "    </tr>\n",
       "  </thead>\n",
       "  <tbody>\n",
       "    <tr>\n",
       "      <th>2002-01-02</th>\n",
       "      <td>4.73</td>\n",
       "      <td>4.79</td>\n",
       "      <td>4.72</td>\n",
       "      <td>4.73</td>\n",
       "      <td>23979552</td>\n",
       "      <td>BRL</td>\n",
       "    </tr>\n",
       "    <tr>\n",
       "      <th>2002-01-03</th>\n",
       "      <td>4.75</td>\n",
       "      <td>4.80</td>\n",
       "      <td>4.74</td>\n",
       "      <td>4.76</td>\n",
       "      <td>39124800</td>\n",
       "      <td>BRL</td>\n",
       "    </tr>\n",
       "    <tr>\n",
       "      <th>2002-01-04</th>\n",
       "      <td>4.76</td>\n",
       "      <td>4.76</td>\n",
       "      <td>4.67</td>\n",
       "      <td>4.73</td>\n",
       "      <td>21548832</td>\n",
       "      <td>BRL</td>\n",
       "    </tr>\n",
       "    <tr>\n",
       "      <th>2002-01-07</th>\n",
       "      <td>4.71</td>\n",
       "      <td>4.87</td>\n",
       "      <td>4.71</td>\n",
       "      <td>4.83</td>\n",
       "      <td>40547104</td>\n",
       "      <td>BRL</td>\n",
       "    </tr>\n",
       "    <tr>\n",
       "      <th>2002-01-08</th>\n",
       "      <td>4.83</td>\n",
       "      <td>4.83</td>\n",
       "      <td>4.77</td>\n",
       "      <td>4.80</td>\n",
       "      <td>34469888</td>\n",
       "      <td>BRL</td>\n",
       "    </tr>\n",
       "  </tbody>\n",
       "</table>\n",
       "</div>"
      ],
      "text/plain": [
       "            Open  High   Low  Close    Volume Currency\n",
       "Date                                                  \n",
       "2002-01-02  4.73  4.79  4.72   4.73  23979552      BRL\n",
       "2002-01-03  4.75  4.80  4.74   4.76  39124800      BRL\n",
       "2002-01-04  4.76  4.76  4.67   4.73  21548832      BRL\n",
       "2002-01-07  4.71  4.87  4.71   4.83  40547104      BRL\n",
       "2002-01-08  4.83  4.83  4.77   4.80  34469888      BRL"
      ]
     },
     "execution_count": 85,
     "metadata": {},
     "output_type": "execute_result"
    }
   ],
   "source": [
    "stock_series.head()"
   ]
  },
  {
   "cell_type": "code",
   "execution_count": 86,
   "id": "ecc1c024",
   "metadata": {},
   "outputs": [],
   "source": [
    "test_series, train_series = get_train_test_data(stock_series, test_percentage=0.1)"
   ]
  },
  {
   "cell_type": "markdown",
   "id": "bb341bf1",
   "metadata": {},
   "source": [
    "## Applying the new variables"
   ]
  },
  {
   "cell_type": "code",
   "execution_count": 87,
   "id": "4cd07e22",
   "metadata": {},
   "outputs": [],
   "source": [
    "train_series['target']  = np.array(train_series['Close'].shift(-1) > train_series['Close']).astype(int) "
   ]
  },
  {
   "cell_type": "code",
   "execution_count": 88,
   "id": "b14d527e",
   "metadata": {},
   "outputs": [],
   "source": [
    "get_rate_of_change(train_series, 'Close', [3, 5, 7, 15])"
   ]
  },
  {
   "cell_type": "code",
   "execution_count": 89,
   "id": "bd0e462a",
   "metadata": {},
   "outputs": [],
   "source": [
    "get_difference(train_series, 'Close', 'Open')\n",
    "get_difference(train_series, 'High', 'Low')"
   ]
  },
  {
   "cell_type": "code",
   "execution_count": 90,
   "id": "7caa4f97",
   "metadata": {},
   "outputs": [],
   "source": [
    "train_series['low_dif'] = (train_series['Low'] - train_series['Low'].shift(1))\n",
    "train_series['high_dif'] = train_series['High'] - train_series['High'].shift(1)"
   ]
  },
  {
   "cell_type": "code",
   "execution_count": 49,
   "id": "49857fe4",
   "metadata": {},
   "outputs": [],
   "source": [
    "get_ratio(train_series, 'Open', 'Close')\n",
    "get_ratio(train_series, 'High', 'Close')\n",
    "get_ratio(train_series, 'Low', 'Close')"
   ]
  },
  {
   "cell_type": "code",
   "execution_count": 50,
   "id": "c327e5f7",
   "metadata": {},
   "outputs": [],
   "source": [
    "train_series.drop('Currency', axis=1, inplace=True)"
   ]
  },
  {
   "cell_type": "code",
   "execution_count": 51,
   "id": "845f54a3",
   "metadata": {},
   "outputs": [],
   "source": [
    "train_series.dropna(axis=0, inplace=True)"
   ]
  },
  {
   "cell_type": "code",
   "execution_count": 52,
   "id": "6d7b8337",
   "metadata": {},
   "outputs": [],
   "source": [
    "test_series['target']  = np.array(test_series['Close'].shift(-1) > test_series['Close']).astype(int) "
   ]
  },
  {
   "cell_type": "code",
   "execution_count": 53,
   "id": "6b8d9f00",
   "metadata": {},
   "outputs": [],
   "source": [
    "get_rate_of_change(test_series, 'Close', [3, 5, 7, 15])"
   ]
  },
  {
   "cell_type": "code",
   "execution_count": 54,
   "id": "bcd6e246",
   "metadata": {},
   "outputs": [],
   "source": [
    "get_difference(test_series, 'Close', 'Open')\n",
    "get_difference(test_series, 'High', 'Low')"
   ]
  },
  {
   "cell_type": "code",
   "execution_count": 55,
   "id": "15949246",
   "metadata": {},
   "outputs": [],
   "source": [
    "test_series['low_dif'] = (test_series['Low'] - test_series['Low'].shift(1))\n",
    "test_series['high_dif'] = test_series['High'] - test_series['High'].shift(1)"
   ]
  },
  {
   "cell_type": "code",
   "execution_count": 56,
   "id": "9316d346",
   "metadata": {},
   "outputs": [],
   "source": [
    "get_ratio(test_series, 'Open', 'Close')\n",
    "get_ratio(test_series, 'High', 'Close')\n",
    "get_ratio(test_series, 'Low', 'Close')"
   ]
  },
  {
   "cell_type": "code",
   "execution_count": 57,
   "id": "4d5b2ef7",
   "metadata": {},
   "outputs": [],
   "source": [
    "test_series.drop('Currency', axis=1, inplace=True)"
   ]
  },
  {
   "cell_type": "code",
   "execution_count": 58,
   "id": "91c2eeb9",
   "metadata": {},
   "outputs": [],
   "source": [
    "test_series.dropna(axis=0, inplace=True)"
   ]
  },
  {
   "cell_type": "code",
   "execution_count": 62,
   "id": "a86f6e7a",
   "metadata": {},
   "outputs": [
    {
     "name": "stdout",
     "output_type": "stream",
     "text": [
      "Index(['Open', 'High', 'Low', 'Close', 'Volume', 'low_dif', 'high_dif',\n",
      "       'target', '3_days_of_change', '5_days_of_change', '7_days_of_change',\n",
      "       '15_days_of_change', 'Close_Open_difference', 'High_Low_difference',\n",
      "       'Open_Close_ratio', 'High_Close_ratio', 'Low_Close_ratio'],\n",
      "      dtype='object')\n",
      "Index(['Open', 'High', 'Low', 'Close', 'Volume', 'low_dif', 'high_dif',\n",
      "       'target', '3_days_of_change', '5_days_of_change', '7_days_of_change',\n",
      "       '15_days_of_change', 'Close_Open_difference', 'High_Low_difference',\n",
      "       'Open_Close_ratio', 'High_Close_ratio', 'Low_Close_ratio'],\n",
      "      dtype='object')\n"
     ]
    }
   ],
   "source": [
    "print(train_series.columns)\n",
    "print(test_series.columns)"
   ]
  },
  {
   "cell_type": "code",
   "execution_count": 77,
   "id": "a5f026d3",
   "metadata": {},
   "outputs": [],
   "source": [
    "predictors = ['Open', 'High', 'Low', 'Close', 'Volume',\n",
    "       '3_days_of_change', '5_days_of_change', '7_days_of_change',\n",
    "       '15_days_of_change', 'Close_Open_difference', 'High_Low_difference',\n",
    "       'low_dif', 'high_dif', 'Open_Close_ratio', 'High_Close_ratio',\n",
    "       'Low_Close_ratio']"
   ]
  },
  {
   "cell_type": "code",
   "execution_count": 78,
   "id": "011c490f",
   "metadata": {},
   "outputs": [
    {
     "data": {
      "text/plain": [
       "GridSearchCV(cv=TimeSeriesSplit(gap=0, max_train_size=None, n_splits=5, test_size=None),\n",
       "             estimator=RandomForestClassifier(),\n",
       "             param_grid=[{'max_depth': [400, 500, 600],\n",
       "                          'min_samples_split': [100, 200, 300],\n",
       "                          'n_estimators': [100, 200, 300, 400, 500]}],\n",
       "             scoring='precision')"
      ]
     },
     "execution_count": 78,
     "metadata": {},
     "output_type": "execute_result"
    }
   ],
   "source": [
    "from sklearn.model_selection import TimeSeriesSplit\n",
    "tscv = TimeSeriesSplit()\n",
    "\n",
    "from sklearn.model_selection import GridSearchCV\n",
    "param_grid = [\n",
    "    {'n_estimators': [100, 200, 300, 400, 500], 'max_depth': [400, 500, 600], 'min_samples_split': [100, 200, 300]}\n",
    "]\n",
    "\n",
    "forest_class = RandomForestClassifier()\n",
    "\n",
    "grid_search = GridSearchCV(forest_class, param_grid, cv=tscv,\n",
    "                           scoring='precision')\n",
    "\n",
    "grid_search.fit(train_series[predictors], train_series['target'])"
   ]
  },
  {
   "cell_type": "code",
   "execution_count": 79,
   "id": "196e64cd",
   "metadata": {},
   "outputs": [
    {
     "data": {
      "text/plain": [
       "{'max_depth': 400, 'min_samples_split': 300, 'n_estimators': 100}"
      ]
     },
     "execution_count": 79,
     "metadata": {},
     "output_type": "execute_result"
    }
   ],
   "source": [
    "grid_search.best_params_"
   ]
  },
  {
   "cell_type": "code",
   "execution_count": 80,
   "id": "b14c0103",
   "metadata": {},
   "outputs": [],
   "source": [
    "model = RandomForestClassifier(n_estimators=300, min_samples_split = 300, max_depth=400)"
   ]
  },
  {
   "cell_type": "code",
   "execution_count": 68,
   "id": "5d94ad73",
   "metadata": {},
   "outputs": [
    {
     "data": {
      "text/plain": [
       "RandomForestClassifier(max_depth=400, min_samples_split=300, n_estimators=300,\n",
       "                       random_state=True)"
      ]
     },
     "execution_count": 68,
     "metadata": {},
     "output_type": "execute_result"
    }
   ],
   "source": [
    "model.fit(train_series[predictors], train_series['target'])"
   ]
  },
  {
   "cell_type": "code",
   "execution_count": 69,
   "id": "de0eb596",
   "metadata": {},
   "outputs": [],
   "source": [
    "preds = model.predict_proba(test_series[predictors])\n",
    "preds = preds[:, [1]].reshape(-1)\n",
    "preds = pd.Series(preds, index=test_series.index)"
   ]
  },
  {
   "cell_type": "code",
   "execution_count": 71,
   "id": "a7f3192e",
   "metadata": {},
   "outputs": [],
   "source": [
    "preds[preds >= 0.54] = 1\n",
    "preds[preds < 0.54] = 0"
   ]
  },
  {
   "cell_type": "code",
   "execution_count": 72,
   "id": "f1caaece",
   "metadata": {},
   "outputs": [
    {
     "data": {
      "text/plain": [
       "0.6491228070175439"
      ]
     },
     "execution_count": 72,
     "metadata": {},
     "output_type": "execute_result"
    }
   ],
   "source": [
    "precision_score(test_series['target'], preds)"
   ]
  },
  {
   "cell_type": "code",
   "execution_count": 73,
   "id": "3c599444",
   "metadata": {},
   "outputs": [
    {
     "data": {
      "text/plain": [
       "0.1450980392156863"
      ]
     },
     "execution_count": 73,
     "metadata": {},
     "output_type": "execute_result"
    }
   ],
   "source": [
    "recall_score(test_series['target'], preds)"
   ]
  },
  {
   "cell_type": "code",
   "execution_count": 74,
   "id": "ea4b82e6",
   "metadata": {},
   "outputs": [
    {
     "data": {
      "text/plain": [
       "0.5191919191919192"
      ]
     },
     "execution_count": 74,
     "metadata": {},
     "output_type": "execute_result"
    }
   ],
   "source": [
    "accuracy_score(test_series['target'], preds)"
   ]
  },
  {
   "cell_type": "code",
   "execution_count": 75,
   "id": "8eed2575",
   "metadata": {},
   "outputs": [
    {
     "data": {
      "text/plain": [
       "array([[220,  20],\n",
       "       [218,  37]], dtype=int64)"
      ]
     },
     "execution_count": 75,
     "metadata": {},
     "output_type": "execute_result"
    }
   ],
   "source": [
    "confusion_matrix(test_series['target'], preds)"
   ]
  },
  {
   "cell_type": "code",
   "execution_count": 76,
   "id": "0d6472ae",
   "metadata": {},
   "outputs": [
    {
     "data": {
      "text/plain": [
       "Date\n",
       "2020-08-04    0.0\n",
       "2020-08-05    0.0\n",
       "2020-08-06    0.0\n",
       "2020-08-07    0.0\n",
       "2020-08-10    0.0\n",
       "             ... \n",
       "2022-07-26    0.0\n",
       "2022-07-27    0.0\n",
       "2022-07-28    0.0\n",
       "2022-07-29    0.0\n",
       "2022-08-01    0.0\n",
       "Length: 495, dtype: float64"
      ]
     },
     "execution_count": 76,
     "metadata": {},
     "output_type": "execute_result"
    }
   ],
   "source": [
    "preds"
   ]
  },
  {
   "cell_type": "code",
   "execution_count": null,
   "id": "bc1d5807",
   "metadata": {},
   "outputs": [],
   "source": []
  }
 ],
 "metadata": {
  "kernelspec": {
   "display_name": "Python 3 (ipykernel)",
   "language": "python",
   "name": "python3"
  },
  "language_info": {
   "codemirror_mode": {
    "name": "ipython",
    "version": 3
   },
   "file_extension": ".py",
   "mimetype": "text/x-python",
   "name": "python",
   "nbconvert_exporter": "python",
   "pygments_lexer": "ipython3",
   "version": "3.7.1"
  }
 },
 "nbformat": 4,
 "nbformat_minor": 5
}
