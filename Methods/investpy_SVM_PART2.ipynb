{
 "cells": [
  {
   "cell_type": "code",
   "execution_count": 63,
   "id": "613f1b34",
   "metadata": {},
   "outputs": [],
   "source": [
    "import investpy"
   ]
  },
  {
   "cell_type": "code",
   "execution_count": 64,
   "id": "31c78013",
   "metadata": {},
   "outputs": [],
   "source": [
    "# Data manipulation modules\n",
    "import pandas as pd\n",
    "pd.options.mode.chained_assignment = None\n",
    "import numpy as np\n",
    "import yfinance as yf\n",
    "\n",
    "# Data visualization modules\n",
    "import matplotlib.pyplot as plt\n",
    "\n",
    "# Machine Learning modules\n",
    "from sklearn.svm import SVC\n",
    "\n",
    "# Cross-validation modules \n",
    "from sklearn.model_selection import TimeSeriesSplit\n",
    "\n",
    "# Grid search module\n",
    "from sklearn.model_selection import GridSearchCV\n",
    "\n",
    "# Evaluation metrics modules\n",
    "from sklearn.metrics import precision_score\n",
    "from sklearn.metrics import recall_score\n",
    "from sklearn.metrics import accuracy_score\n",
    "from sklearn.metrics import confusion_matrix"
   ]
  },
  {
   "cell_type": "code",
   "execution_count": 65,
   "id": "48ace5d9",
   "metadata": {},
   "outputs": [],
   "source": [
    "def get_train_test_data(cripto_series, test_percentage):\n",
    "    '''This functions creates the training and test data for the stock time series'''\n",
    "    time_series_length = len(cripto_series)\n",
    "    test_series = cripto_series.iloc[int(time_series_length*(1-test_percentage)):time_series_length]\n",
    "    train_series = cripto_series.iloc[:-int(time_series_length*test_percentage)]\n",
    "    \n",
    "    return(test_series, train_series)\n",
    "\n",
    "def get_rate_of_change(cripto_series, variable, n_days):\n",
    "    '''This function computes several values for the rate of change and add them into a dataset'''\n",
    "    for day in n_days: \n",
    "        variable_name = f\"{day}_days_of_change\"\n",
    "        cripto_series[variable_name] = (cripto_series[variable] - cripto_series[variable].shift(day)) / cripto_series[variable].shift(day)\n",
    "        \n",
    "def get_moving_average(cripto_series, variable, n_days):\n",
    "    '''This function computes several values for the moving average and add them into a dataset'''\n",
    "    for day in n_days:\n",
    "        variable_name = f\"{day}_day_moving_average\"\n",
    "        cripto_series[variable_name] = cripto_series[variable].rolling(day).mean()\n",
    "        \n",
    "def get_ratio(cripto_series, variable_1, variable_2):\n",
    "    '''This function computes the ratio between two variables and add it into a dataset'''\n",
    "    variable_name = f\"{variable_1}_{variable_2}_ratio\"\n",
    "    cripto_series[variable_name] = cripto_series[variable_1] / cripto_series[variable_2]\n",
    "    \n",
    "def get_difference(cripto_series, variable_1, variable_2):\n",
    "    '''This function computes the difference between the values of two variables and add it into a dataset'''\n",
    "    variable_name = f\"{variable_1}_{variable_2}_difference\"\n",
    "    cripto_series[variable_name] = cripto_series[variable_1] - cripto_series[variable_2] \n",
    "    \n",
    "def train_and_predict(model, train_predictors, train_target, test_predictors):\n",
    "    '''This function fits a model and then make predictions on it for a given amount of data'''\n",
    "    model.fit(train_predictors, train_target)\n",
    "    preds = model.predict(test_predictors)\n",
    "    preds = pd.Series(preds, index=test_series_2.index)\n",
    "    return preds"
   ]
  },
  {
   "cell_type": "code",
   "execution_count": 66,
   "id": "9b838f1c",
   "metadata": {},
   "outputs": [],
   "source": [
    "stock_series = investpy.stocks.get_stock_historical_data('PETR4', 'brazil', from_date = '01/01/2002', to_date='01/08/2022')"
   ]
  },
  {
   "cell_type": "code",
   "execution_count": 10,
   "id": "6d36ec2e",
   "metadata": {},
   "outputs": [
    {
     "data": {
      "text/html": [
       "<div>\n",
       "<style scoped>\n",
       "    .dataframe tbody tr th:only-of-type {\n",
       "        vertical-align: middle;\n",
       "    }\n",
       "\n",
       "    .dataframe tbody tr th {\n",
       "        vertical-align: top;\n",
       "    }\n",
       "\n",
       "    .dataframe thead th {\n",
       "        text-align: right;\n",
       "    }\n",
       "</style>\n",
       "<table border=\"1\" class=\"dataframe\">\n",
       "  <thead>\n",
       "    <tr style=\"text-align: right;\">\n",
       "      <th></th>\n",
       "      <th>Open</th>\n",
       "      <th>High</th>\n",
       "      <th>Low</th>\n",
       "      <th>Close</th>\n",
       "      <th>Volume</th>\n",
       "      <th>Currency</th>\n",
       "    </tr>\n",
       "    <tr>\n",
       "      <th>Date</th>\n",
       "      <th></th>\n",
       "      <th></th>\n",
       "      <th></th>\n",
       "      <th></th>\n",
       "      <th></th>\n",
       "      <th></th>\n",
       "    </tr>\n",
       "  </thead>\n",
       "  <tbody>\n",
       "    <tr>\n",
       "      <th>2002-01-02</th>\n",
       "      <td>4.73</td>\n",
       "      <td>4.79</td>\n",
       "      <td>4.72</td>\n",
       "      <td>4.73</td>\n",
       "      <td>23979552</td>\n",
       "      <td>BRL</td>\n",
       "    </tr>\n",
       "    <tr>\n",
       "      <th>2002-01-03</th>\n",
       "      <td>4.75</td>\n",
       "      <td>4.80</td>\n",
       "      <td>4.74</td>\n",
       "      <td>4.76</td>\n",
       "      <td>39124800</td>\n",
       "      <td>BRL</td>\n",
       "    </tr>\n",
       "    <tr>\n",
       "      <th>2002-01-04</th>\n",
       "      <td>4.76</td>\n",
       "      <td>4.76</td>\n",
       "      <td>4.67</td>\n",
       "      <td>4.73</td>\n",
       "      <td>21548832</td>\n",
       "      <td>BRL</td>\n",
       "    </tr>\n",
       "    <tr>\n",
       "      <th>2002-01-07</th>\n",
       "      <td>4.71</td>\n",
       "      <td>4.87</td>\n",
       "      <td>4.71</td>\n",
       "      <td>4.83</td>\n",
       "      <td>40547104</td>\n",
       "      <td>BRL</td>\n",
       "    </tr>\n",
       "    <tr>\n",
       "      <th>2002-01-08</th>\n",
       "      <td>4.83</td>\n",
       "      <td>4.83</td>\n",
       "      <td>4.77</td>\n",
       "      <td>4.80</td>\n",
       "      <td>34469888</td>\n",
       "      <td>BRL</td>\n",
       "    </tr>\n",
       "  </tbody>\n",
       "</table>\n",
       "</div>"
      ],
      "text/plain": [
       "            Open  High   Low  Close    Volume Currency\n",
       "Date                                                  \n",
       "2002-01-02  4.73  4.79  4.72   4.73  23979552      BRL\n",
       "2002-01-03  4.75  4.80  4.74   4.76  39124800      BRL\n",
       "2002-01-04  4.76  4.76  4.67   4.73  21548832      BRL\n",
       "2002-01-07  4.71  4.87  4.71   4.83  40547104      BRL\n",
       "2002-01-08  4.83  4.83  4.77   4.80  34469888      BRL"
      ]
     },
     "execution_count": 10,
     "metadata": {},
     "output_type": "execute_result"
    }
   ],
   "source": [
    "stock_series.head()"
   ]
  },
  {
   "cell_type": "code",
   "execution_count": 11,
   "id": "981f882d",
   "metadata": {},
   "outputs": [],
   "source": [
    "test_series, train_series = get_train_test_data(stock_series, test_percentage=0.1)"
   ]
  },
  {
   "cell_type": "markdown",
   "id": "880adafd",
   "metadata": {},
   "source": [
    "## Applying the new variables"
   ]
  },
  {
   "cell_type": "code",
   "execution_count": 12,
   "id": "4cd07e22",
   "metadata": {},
   "outputs": [],
   "source": [
    "train_series['target']  = np.array(train_series['Close'].shift(-1) > train_series['Close']).astype(int) "
   ]
  },
  {
   "cell_type": "code",
   "execution_count": 13,
   "id": "b14d527e",
   "metadata": {},
   "outputs": [],
   "source": [
    "get_rate_of_change(train_series, 'Close', [3, 5, 7, 15])"
   ]
  },
  {
   "cell_type": "code",
   "execution_count": 14,
   "id": "bd0e462a",
   "metadata": {},
   "outputs": [],
   "source": [
    "get_difference(train_series, 'Close', 'Open')\n",
    "get_difference(train_series, 'High', 'Low')"
   ]
  },
  {
   "cell_type": "code",
   "execution_count": 39,
   "id": "7caa4f97",
   "metadata": {},
   "outputs": [],
   "source": [
    "train_series['low_dif'] = (train_series['Low'] - train_series['Low'].shift(1))\n",
    "train_series['high_dif'] = train_series['High'] - train_series['High'].shift(1)"
   ]
  },
  {
   "cell_type": "code",
   "execution_count": 16,
   "id": "49857fe4",
   "metadata": {},
   "outputs": [],
   "source": [
    "get_ratio(train_series, 'Open', 'Close')\n",
    "get_ratio(train_series, 'High', 'Close')\n",
    "get_ratio(train_series, 'Low', 'Close')"
   ]
  },
  {
   "cell_type": "code",
   "execution_count": 17,
   "id": "c327e5f7",
   "metadata": {},
   "outputs": [],
   "source": [
    "train_series.drop('Currency', axis=1, inplace=True)"
   ]
  },
  {
   "cell_type": "code",
   "execution_count": 43,
   "id": "845f54a3",
   "metadata": {},
   "outputs": [],
   "source": [
    "train_series.dropna(axis=0, inplace=True)"
   ]
  },
  {
   "cell_type": "code",
   "execution_count": 44,
   "id": "118f32e3",
   "metadata": {},
   "outputs": [],
   "source": [
    "test_series['target']  = np.array(test_series['Close'].shift(-1) > test_series['Close']).astype(int) "
   ]
  },
  {
   "cell_type": "code",
   "execution_count": 45,
   "id": "190e8746",
   "metadata": {},
   "outputs": [],
   "source": [
    "get_rate_of_change(test_series, 'Close', [3, 5, 7, 15])"
   ]
  },
  {
   "cell_type": "code",
   "execution_count": 46,
   "id": "cfc46c89",
   "metadata": {},
   "outputs": [],
   "source": [
    "get_difference(test_series, 'Close', 'Open')\n",
    "get_difference(test_series, 'High', 'Low')"
   ]
  },
  {
   "cell_type": "code",
   "execution_count": 47,
   "id": "6758c057",
   "metadata": {},
   "outputs": [],
   "source": [
    "test_series['low_dif'] = (test_series['Low'] - test_series['Low'].shift(1))\n",
    "test_series['high_dif'] = test_series['High'] - test_series['High'].shift(1)"
   ]
  },
  {
   "cell_type": "code",
   "execution_count": 48,
   "id": "7f815ba5",
   "metadata": {},
   "outputs": [],
   "source": [
    "get_ratio(test_series, 'Open', 'Close')\n",
    "get_ratio(test_series, 'High', 'Close')\n",
    "get_ratio(test_series, 'Low', 'Close')"
   ]
  },
  {
   "cell_type": "code",
   "execution_count": 51,
   "id": "d47f84a5",
   "metadata": {},
   "outputs": [],
   "source": [
    "test_series.dropna(axis=0, inplace=True)"
   ]
  },
  {
   "cell_type": "code",
   "execution_count": 52,
   "id": "a86f6e7a",
   "metadata": {},
   "outputs": [
    {
     "name": "stdout",
     "output_type": "stream",
     "text": [
      "Index(['Open', 'High', 'Low', 'Close', 'Volume', 'target', '3_days_of_change',\n",
      "       '5_days_of_change', '7_days_of_change', '15_days_of_change',\n",
      "       'Close_Open_difference', 'High_Low_difference', 'Open_Close_ratio',\n",
      "       'High_Close_ratio', 'Low_Close_ratio', 'low_dif', 'high_dif'],\n",
      "      dtype='object')\n",
      "Index(['Open', 'High', 'Low', 'Close', 'Volume', 'target', '3_days_of_change',\n",
      "       '5_days_of_change', '7_days_of_change', '15_days_of_change',\n",
      "       'Close_Open_difference', 'High_Low_difference', 'low_dif', 'high_dif',\n",
      "       'Open_Close_ratio', 'High_Close_ratio', 'Low_Close_ratio'],\n",
      "      dtype='object')\n"
     ]
    }
   ],
   "source": [
    "print(train_series.columns)\n",
    "print(test_series.columns)"
   ]
  },
  {
   "cell_type": "code",
   "execution_count": 53,
   "id": "a5f026d3",
   "metadata": {},
   "outputs": [],
   "source": [
    "predictors = ['Open', 'High', 'Low', 'Close', 'Volume',\n",
    "       '3_days_of_change', '5_days_of_change', '7_days_of_change',\n",
    "       '15_days_of_change', 'Close_Open_difference', 'High_Low_difference',\n",
    "       'low_dif', 'high_dif', 'Open_Close_ratio', 'High_Close_ratio',\n",
    "       'Low_Close_ratio']"
   ]
  },
  {
   "cell_type": "code",
   "execution_count": null,
   "id": "011c490f",
   "metadata": {},
   "outputs": [],
   "source": [
    "from sklearn.model_selection import TimeSeriesSplit\n",
    "tscv = TimeSeriesSplit()\n",
    "\n",
    "from sklearn.model_selection import GridSearchCV\n",
    "param_grid = [\n",
    "    {'kernel': ['poly'], 'degree': [3, 4, 5], 'C': [0.01, 0.1, 1]}\n",
    "]\n",
    "\n",
    "svc_class = SVC()\n",
    "\n",
    "grid_search = GridSearchCV(svc_class, param_grid, cv=tscv,\n",
    "                           scoring='precision')\n",
    "\n",
    "grid_search.fit(train_series[predictors], train_series['target'])"
   ]
  },
  {
   "cell_type": "code",
   "execution_count": null,
   "id": "196e64cd",
   "metadata": {},
   "outputs": [],
   "source": [
    "grid_search.best_params_"
   ]
  },
  {
   "cell_type": "code",
   "execution_count": 54,
   "id": "b14c0103",
   "metadata": {},
   "outputs": [],
   "source": [
    "model = SVC(kernel='poly', C=0.01, random_state=True)"
   ]
  },
  {
   "cell_type": "code",
   "execution_count": 55,
   "id": "5d94ad73",
   "metadata": {},
   "outputs": [
    {
     "data": {
      "text/plain": [
       "SVC(C=0.01, kernel='poly', random_state=True)"
      ]
     },
     "execution_count": 55,
     "metadata": {},
     "output_type": "execute_result"
    }
   ],
   "source": [
    "model.fit(train_series[predictors], train_series['target'])"
   ]
  },
  {
   "cell_type": "code",
   "execution_count": 56,
   "id": "de0eb596",
   "metadata": {},
   "outputs": [],
   "source": [
    "preds = model.predict(test_series[predictors])\n",
    "preds = pd.Series(preds, index=test_series.index)"
   ]
  },
  {
   "cell_type": "code",
   "execution_count": 57,
   "id": "a7f3192e",
   "metadata": {},
   "outputs": [
    {
     "data": {
      "text/plain": [
       "Date\n",
       "2020-08-25    1\n",
       "2020-08-26    1\n",
       "2020-08-27    1\n",
       "2020-08-28    1\n",
       "2020-08-31    1\n",
       "             ..\n",
       "2022-07-26    1\n",
       "2022-07-27    1\n",
       "2022-07-28    1\n",
       "2022-07-29    1\n",
       "2022-08-01    1\n",
       "Length: 480, dtype: int32"
      ]
     },
     "execution_count": 57,
     "metadata": {},
     "output_type": "execute_result"
    }
   ],
   "source": [
    "preds"
   ]
  },
  {
   "cell_type": "code",
   "execution_count": 58,
   "id": "f1caaece",
   "metadata": {},
   "outputs": [
    {
     "data": {
      "text/plain": [
       "0.51875"
      ]
     },
     "execution_count": 58,
     "metadata": {},
     "output_type": "execute_result"
    }
   ],
   "source": [
    "precision_score(test_series['target'], preds)"
   ]
  },
  {
   "cell_type": "code",
   "execution_count": 59,
   "id": "3c599444",
   "metadata": {},
   "outputs": [
    {
     "data": {
      "text/plain": [
       "1.0"
      ]
     },
     "execution_count": 59,
     "metadata": {},
     "output_type": "execute_result"
    }
   ],
   "source": [
    "recall_score(test_series['target'], preds)"
   ]
  },
  {
   "cell_type": "code",
   "execution_count": 60,
   "id": "ea4b82e6",
   "metadata": {},
   "outputs": [
    {
     "data": {
      "text/plain": [
       "0.51875"
      ]
     },
     "execution_count": 60,
     "metadata": {},
     "output_type": "execute_result"
    }
   ],
   "source": [
    "accuracy_score(test_series['target'], preds)"
   ]
  },
  {
   "cell_type": "code",
   "execution_count": 61,
   "id": "8eed2575",
   "metadata": {},
   "outputs": [
    {
     "data": {
      "text/plain": [
       "array([[  0, 231],\n",
       "       [  0, 249]], dtype=int64)"
      ]
     },
     "execution_count": 61,
     "metadata": {},
     "output_type": "execute_result"
    }
   ],
   "source": [
    "confusion_matrix(test_series['target'], preds)"
   ]
  },
  {
   "cell_type": "code",
   "execution_count": 62,
   "id": "0d6472ae",
   "metadata": {},
   "outputs": [
    {
     "data": {
      "text/plain": [
       "Date\n",
       "2020-08-25    1\n",
       "2020-08-26    1\n",
       "2020-08-27    1\n",
       "2020-08-28    1\n",
       "2020-08-31    1\n",
       "             ..\n",
       "2022-07-26    1\n",
       "2022-07-27    1\n",
       "2022-07-28    1\n",
       "2022-07-29    1\n",
       "2022-08-01    1\n",
       "Length: 480, dtype: int32"
      ]
     },
     "execution_count": 62,
     "metadata": {},
     "output_type": "execute_result"
    }
   ],
   "source": [
    "preds"
   ]
  }
 ],
 "metadata": {
  "kernelspec": {
   "display_name": "Python 3 (ipykernel)",
   "language": "python",
   "name": "python3"
  },
  "language_info": {
   "codemirror_mode": {
    "name": "ipython",
    "version": 3
   },
   "file_extension": ".py",
   "mimetype": "text/x-python",
   "name": "python",
   "nbconvert_exporter": "python",
   "pygments_lexer": "ipython3",
   "version": "3.7.1"
  }
 },
 "nbformat": 4,
 "nbformat_minor": 5
}
