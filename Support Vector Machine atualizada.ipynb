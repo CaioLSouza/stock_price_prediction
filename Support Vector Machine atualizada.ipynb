{
 "cells": [
  {
   "cell_type": "markdown",
   "id": "87193248",
   "metadata": {},
   "source": [
    "# Previsão de preço de ações\n",
    "\n",
    "\n",
    "Esse projeto tem como objetivo apresentar diferentes métodos e modelos possíveis para a previsão de preço de ações baseados em Machine Learning. Com isso, será executado: uma Random Forest, uma Support Vector Machine e uma rede neural."
   ]
  },
  {
   "cell_type": "markdown",
   "id": "2ee8dcd1",
   "metadata": {},
   "source": [
    "### Primeira parte: Importar os pacotes e o *dataset* a serem utilizados"
   ]
  },
  {
   "cell_type": "code",
   "execution_count": 38,
   "id": "aa2942ba",
   "metadata": {},
   "outputs": [],
   "source": [
    "# importar pacotes necessários\n",
    "import pandas as pd\n",
    "import matplotlib.pyplot as plt"
   ]
  },
  {
   "cell_type": "code",
   "execution_count": 39,
   "id": "bebbc71d",
   "metadata": {},
   "outputs": [
    {
     "name": "stdout",
     "output_type": "stream",
     "text": [
      "Requirement already satisfied: yfinance in c:\\users\\caiol\\appdata\\local\\programs\\python\\python37\\lib\\site-packages (0.1.74)\n",
      "Requirement already satisfied: lxml>=4.5.1 in c:\\users\\caiol\\appdata\\local\\programs\\python\\python37\\lib\\site-packages (from yfinance) (4.9.1)\n",
      "Requirement already satisfied: pandas>=0.24.0 in c:\\users\\caiol\\appdata\\local\\programs\\python\\python37\\lib\\site-packages (from yfinance) (1.3.5)\n",
      "Requirement already satisfied: numpy>=1.15 in c:\\users\\caiol\\appdata\\roaming\\python\\python37\\site-packages (from yfinance) (1.21.6)\n",
      "Requirement already satisfied: multitasking>=0.0.7 in c:\\users\\caiol\\appdata\\local\\programs\\python\\python37\\lib\\site-packages (from yfinance) (0.0.11)\n",
      "Requirement already satisfied: requests>=2.26 in c:\\users\\caiol\\appdata\\local\\programs\\python\\python37\\lib\\site-packages (from yfinance) (2.28.1)\n",
      "Requirement already satisfied: python-dateutil>=2.7.3 in c:\\users\\caiol\\appdata\\local\\programs\\python\\python37\\lib\\site-packages (from pandas>=0.24.0->yfinance) (2.8.2)\n",
      "Requirement already satisfied: pytz>=2017.3 in c:\\users\\caiol\\appdata\\local\\programs\\python\\python37\\lib\\site-packages (from pandas>=0.24.0->yfinance) (2021.3)\n",
      "Requirement already satisfied: charset-normalizer<3,>=2 in c:\\users\\caiol\\appdata\\local\\programs\\python\\python37\\lib\\site-packages (from requests>=2.26->yfinance) (2.1.0)\n",
      "Requirement already satisfied: idna<4,>=2.5 in c:\\users\\caiol\\appdata\\local\\programs\\python\\python37\\lib\\site-packages (from requests>=2.26->yfinance) (3.3)\n",
      "Requirement already satisfied: urllib3<1.27,>=1.21.1 in c:\\users\\caiol\\appdata\\local\\programs\\python\\python37\\lib\\site-packages (from requests>=2.26->yfinance) (1.26.11)\n",
      "Requirement already satisfied: certifi>=2017.4.17 in c:\\users\\caiol\\appdata\\local\\programs\\python\\python37\\lib\\site-packages (from requests>=2.26->yfinance) (2022.6.15)\n",
      "Requirement already satisfied: six>=1.5 in c:\\users\\caiol\\appdata\\local\\programs\\python\\python37\\lib\\site-packages (from python-dateutil>=2.7.3->pandas>=0.24.0->yfinance) (1.16.0)\n"
     ]
    }
   ],
   "source": [
    "!pip install yfinance --upgrade --no-cache-dir"
   ]
  },
  {
   "cell_type": "code",
   "execution_count": 40,
   "id": "f6681c04",
   "metadata": {},
   "outputs": [],
   "source": [
    "# importar a yahoo finance\n",
    "import yfinance as yf\n",
    "yf.pdr_override()"
   ]
  },
  {
   "cell_type": "code",
   "execution_count": 41,
   "id": "42ad54ed",
   "metadata": {},
   "outputs": [],
   "source": [
    "# importar o dataset da petrobras\n",
    "codigo = ['PETR4.SA']\n",
    "petro = yf.Ticker(codigo[0])"
   ]
  },
  {
   "cell_type": "code",
   "execution_count": 42,
   "id": "6870e396",
   "metadata": {},
   "outputs": [],
   "source": [
    "# importar os dados do ibovespa \n",
    "code = ['BOVA11.SA']\n",
    "bov = yf.Ticker(code[0])"
   ]
  },
  {
   "cell_type": "code",
   "execution_count": 43,
   "id": "22d03dad",
   "metadata": {},
   "outputs": [],
   "source": [
    "# escolher o range do histórico a ser utilizado\n",
    "petro = petro.history(start='2012-01-01', end='2022-07-01')"
   ]
  },
  {
   "cell_type": "code",
   "execution_count": 44,
   "id": "2a8f4e88",
   "metadata": {},
   "outputs": [],
   "source": [
    "bov = bov.history(start='2012-01-01', end='2022-07-01')"
   ]
  },
  {
   "cell_type": "markdown",
   "id": "ad6b85a5",
   "metadata": {},
   "source": [
    "### Limpar os dados e criar novas variáveis para o modelo"
   ]
  },
  {
   "cell_type": "code",
   "execution_count": 45,
   "id": "93010a27",
   "metadata": {},
   "outputs": [
    {
     "data": {
      "text/html": [
       "<div>\n",
       "<style scoped>\n",
       "    .dataframe tbody tr th:only-of-type {\n",
       "        vertical-align: middle;\n",
       "    }\n",
       "\n",
       "    .dataframe tbody tr th {\n",
       "        vertical-align: top;\n",
       "    }\n",
       "\n",
       "    .dataframe thead th {\n",
       "        text-align: right;\n",
       "    }\n",
       "</style>\n",
       "<table border=\"1\" class=\"dataframe\">\n",
       "  <thead>\n",
       "    <tr style=\"text-align: right;\">\n",
       "      <th></th>\n",
       "      <th>Open</th>\n",
       "      <th>High</th>\n",
       "      <th>Low</th>\n",
       "      <th>Close</th>\n",
       "      <th>Volume</th>\n",
       "      <th>Dividends</th>\n",
       "      <th>Stock Splits</th>\n",
       "    </tr>\n",
       "    <tr>\n",
       "      <th>Date</th>\n",
       "      <th></th>\n",
       "      <th></th>\n",
       "      <th></th>\n",
       "      <th></th>\n",
       "      <th></th>\n",
       "      <th></th>\n",
       "      <th></th>\n",
       "    </tr>\n",
       "  </thead>\n",
       "  <tbody>\n",
       "    <tr>\n",
       "      <th>2012-01-02</th>\n",
       "      <td>56.509998</td>\n",
       "      <td>57.169998</td>\n",
       "      <td>55.770000</td>\n",
       "      <td>57.029999</td>\n",
       "      <td>536180</td>\n",
       "      <td>0</td>\n",
       "      <td>0</td>\n",
       "    </tr>\n",
       "    <tr>\n",
       "      <th>2012-01-03</th>\n",
       "      <td>57.240002</td>\n",
       "      <td>58.400002</td>\n",
       "      <td>57.139999</td>\n",
       "      <td>58.400002</td>\n",
       "      <td>1044620</td>\n",
       "      <td>0</td>\n",
       "      <td>0</td>\n",
       "    </tr>\n",
       "    <tr>\n",
       "      <th>2012-01-04</th>\n",
       "      <td>57.709999</td>\n",
       "      <td>58.619999</td>\n",
       "      <td>57.709999</td>\n",
       "      <td>58.400002</td>\n",
       "      <td>464890</td>\n",
       "      <td>0</td>\n",
       "      <td>0</td>\n",
       "    </tr>\n",
       "    <tr>\n",
       "      <th>2012-01-05</th>\n",
       "      <td>58.139999</td>\n",
       "      <td>58.450001</td>\n",
       "      <td>57.150002</td>\n",
       "      <td>57.610001</td>\n",
       "      <td>656040</td>\n",
       "      <td>0</td>\n",
       "      <td>0</td>\n",
       "    </tr>\n",
       "    <tr>\n",
       "      <th>2012-01-06</th>\n",
       "      <td>57.830002</td>\n",
       "      <td>58.419998</td>\n",
       "      <td>57.480000</td>\n",
       "      <td>57.750000</td>\n",
       "      <td>550360</td>\n",
       "      <td>0</td>\n",
       "      <td>0</td>\n",
       "    </tr>\n",
       "  </tbody>\n",
       "</table>\n",
       "</div>"
      ],
      "text/plain": [
       "                 Open       High        Low      Close   Volume  Dividends  \\\n",
       "Date                                                                         \n",
       "2012-01-02  56.509998  57.169998  55.770000  57.029999   536180          0   \n",
       "2012-01-03  57.240002  58.400002  57.139999  58.400002  1044620          0   \n",
       "2012-01-04  57.709999  58.619999  57.709999  58.400002   464890          0   \n",
       "2012-01-05  58.139999  58.450001  57.150002  57.610001   656040          0   \n",
       "2012-01-06  57.830002  58.419998  57.480000  57.750000   550360          0   \n",
       "\n",
       "            Stock Splits  \n",
       "Date                      \n",
       "2012-01-02             0  \n",
       "2012-01-03             0  \n",
       "2012-01-04             0  \n",
       "2012-01-05             0  \n",
       "2012-01-06             0  "
      ]
     },
     "execution_count": 45,
     "metadata": {},
     "output_type": "execute_result"
    }
   ],
   "source": [
    "# cinco primeiras entradas de bov\n",
    "bov.head()"
   ]
  },
  {
   "cell_type": "code",
   "execution_count": 46,
   "id": "733e9427",
   "metadata": {},
   "outputs": [
    {
     "data": {
      "text/html": [
       "<div>\n",
       "<style scoped>\n",
       "    .dataframe tbody tr th:only-of-type {\n",
       "        vertical-align: middle;\n",
       "    }\n",
       "\n",
       "    .dataframe tbody tr th {\n",
       "        vertical-align: top;\n",
       "    }\n",
       "\n",
       "    .dataframe thead th {\n",
       "        text-align: right;\n",
       "    }\n",
       "</style>\n",
       "<table border=\"1\" class=\"dataframe\">\n",
       "  <thead>\n",
       "    <tr style=\"text-align: right;\">\n",
       "      <th></th>\n",
       "      <th>Open</th>\n",
       "      <th>High</th>\n",
       "      <th>Low</th>\n",
       "      <th>Close</th>\n",
       "      <th>Volume</th>\n",
       "    </tr>\n",
       "    <tr>\n",
       "      <th>Date</th>\n",
       "      <th></th>\n",
       "      <th></th>\n",
       "      <th></th>\n",
       "      <th></th>\n",
       "      <th></th>\n",
       "    </tr>\n",
       "  </thead>\n",
       "  <tbody>\n",
       "    <tr>\n",
       "      <th>2012-01-02</th>\n",
       "      <td>56.509998</td>\n",
       "      <td>57.169998</td>\n",
       "      <td>55.770000</td>\n",
       "      <td>57.029999</td>\n",
       "      <td>536180</td>\n",
       "    </tr>\n",
       "    <tr>\n",
       "      <th>2012-01-03</th>\n",
       "      <td>57.240002</td>\n",
       "      <td>58.400002</td>\n",
       "      <td>57.139999</td>\n",
       "      <td>58.400002</td>\n",
       "      <td>1044620</td>\n",
       "    </tr>\n",
       "    <tr>\n",
       "      <th>2012-01-04</th>\n",
       "      <td>57.709999</td>\n",
       "      <td>58.619999</td>\n",
       "      <td>57.709999</td>\n",
       "      <td>58.400002</td>\n",
       "      <td>464890</td>\n",
       "    </tr>\n",
       "    <tr>\n",
       "      <th>2012-01-05</th>\n",
       "      <td>58.139999</td>\n",
       "      <td>58.450001</td>\n",
       "      <td>57.150002</td>\n",
       "      <td>57.610001</td>\n",
       "      <td>656040</td>\n",
       "    </tr>\n",
       "    <tr>\n",
       "      <th>2012-01-06</th>\n",
       "      <td>57.830002</td>\n",
       "      <td>58.419998</td>\n",
       "      <td>57.480000</td>\n",
       "      <td>57.750000</td>\n",
       "      <td>550360</td>\n",
       "    </tr>\n",
       "  </tbody>\n",
       "</table>\n",
       "</div>"
      ],
      "text/plain": [
       "                 Open       High        Low      Close   Volume\n",
       "Date                                                           \n",
       "2012-01-02  56.509998  57.169998  55.770000  57.029999   536180\n",
       "2012-01-03  57.240002  58.400002  57.139999  58.400002  1044620\n",
       "2012-01-04  57.709999  58.619999  57.709999  58.400002   464890\n",
       "2012-01-05  58.139999  58.450001  57.150002  57.610001   656040\n",
       "2012-01-06  57.830002  58.419998  57.480000  57.750000   550360"
      ]
     },
     "execution_count": 46,
     "metadata": {},
     "output_type": "execute_result"
    }
   ],
   "source": [
    "# remover Stock Splits e Dividends\n",
    "bov = bov.drop(['Dividends', 'Stock Splits'], axis=1)\n",
    "bov.head()"
   ]
  },
  {
   "cell_type": "code",
   "execution_count": 47,
   "id": "56c6fb42",
   "metadata": {},
   "outputs": [
    {
     "data": {
      "text/html": [
       "<div>\n",
       "<style scoped>\n",
       "    .dataframe tbody tr th:only-of-type {\n",
       "        vertical-align: middle;\n",
       "    }\n",
       "\n",
       "    .dataframe tbody tr th {\n",
       "        vertical-align: top;\n",
       "    }\n",
       "\n",
       "    .dataframe thead th {\n",
       "        text-align: right;\n",
       "    }\n",
       "</style>\n",
       "<table border=\"1\" class=\"dataframe\">\n",
       "  <thead>\n",
       "    <tr style=\"text-align: right;\">\n",
       "      <th></th>\n",
       "      <th>Open</th>\n",
       "      <th>High</th>\n",
       "      <th>Low</th>\n",
       "      <th>Close</th>\n",
       "      <th>Volume</th>\n",
       "      <th>Dividends</th>\n",
       "      <th>Stock Splits</th>\n",
       "    </tr>\n",
       "    <tr>\n",
       "      <th>Date</th>\n",
       "      <th></th>\n",
       "      <th></th>\n",
       "      <th></th>\n",
       "      <th></th>\n",
       "      <th></th>\n",
       "      <th></th>\n",
       "      <th></th>\n",
       "    </tr>\n",
       "  </thead>\n",
       "  <tbody>\n",
       "    <tr>\n",
       "      <th>2012-01-02</th>\n",
       "      <td>11.955425</td>\n",
       "      <td>12.294468</td>\n",
       "      <td>11.816473</td>\n",
       "      <td>12.077703</td>\n",
       "      <td>20391300</td>\n",
       "      <td>0.0000</td>\n",
       "      <td>0</td>\n",
       "    </tr>\n",
       "    <tr>\n",
       "      <th>2012-01-03</th>\n",
       "      <td>12.233097</td>\n",
       "      <td>12.558117</td>\n",
       "      <td>12.221889</td>\n",
       "      <td>12.558117</td>\n",
       "      <td>22940500</td>\n",
       "      <td>0.1773</td>\n",
       "      <td>0</td>\n",
       "    </tr>\n",
       "    <tr>\n",
       "      <th>2012-01-04</th>\n",
       "      <td>12.429232</td>\n",
       "      <td>12.653383</td>\n",
       "      <td>12.317155</td>\n",
       "      <td>12.647779</td>\n",
       "      <td>18736900</td>\n",
       "      <td>0.0000</td>\n",
       "      <td>0</td>\n",
       "    </tr>\n",
       "    <tr>\n",
       "      <th>2012-01-05</th>\n",
       "      <td>12.546909</td>\n",
       "      <td>12.670194</td>\n",
       "      <td>12.412418</td>\n",
       "      <td>12.502079</td>\n",
       "      <td>19489000</td>\n",
       "      <td>0.0000</td>\n",
       "      <td>0</td>\n",
       "    </tr>\n",
       "    <tr>\n",
       "      <th>2012-01-06</th>\n",
       "      <td>12.591737</td>\n",
       "      <td>12.653379</td>\n",
       "      <td>12.468453</td>\n",
       "      <td>12.513284</td>\n",
       "      <td>13941000</td>\n",
       "      <td>0.0000</td>\n",
       "      <td>0</td>\n",
       "    </tr>\n",
       "  </tbody>\n",
       "</table>\n",
       "</div>"
      ],
      "text/plain": [
       "                 Open       High        Low      Close    Volume  Dividends  \\\n",
       "Date                                                                          \n",
       "2012-01-02  11.955425  12.294468  11.816473  12.077703  20391300     0.0000   \n",
       "2012-01-03  12.233097  12.558117  12.221889  12.558117  22940500     0.1773   \n",
       "2012-01-04  12.429232  12.653383  12.317155  12.647779  18736900     0.0000   \n",
       "2012-01-05  12.546909  12.670194  12.412418  12.502079  19489000     0.0000   \n",
       "2012-01-06  12.591737  12.653379  12.468453  12.513284  13941000     0.0000   \n",
       "\n",
       "            Stock Splits  \n",
       "Date                      \n",
       "2012-01-02             0  \n",
       "2012-01-03             0  \n",
       "2012-01-04             0  \n",
       "2012-01-05             0  \n",
       "2012-01-06             0  "
      ]
     },
     "execution_count": 47,
     "metadata": {},
     "output_type": "execute_result"
    }
   ],
   "source": [
    "# ver as cinco primeiras entradas\n",
    "petro.head()"
   ]
  },
  {
   "cell_type": "code",
   "execution_count": 48,
   "id": "ae6aaead",
   "metadata": {},
   "outputs": [
    {
     "data": {
      "text/plain": [
       "Date\n",
       "2012-01-02    12.233097\n",
       "2012-01-03    12.429232\n",
       "2012-01-04    12.546909\n",
       "2012-01-05    12.591737\n",
       "2012-01-06    12.574927\n",
       "                ...    \n",
       "2022-06-24    26.820000\n",
       "2022-06-27    28.580000\n",
       "2022-06-28    28.480000\n",
       "2022-06-29    27.650000\n",
       "2022-06-30          NaN\n",
       "Name: Open, Length: 2603, dtype: float64"
      ]
     },
     "execution_count": 48,
     "metadata": {},
     "output_type": "execute_result"
    }
   ],
   "source": [
    "petro['Open'].shift(-1)"
   ]
  },
  {
   "cell_type": "code",
   "execution_count": 49,
   "id": "9989dfea",
   "metadata": {},
   "outputs": [
    {
     "name": "stdout",
     "output_type": "stream",
     "text": [
      "[0]\n"
     ]
    },
    {
     "data": {
      "text/plain": [
       "array([0.000000e+00, 1.773000e-01, 1.244000e-01, 2.000000e-01,\n",
       "       3.861700e-01, 9.672000e-01, 5.000000e-02, 1.000000e-01,\n",
       "       7.165630e-01, 1.949400e-02, 2.009250e-01, 4.219420e-01,\n",
       "       4.490000e-04, 4.610000e-04, 7.928340e-01, 1.609911e+00,\n",
       "       3.250487e+00, 2.970249e+00, 3.715490e+00])"
      ]
     },
     "execution_count": 49,
     "metadata": {},
     "output_type": "execute_result"
    }
   ],
   "source": [
    "# verificar a variável stock splits e dividendos\n",
    "print(petro['Stock Splits'].unique())\n",
    "petro['Dividends'].unique()"
   ]
  },
  {
   "cell_type": "code",
   "execution_count": 50,
   "id": "0a0388b6",
   "metadata": {},
   "outputs": [],
   "source": [
    "# remover a variável Stock Splits\n",
    "petro.drop('Stock Splits',axis=1, inplace=True)"
   ]
  },
  {
   "cell_type": "code",
   "execution_count": 51,
   "id": "e20cf76e",
   "metadata": {},
   "outputs": [
    {
     "data": {
      "image/png": "[encoded data removed]",
      "text/plain": [
       "<Figure size 1008x576 with 1 Axes>"
      ]
     },
     "metadata": {
      "needs_background": "light"
     },
     "output_type": "display_data"
    }
   ],
   "source": [
    "# gráfico com a evolução do preço da ação\n",
    "fig, ax = plt.subplots(figsize=(14, 8))\n",
    "petro['Close'].plot(kind='line', ax=ax, linewidth=2)\n",
    "ax.set_title('Evolução do preço de fechamento da Petrobrás', fontsize=20, fontweight='bold')\n",
    "plt.tight_layout()"
   ]
  },
  {
   "cell_type": "code",
   "execution_count": 52,
   "id": "e6e923a3",
   "metadata": {},
   "outputs": [
    {
     "data": {
      "text/plain": [
       "Date\n",
       "2012-01-02    0.023225\n",
       "2012-01-03    0.023226\n",
       "2012-01-04    0.016033\n",
       "2012-01-05    0.009468\n",
       "2012-01-06    0.003573\n",
       "                ...   \n",
       "2022-06-24   -0.008154\n",
       "2022-06-27    0.002242\n",
       "2022-06-28    0.065623\n",
       "2022-06-29   -0.003499\n",
       "2022-06-30   -0.029143\n",
       "Name: Open_Perc, Length: 2603, dtype: float64"
      ]
     },
     "execution_count": 52,
     "metadata": {},
     "output_type": "execute_result"
    }
   ],
   "source": [
    "# definir variável variação percentual do preço de abertura\n",
    "petro['Open_Perc'] =  (petro['Open'] - petro['Open'].shift(1)) / petro['Open'].shift(1)\n",
    "# preencher o valor faltante com o valor mais próximo\n",
    "petro['Open_Perc'] = petro['Open_Perc'].fillna(value=0.023225)\n",
    "petro['Open_Perc']"
   ]
  },
  {
   "cell_type": "code",
   "execution_count": 53,
   "id": "e863c3d4",
   "metadata": {},
   "outputs": [],
   "source": [
    "# variável High minus Low price\n",
    "petro['H-L'] = petro['High'] - petro['Low']"
   ]
  },
  {
   "cell_type": "code",
   "execution_count": 54,
   "id": "ef3ce70e",
   "metadata": {},
   "outputs": [],
   "source": [
    "# variável close menos open price\n",
    "petro['C-O'] = petro['Close'] - petro['Open']"
   ]
  },
  {
   "cell_type": "code",
   "execution_count": 55,
   "id": "5c1e6354",
   "metadata": {},
   "outputs": [
    {
     "data": {
      "text/plain": [
       "Date\n",
       "2012-01-02    0.405418\n",
       "2012-01-03    0.405415\n",
       "2012-01-04    0.095266\n",
       "2012-01-05    0.095263\n",
       "2012-01-06    0.056035\n",
       "                ...   \n",
       "2022-06-24    0.059999\n",
       "2022-06-27    0.480000\n",
       "2022-06-28    1.360001\n",
       "2022-06-29   -0.180000\n",
       "2022-06-30   -0.440001\n",
       "Name: low_dif, Length: 2603, dtype: float64"
      ]
     },
     "execution_count": 55,
     "metadata": {},
     "output_type": "execute_result"
    }
   ],
   "source": [
    "# variável diferença entre os valores mais baixos\n",
    "petro['low_dif'] = (petro['Low'] - petro['Low'].shift(1))\n",
    "petro['low_dif'] = petro['low_dif'].fillna(value=0.405418)\n",
    "petro['low_dif'] "
   ]
  },
  {
   "cell_type": "code",
   "execution_count": 56,
   "id": "5356c6f0",
   "metadata": {},
   "outputs": [
    {
     "name": "stdout",
     "output_type": "stream",
     "text": [
      "Date\n",
      "2012-01-02    0.263652\n",
      "2012-01-03    0.263649\n",
      "2012-01-04    0.095266\n",
      "2012-01-05    0.016810\n",
      "2012-01-06   -0.016815\n",
      "                ...   \n",
      "2022-06-24   -0.289999\n",
      "2022-06-27    0.980000\n",
      "2022-06-28    0.760000\n",
      "2022-06-29   -0.010000\n",
      "2022-06-30   -0.760000\n",
      "Name: high_dif, Length: 2603, dtype: float64\n"
     ]
    }
   ],
   "source": [
    "# variável diferença entre os valores mais altos\n",
    "petro['high_dif'] = petro['High'] - petro['High'].shift(1)\n",
    "petro['high_dif'] = petro['high_dif'].fillna(value=0.263652)\n",
    "print(petro['high_dif'])"
   ]
  },
  {
   "cell_type": "code",
   "execution_count": 57,
   "id": "17f13cb5",
   "metadata": {},
   "outputs": [
    {
     "data": {
      "text/plain": [
       "Date\n",
       "2012-01-02   -0.023021\n",
       "2012-01-03   -0.023021\n",
       "2012-01-04   -0.006837\n",
       "2012-01-05    0.006275\n",
       "2012-01-06   -0.002595\n",
       "                ...   \n",
       "2022-06-24    0.004028\n",
       "2022-06-27   -0.016071\n",
       "2022-06-28   -0.007960\n",
       "2022-06-29    0.008667\n",
       "2022-06-30    0.016864\n",
       "Name: perc_mean, Length: 2603, dtype: float64"
      ]
     },
     "execution_count": 57,
     "metadata": {},
     "output_type": "execute_result"
    }
   ],
   "source": [
    "# variável média entre o maior e o menor preço\n",
    "bov['mean'] = (bov['High'] + bov['Low']) / 2\n",
    "\n",
    "# definir variável variação percentual da média do índice\n",
    "bov['perc_mean'] = (bov['mean'].shift(1) - bov['mean']) / bov['mean'].shift(1)\n",
    "bov['perc_mean'] = bov['perc_mean'].fillna(value=-0.023021)\n",
    "bov['perc_mean']"
   ]
  },
  {
   "cell_type": "code",
   "execution_count": 58,
   "id": "9f5f4d02",
   "metadata": {},
   "outputs": [],
   "source": [
    "# variáveis de proporção\n",
    "petro['open_close_ratio'] = petro['Open'] / petro['Close']\n",
    "petro['high_close_ratio'] = petro['High'] / petro['Close']\n",
    "petro['low_close_ratio'] = petro['Low'] / petro['Close']"
   ]
  },
  {
   "cell_type": "markdown",
   "id": "1fbdd565",
   "metadata": {},
   "source": [
    "### Variável-alvo do modelo"
   ]
  },
  {
   "cell_type": "code",
   "execution_count": 59,
   "id": "f6556a9c",
   "metadata": {},
   "outputs": [],
   "source": [
    "# definindo a variável 'tomorrow'\n",
    "petro['tomorrow'] = petro['Close'].shift(-1)"
   ]
  },
  {
   "cell_type": "code",
   "execution_count": 60,
   "id": "3827e50b",
   "metadata": {},
   "outputs": [],
   "source": [
    "# definindo a variável-alvo do problema\n",
    "petro['target'] = (petro['tomorrow'] > petro['Close']).astype(int)"
   ]
  },
  {
   "cell_type": "code",
   "execution_count": 61,
   "id": "182ba872",
   "metadata": {},
   "outputs": [
    {
     "data": {
      "text/plain": [
       "1.8666257858276367"
      ]
     },
     "execution_count": 61,
     "metadata": {},
     "output_type": "execute_result"
    }
   ],
   "source": [
    "(petro['tomorrow'] - petro['Close']).max()"
   ]
  },
  {
   "cell_type": "code",
   "execution_count": 62,
   "id": "965f86a9",
   "metadata": {},
   "outputs": [],
   "source": [
    "# transformar as variáveis do ibov para o dataset do modelo\n",
    "petro['bov_close'] = bov['Close']\n",
    "petro['bov_mean'] = bov['mean']\n",
    "petro['perc_mean'] = bov['perc_mean']"
   ]
  },
  {
   "cell_type": "code",
   "execution_count": 63,
   "id": "b51d88da",
   "metadata": {},
   "outputs": [],
   "source": [
    "# variável média móvel de 7 dias\n",
    "petro['weekly_mean'] = petro['Close'].rolling(7).mean()\n",
    "petro['weekly_mean'] = petro['weekly_mean'].fillna(petro['weekly_mean'].iloc[9])"
   ]
  },
  {
   "cell_type": "markdown",
   "id": "82317d3a",
   "metadata": {},
   "source": [
    "### Conjunto de treino e teste"
   ]
  },
  {
   "cell_type": "code",
   "execution_count": 64,
   "id": "967c89b0",
   "metadata": {},
   "outputs": [],
   "source": [
    "# conjunto de treinamento e de teste\n",
    "train = petro.iloc[:-680]\n",
    "test = petro.iloc[-680:]\n",
    "\n",
    "# definir as variáveis preditivas\n",
    "predictors = ['Close', 'Volume', 'Open', 'High', 'Low',\n",
    "              'C-O', 'H-L', 'Open_Perc', 'low_dif', 'high_dif', 'bov_close', 'perc_mean', 'bov_mean', 'weekly_mean', \n",
    "               'open_close_ratio', 'high_close_ratio', 'low_close_ratio']\n",
    "X_train = train[predictors]\n",
    "X_test = test[predictors]"
   ]
  },
  {
   "cell_type": "code",
   "execution_count": 65,
   "id": "8778e1ad",
   "metadata": {},
   "outputs": [
    {
     "data": {
      "image/png": "[encoded data removed]",
      "text/plain": [
       "<Figure size 720x432 with 1 Axes>"
      ]
     },
     "metadata": {
      "needs_background": "light"
     },
     "output_type": "display_data"
    }
   ],
   "source": [
    "# gráfico com distinção entre dados de treinamento e teste\n",
    "fig, ax = plt.subplots(figsize=(10, 6))\n",
    "train['Close'].plot(kind='line', ax=ax)\n",
    "test['Close'].plot(kind='line', ax=ax)\n",
    "ax.set_title('Evolução do preço de fechamento da Petrobrás', fontsize=20, fontweight='bold')\n",
    "plt.tight_layout()"
   ]
  },
  {
   "cell_type": "markdown",
   "id": "cde424c0",
   "metadata": {},
   "source": [
    "### Padronizar os dados"
   ]
  },
  {
   "cell_type": "code",
   "execution_count": 66,
   "id": "861224b0",
   "metadata": {},
   "outputs": [],
   "source": [
    "from sklearn.preprocessing import StandardScaler\n",
    "scale = StandardScaler().fit(X_train)\n",
    "X_train = scale.transform(X_train)"
   ]
  },
  {
   "cell_type": "markdown",
   "id": "1c6d097f",
   "metadata": {},
   "source": [
    "### Construção e treinamento do modelo"
   ]
  },
  {
   "cell_type": "code",
   "execution_count": 67,
   "id": "37d6595a",
   "metadata": {},
   "outputs": [
    {
     "data": {
      "text/plain": [
       "SVC(C=0.0001, kernel='poly')"
      ]
     },
     "execution_count": 67,
     "metadata": {},
     "output_type": "execute_result"
    }
   ],
   "source": [
    "# modelo SVC\n",
    "from sklearn.svm import SVC\n",
    "model = SVC(kernel='poly', C=0.0001, degree=3)\n",
    "model.fit(X_train, train['target'])"
   ]
  },
  {
   "cell_type": "markdown",
   "id": "ab09ff66",
   "metadata": {},
   "source": [
    "### Previsão e avaliação do modelo"
   ]
  },
  {
   "cell_type": "code",
   "execution_count": 68,
   "id": "0293f04b",
   "metadata": {},
   "outputs": [],
   "source": [
    "# métricas utilizadas\n",
    "from sklearn.metrics import precision_score\n",
    "from sklearn.metrics import classification_report\n",
    "from sklearn.metrics import recall_score\n",
    "from sklearn.metrics import accuracy_score"
   ]
  },
  {
   "cell_type": "code",
   "execution_count": 69,
   "id": "5078e421",
   "metadata": {},
   "outputs": [],
   "source": [
    "# prever o modelo\n",
    "X_test = scale.transform(X_test)\n",
    "preds = model.predict(X_test)"
   ]
  },
  {
   "cell_type": "code",
   "execution_count": 70,
   "id": "1ba87d17",
   "metadata": {},
   "outputs": [
    {
     "name": "stdout",
     "output_type": "stream",
     "text": [
      "1.0\n"
     ]
    },
    {
     "data": {
      "text/plain": [
       "0.50130005200208"
      ]
     },
     "execution_count": 70,
     "metadata": {},
     "output_type": "execute_result"
    }
   ],
   "source": [
    "predict = model.predict(X_train)\n",
    "print(precision_score(predict, train['target']))\n",
    "accuracy_score(predict, train['target'])"
   ]
  },
  {
   "cell_type": "code",
   "execution_count": 71,
   "id": "8cbaa780",
   "metadata": {},
   "outputs": [],
   "source": [
    "preds = pd.Series(preds)"
   ]
  },
  {
   "cell_type": "code",
   "execution_count": 72,
   "id": "a91483c7",
   "metadata": {},
   "outputs": [
    {
     "name": "stdout",
     "output_type": "stream",
     "text": [
      "Precisão:  0.5117647058823529\n",
      "Recall:  1.0\n",
      "Acurácia:  0.5117647058823529\n"
     ]
    }
   ],
   "source": [
    "# precisão nos dados treinados\n",
    "print('Precisão: ', precision_score(test['target'], preds))\n",
    "print('Recall: ', recall_score(test['target'], preds))\n",
    "print('Acurácia: ', accuracy_score(test['target'], preds))"
   ]
  },
  {
   "cell_type": "code",
   "execution_count": null,
   "id": "096bedf6",
   "metadata": {},
   "outputs": [],
   "source": []
  }
 ],
 "metadata": {
  "kernelspec": {
   "display_name": "Python 3 (ipykernel)",
   "language": "python",
   "name": "python3"
  },
  "language_info": {
   "codemirror_mode": {
    "name": "ipython",
    "version": 3
   },
   "file_extension": ".py",
   "mimetype": "text/x-python",
   "name": "python",
   "nbconvert_exporter": "python",
   "pygments_lexer": "ipython3",
   "version": "3.7.1"
  }
 },
 "nbformat": 4,
 "nbformat_minor": 5
}
