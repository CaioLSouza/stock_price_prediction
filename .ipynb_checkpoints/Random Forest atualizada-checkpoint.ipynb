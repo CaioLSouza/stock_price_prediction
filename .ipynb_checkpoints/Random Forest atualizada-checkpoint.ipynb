{
 "cells": [
  {
   "cell_type": "code",
   "execution_count": 1,
   "id": "db27988b",
   "metadata": {},
   "outputs": [
    {
     "name": "stdout",
     "output_type": "stream",
     "text": [
      "Collecting yfinance\n",
      "  Downloading yfinance-0.1.74-py2.py3-none-any.whl (27 kB)\n",
      "Collecting pandas>=0.24.0\n",
      "  Downloading pandas-1.4.3-cp39-cp39-macosx_11_0_arm64.whl (10.5 MB)\n",
      "\u001b[2K     \u001b[90m━━━━━━━━━━━━━━━━━━━━━━━━━━━━━━━━━━━━━━━━\u001b[0m \u001b[32m10.5/10.5 MB\u001b[0m \u001b[31m17.7 MB/s\u001b[0m eta \u001b[36m0:00:00\u001b[0m \u001b[36m0:00:01\u001b[0m\n",
      "\u001b[?25hCollecting numpy>=1.15\n",
      "  Downloading numpy-1.23.1-cp39-cp39-macosx_11_0_arm64.whl (13.3 MB)\n",
      "\u001b[2K     \u001b[90m━━━━━━━━━━━━━━━━━━━━━━━━━━━━━━━━━━━━━━━━\u001b[0m \u001b[32m13.3/13.3 MB\u001b[0m \u001b[31m34.9 MB/s\u001b[0m eta \u001b[36m0:00:00\u001b[0ma \u001b[36m0:00:01\u001b[0m\n",
      "\u001b[?25hCollecting multitasking>=0.0.7\n",
      "  Downloading multitasking-0.0.11-py3-none-any.whl (8.5 kB)\n",
      "Collecting requests>=2.26\n",
      "  Downloading requests-2.28.1-py3-none-any.whl (62 kB)\n",
      "\u001b[2K     \u001b[90m━━━━━━━━━━━━━━━━━━━━━━━━━━━━━━━━━━━━━━━\u001b[0m \u001b[32m62.8/62.8 kB\u001b[0m \u001b[31m140.3 MB/s\u001b[0m eta \u001b[36m0:00:00\u001b[0m\n",
      "\u001b[?25hCollecting lxml>=4.5.1\n",
      "  Downloading lxml-4.9.1.tar.gz (3.4 MB)\n",
      "\u001b[2K     \u001b[90m━━━━━━━━━━━━━━━━━━━━━━━━━━━━━━━━━━━━━━━━\u001b[0m \u001b[32m3.4/3.4 MB\u001b[0m \u001b[31m52.0 MB/s\u001b[0m eta \u001b[36m0:00:00\u001b[0ma \u001b[36m0:00:01\u001b[0m\n",
      "\u001b[?25h  Preparing metadata (setup.py) ... \u001b[?25ldone\n",
      "\u001b[?25hCollecting python-dateutil>=2.8.1\n",
      "  Downloading python_dateutil-2.8.2-py2.py3-none-any.whl (247 kB)\n",
      "\u001b[2K     \u001b[90m━━━━━━━━━━━━━━━━━━━━━━━━━━━━━━━━━━━━━━\u001b[0m \u001b[32m247.7/247.7 kB\u001b[0m \u001b[31m41.6 MB/s\u001b[0m eta \u001b[36m0:00:00\u001b[0m\n",
      "\u001b[?25hCollecting pytz>=2020.1\n",
      "  Downloading pytz-2022.1-py2.py3-none-any.whl (503 kB)\n",
      "\u001b[2K     \u001b[90m━━━━━━━━━━━━━━━━━━━━━━━━━━━━━━━━━━━━━━\u001b[0m \u001b[32m503.5/503.5 kB\u001b[0m \u001b[31m44.1 MB/s\u001b[0m eta \u001b[36m0:00:00\u001b[0m\n",
      "\u001b[?25hCollecting idna<4,>=2.5\n",
      "  Downloading idna-3.3-py3-none-any.whl (61 kB)\n",
      "\u001b[2K     \u001b[90m━━━━━━━━━━━━━━━━━━━━━━━━━━━━━━━━━━━━━━━━\u001b[0m \u001b[32m61.2/61.2 kB\u001b[0m \u001b[31m29.8 MB/s\u001b[0m eta \u001b[36m0:00:00\u001b[0m\n",
      "\u001b[?25hCollecting charset-normalizer<3,>=2\n",
      "  Downloading charset_normalizer-2.1.0-py3-none-any.whl (39 kB)\n",
      "Collecting urllib3<1.27,>=1.21.1\n",
      "  Downloading urllib3-1.26.11-py2.py3-none-any.whl (139 kB)\n",
      "\u001b[2K     \u001b[90m━━━━━━━━━━━━━━━━━━━━━━━━━━━━━━━━━━━━━━\u001b[0m \u001b[32m139.9/139.9 kB\u001b[0m \u001b[31m50.5 MB/s\u001b[0m eta \u001b[36m0:00:00\u001b[0m\n",
      "\u001b[?25hCollecting certifi>=2017.4.17\n",
      "  Downloading certifi-2022.6.15-py3-none-any.whl (160 kB)\n",
      "\u001b[2K     \u001b[90m━━━━━━━━━━━━━━━━━━━━━━━━━━━━━━━━━━━━━\u001b[0m \u001b[32m160.2/160.2 kB\u001b[0m \u001b[31m146.3 MB/s\u001b[0m eta \u001b[36m0:00:00\u001b[0m\n",
      "\u001b[?25hCollecting six>=1.5\n",
      "  Downloading six-1.16.0-py2.py3-none-any.whl (11 kB)\n",
      "Building wheels for collected packages: lxml\n",
      "  Building wheel for lxml (setup.py) ... \u001b[?25ldone\n",
      "\u001b[?25h  Created wheel for lxml: filename=lxml-4.9.1-cp39-cp39-macosx_11_0_arm64.whl size=1441680 sha256=7edfd769f9c872971520d36412b9a06e85b0855dfc783dda6349c00221526c3c\n",
      "  Stored in directory: /private/var/folders/_3/hy1xvl1s545g3884zjn6jhhm0000gn/T/pip-ephem-wheel-cache-3hw8ekfp/wheels/bc/40/07/57dfeee521e18239f57d187948850364c1818be877c9acdf5e\n",
      "Successfully built lxml\n",
      "Installing collected packages: pytz, multitasking, urllib3, six, numpy, lxml, idna, charset-normalizer, certifi, requests, python-dateutil, pandas, yfinance\n",
      "Successfully installed certifi-2022.6.15 charset-normalizer-2.1.0 idna-3.3 lxml-4.9.1 multitasking-0.0.11 numpy-1.23.1 pandas-1.4.3 python-dateutil-2.8.2 pytz-2022.1 requests-2.28.1 six-1.16.0 urllib3-1.26.11 yfinance-0.1.74\n"
     ]
    }
   ],
   "source": [
    "! pip install yfinance --upgrade --no-cache-dir"
   ]
  },
  {
   "cell_type": "code",
   "execution_count": 5,
   "id": "485061a5",
   "metadata": {},
   "outputs": [],
   "source": [
    "import yfinance as yfs"
   ]
  },
  {
   "cell_type": "code",
   "execution_count": 6,
   "id": "9e4681e6",
   "metadata": {},
   "outputs": [],
   "source": [
    "codigo = ['PETR4.SA']\n",
    "petro = yfs.Ticker(codigo[0])"
   ]
  },
  {
   "cell_type": "code",
   "execution_count": 7,
   "id": "17fc3a41",
   "metadata": {},
   "outputs": [],
   "source": [
    "petro = petro.history(period='max')"
   ]
  },
  {
   "cell_type": "code",
   "execution_count": 8,
   "id": "51130ab0",
   "metadata": {},
   "outputs": [],
   "source": [
    "import pandas as pd\n",
    "import matplotlib.pyplot as plt"
   ]
  },
  {
   "cell_type": "code",
   "execution_count": 9,
   "id": "bba1749e",
   "metadata": {},
   "outputs": [
    {
     "data": {
      "image/png": "[encoded data removed]",
      "text/plain": [
       "<Figure size 432x288 with 1 Axes>"
      ]
     },
     "metadata": {
      "needs_background": "light"
     },
     "output_type": "display_data"
    }
   ],
   "source": [
    "petro.plot.line(y='Close', use_index=True)\n",
    "plt.tight_layout()"
   ]
  },
  {
   "cell_type": "code",
   "execution_count": 10,
   "id": "b177b6a2",
   "metadata": {},
   "outputs": [],
   "source": [
    "del petro['Dividends']\n",
    "del petro['Stock Splits']"
   ]
  },
  {
   "cell_type": "code",
   "execution_count": 11,
   "id": "37280555",
   "metadata": {},
   "outputs": [],
   "source": [
    "petro['tomorrow'] = petro.Close.shift(-1)"
   ]
  },
  {
   "cell_type": "code",
   "execution_count": 12,
   "id": "d6d2367c",
   "metadata": {},
   "outputs": [],
   "source": [
    "petro['target'] = (petro['tomorrow'] > petro['Close']).astype(int)"
   ]
  },
  {
   "cell_type": "code",
   "execution_count": 19,
   "id": "7bf2fb9f",
   "metadata": {},
   "outputs": [],
   "source": [
    "# variação percentual do preço de fechamento com 3 dias \n",
    "petro['Close_perc_3'] = ((petro['Close'] - petro['Close'].shift(3)) / petro['Close'].shift(3))\n",
    "petro['Close_perc_3'].fillna(petro['Close_perc_3'].iloc[4],inplace=True)\n",
    "# variação percentual com 5 dias \n",
    "petro['Close_perc_5'] = ((petro['Close'] - petro['Close'].shift(5)) / petro['Close'].shift(5))\n",
    "petro['Close_perc_5'].fillna(petro['Close_perc_5'].iloc[6],inplace=True)\n",
    "# variação percentual com 7 dias\n",
    "petro['Close_perc_7'] = ((petro['Close'] - petro['Close'].shift(7)) / petro['Close'].shift(7))\n",
    "petro['Close_perc_7'].fillna(petro['Close_perc_7'].iloc[7], inplace=True)\n",
    "# variação percentual de 15 dias \n",
    "petro['Close_perc_15'] = (petro['Close'] - petro['Close'].shift(15)) / petro['Close'].shift(15)\n",
    "petro['Close_perc_15'].fillna(petro['Close_perc_15'].iloc[16], inplace=True)"
   ]
  },
  {
   "cell_type": "code",
   "execution_count": 14,
   "id": "aa600cdb",
   "metadata": {},
   "outputs": [],
   "source": [
    "train = petro.iloc[:-300]\n",
    "test = petro.iloc[-300:]\n",
    "\n",
    "predictors = ['Close', 'Volume', 'Open', 'High', 'Low', 'Close_perc_3', 'Close_perc_5', 'Close_perc_7', \n",
    "              'Close_perc_15']"
   ]
  },
  {
   "cell_type": "code",
   "execution_count": 34,
   "id": "8f4de451-e025-4125-9296-d4698441c961",
   "metadata": {},
   "outputs": [
    {
     "data": {
      "text/html": [
       "<div>\n",
       "<style scoped>\n",
       "    .dataframe tbody tr th:only-of-type {\n",
       "        vertical-align: middle;\n",
       "    }\n",
       "\n",
       "    .dataframe tbody tr th {\n",
       "        vertical-align: top;\n",
       "    }\n",
       "\n",
       "    .dataframe thead th {\n",
       "        text-align: right;\n",
       "    }\n",
       "</style>\n",
       "<table border=\"1\" class=\"dataframe\">\n",
       "  <thead>\n",
       "    <tr style=\"text-align: right;\">\n",
       "      <th></th>\n",
       "      <th>Close</th>\n",
       "      <th>Volume</th>\n",
       "      <th>Open</th>\n",
       "      <th>High</th>\n",
       "      <th>Low</th>\n",
       "      <th>Close_perc_3</th>\n",
       "      <th>Close_perc_5</th>\n",
       "      <th>Close_perc_7</th>\n",
       "      <th>Close_perc_15</th>\n",
       "    </tr>\n",
       "    <tr>\n",
       "      <th>Date</th>\n",
       "      <th></th>\n",
       "      <th></th>\n",
       "      <th></th>\n",
       "      <th></th>\n",
       "      <th></th>\n",
       "      <th></th>\n",
       "      <th></th>\n",
       "      <th></th>\n",
       "      <th></th>\n",
       "    </tr>\n",
       "  </thead>\n",
       "  <tbody>\n",
       "    <tr>\n",
       "      <th>2000-01-03</th>\n",
       "      <td>2.627551</td>\n",
       "      <td>35389440000</td>\n",
       "      <td>2.627551</td>\n",
       "      <td>2.627551</td>\n",
       "      <td>2.627551</td>\n",
       "      <td>-0.009009</td>\n",
       "      <td>-0.013513</td>\n",
       "      <td>-0.066724</td>\n",
       "      <td>-0.069729</td>\n",
       "    </tr>\n",
       "    <tr>\n",
       "      <th>2000-01-04</th>\n",
       "      <td>2.482197</td>\n",
       "      <td>28861440000</td>\n",
       "      <td>2.482197</td>\n",
       "      <td>2.482197</td>\n",
       "      <td>2.482197</td>\n",
       "      <td>-0.009009</td>\n",
       "      <td>-0.013513</td>\n",
       "      <td>-0.066724</td>\n",
       "      <td>-0.069729</td>\n",
       "    </tr>\n",
       "    <tr>\n",
       "      <th>2000-01-05</th>\n",
       "      <td>2.457151</td>\n",
       "      <td>43033600000</td>\n",
       "      <td>2.457151</td>\n",
       "      <td>2.457151</td>\n",
       "      <td>2.457151</td>\n",
       "      <td>-0.009009</td>\n",
       "      <td>-0.013513</td>\n",
       "      <td>-0.066724</td>\n",
       "      <td>-0.069729</td>\n",
       "    </tr>\n",
       "    <tr>\n",
       "      <th>2000-01-06</th>\n",
       "      <td>2.448654</td>\n",
       "      <td>34055680000</td>\n",
       "      <td>2.448654</td>\n",
       "      <td>2.448654</td>\n",
       "      <td>2.448654</td>\n",
       "      <td>-0.068085</td>\n",
       "      <td>-0.013513</td>\n",
       "      <td>-0.066724</td>\n",
       "      <td>-0.069729</td>\n",
       "    </tr>\n",
       "    <tr>\n",
       "      <th>2000-01-07</th>\n",
       "      <td>2.459836</td>\n",
       "      <td>20912640000</td>\n",
       "      <td>2.459836</td>\n",
       "      <td>2.459836</td>\n",
       "      <td>2.459836</td>\n",
       "      <td>-0.009009</td>\n",
       "      <td>-0.013513</td>\n",
       "      <td>-0.066724</td>\n",
       "      <td>-0.069729</td>\n",
       "    </tr>\n",
       "    <tr>\n",
       "      <th>...</th>\n",
       "      <td>...</td>\n",
       "      <td>...</td>\n",
       "      <td>...</td>\n",
       "      <td>...</td>\n",
       "      <td>...</td>\n",
       "      <td>...</td>\n",
       "      <td>...</td>\n",
       "      <td>...</td>\n",
       "      <td>...</td>\n",
       "    </tr>\n",
       "    <tr>\n",
       "      <th>2021-05-24</th>\n",
       "      <td>18.186399</td>\n",
       "      <td>63029600</td>\n",
       "      <td>18.110595</td>\n",
       "      <td>18.275988</td>\n",
       "      <td>17.910744</td>\n",
       "      <td>0.009178</td>\n",
       "      <td>-0.010128</td>\n",
       "      <td>0.056022</td>\n",
       "      <td>0.126334</td>\n",
       "    </tr>\n",
       "    <tr>\n",
       "      <th>2021-05-25</th>\n",
       "      <td>17.807375</td>\n",
       "      <td>63672000</td>\n",
       "      <td>18.248424</td>\n",
       "      <td>18.344905</td>\n",
       "      <td>17.766027</td>\n",
       "      <td>-0.003471</td>\n",
       "      <td>-0.019355</td>\n",
       "      <td>-0.017490</td>\n",
       "      <td>0.128877</td>\n",
       "    </tr>\n",
       "    <tr>\n",
       "      <th>2021-05-26</th>\n",
       "      <td>17.979660</td>\n",
       "      <td>46646900</td>\n",
       "      <td>17.855615</td>\n",
       "      <td>18.041683</td>\n",
       "      <td>17.676438</td>\n",
       "      <td>0.005395</td>\n",
       "      <td>-0.002294</td>\n",
       "      <td>-0.021380</td>\n",
       "      <td>0.094838</td>\n",
       "    </tr>\n",
       "    <tr>\n",
       "      <th>2021-05-27</th>\n",
       "      <td>17.855616</td>\n",
       "      <td>48877800</td>\n",
       "      <td>17.972769</td>\n",
       "      <td>18.089923</td>\n",
       "      <td>17.759136</td>\n",
       "      <td>-0.018189</td>\n",
       "      <td>-0.000771</td>\n",
       "      <td>-0.016698</td>\n",
       "      <td>0.102553</td>\n",
       "    </tr>\n",
       "    <tr>\n",
       "      <th>2021-05-28</th>\n",
       "      <td>18.599886</td>\n",
       "      <td>129526400</td>\n",
       "      <td>18.055466</td>\n",
       "      <td>18.620561</td>\n",
       "      <td>18.021008</td>\n",
       "      <td>0.044505</td>\n",
       "      <td>0.040077</td>\n",
       "      <td>0.032122</td>\n",
       "      <td>0.107055</td>\n",
       "    </tr>\n",
       "  </tbody>\n",
       "</table>\n",
       "<p>5381 rows × 9 columns</p>\n",
       "</div>"
      ],
      "text/plain": [
       "                Close       Volume       Open       High        Low  \\\n",
       "Date                                                                  \n",
       "2000-01-03   2.627551  35389440000   2.627551   2.627551   2.627551   \n",
       "2000-01-04   2.482197  28861440000   2.482197   2.482197   2.482197   \n",
       "2000-01-05   2.457151  43033600000   2.457151   2.457151   2.457151   \n",
       "2000-01-06   2.448654  34055680000   2.448654   2.448654   2.448654   \n",
       "2000-01-07   2.459836  20912640000   2.459836   2.459836   2.459836   \n",
       "...               ...          ...        ...        ...        ...   \n",
       "2021-05-24  18.186399     63029600  18.110595  18.275988  17.910744   \n",
       "2021-05-25  17.807375     63672000  18.248424  18.344905  17.766027   \n",
       "2021-05-26  17.979660     46646900  17.855615  18.041683  17.676438   \n",
       "2021-05-27  17.855616     48877800  17.972769  18.089923  17.759136   \n",
       "2021-05-28  18.599886    129526400  18.055466  18.620561  18.021008   \n",
       "\n",
       "            Close_perc_3  Close_perc_5  Close_perc_7  Close_perc_15  \n",
       "Date                                                                 \n",
       "2000-01-03     -0.009009     -0.013513     -0.066724      -0.069729  \n",
       "2000-01-04     -0.009009     -0.013513     -0.066724      -0.069729  \n",
       "2000-01-05     -0.009009     -0.013513     -0.066724      -0.069729  \n",
       "2000-01-06     -0.068085     -0.013513     -0.066724      -0.069729  \n",
       "2000-01-07     -0.009009     -0.013513     -0.066724      -0.069729  \n",
       "...                  ...           ...           ...            ...  \n",
       "2021-05-24      0.009178     -0.010128      0.056022       0.126334  \n",
       "2021-05-25     -0.003471     -0.019355     -0.017490       0.128877  \n",
       "2021-05-26      0.005395     -0.002294     -0.021380       0.094838  \n",
       "2021-05-27     -0.018189     -0.000771     -0.016698       0.102553  \n",
       "2021-05-28      0.044505      0.040077      0.032122       0.107055  \n",
       "\n",
       "[5381 rows x 9 columns]"
      ]
     },
     "execution_count": 34,
     "metadata": {},
     "output_type": "execute_result"
    }
   ],
   "source": [
    "train[predictors]"
   ]
  },
  {
   "cell_type": "code",
   "execution_count": 35,
   "id": "7f1a262e-e5fd-4501-8c9f-de58b89fa3f1",
   "metadata": {},
   "outputs": [
    {
     "data": {
      "text/plain": [
       "Date\n",
       "2000-01-03    0\n",
       "2000-01-04    0\n",
       "2000-01-05    0\n",
       "2000-01-06    1\n",
       "2000-01-07    1\n",
       "             ..\n",
       "2021-05-24    0\n",
       "2021-05-25    1\n",
       "2021-05-26    0\n",
       "2021-05-27    1\n",
       "2021-05-28    0\n",
       "Name: target, Length: 5381, dtype: int64"
      ]
     },
     "execution_count": 35,
     "metadata": {},
     "output_type": "execute_result"
    }
   ],
   "source": [
    "train['target']"
   ]
  },
  {
   "cell_type": "code",
   "execution_count": 16,
   "id": "20899db7",
   "metadata": {},
   "outputs": [],
   "source": [
    "from sklearn.ensemble import RandomForestClassifier"
   ]
  },
  {
   "cell_type": "code",
   "execution_count": 17,
   "id": "18039880",
   "metadata": {},
   "outputs": [
    {
     "name": "stderr",
     "output_type": "stream",
     "text": [
      "/Users/gabriel/miniforge3/envs/stock/lib/python3.9/site-packages/sklearn/metrics/_classification.py:1334: UndefinedMetricWarning: Precision is ill-defined and being set to 0.0 due to no predicted samples. Use `zero_division` parameter to control this behavior.\n",
      "  _warn_prf(average, modifier, msg_start, len(result))\n",
      "/Users/gabriel/miniforge3/envs/stock/lib/python3.9/site-packages/sklearn/metrics/_classification.py:1334: UndefinedMetricWarning: Precision is ill-defined and being set to 0.0 due to no predicted samples. Use `zero_division` parameter to control this behavior.\n",
      "  _warn_prf(average, modifier, msg_start, len(result))\n",
      "/Users/gabriel/miniforge3/envs/stock/lib/python3.9/site-packages/sklearn/metrics/_classification.py:1334: UndefinedMetricWarning: Precision is ill-defined and being set to 0.0 due to no predicted samples. Use `zero_division` parameter to control this behavior.\n",
      "  _warn_prf(average, modifier, msg_start, len(result))\n"
     ]
    },
    {
     "data": {
      "text/html": [
       "<style>#sk-container-id-1 {color: black;background-color: white;}#sk-container-id-1 pre{padding: 0;}#sk-container-id-1 div.sk-toggleable {background-color: white;}#sk-container-id-1 label.sk-toggleable__label {cursor: pointer;display: block;width: 100%;margin-bottom: 0;padding: 0.3em;box-sizing: border-box;text-align: center;}#sk-container-id-1 label.sk-toggleable__label-arrow:before {content: \"▸\";float: left;margin-right: 0.25em;color: #696969;}#sk-container-id-1 label.sk-toggleable__label-arrow:hover:before {color: black;}#sk-container-id-1 div.sk-estimator:hover label.sk-toggleable__label-arrow:before {color: black;}#sk-container-id-1 div.sk-toggleable__content {max-height: 0;max-width: 0;overflow: hidden;text-align: left;background-color: #f0f8ff;}#sk-container-id-1 div.sk-toggleable__content pre {margin: 0.2em;color: black;border-radius: 0.25em;background-color: #f0f8ff;}#sk-container-id-1 input.sk-toggleable__control:checked~div.sk-toggleable__content {max-height: 200px;max-width: 100%;overflow: auto;}#sk-container-id-1 input.sk-toggleable__control:checked~label.sk-toggleable__label-arrow:before {content: \"▾\";}#sk-container-id-1 div.sk-estimator input.sk-toggleable__control:checked~label.sk-toggleable__label {background-color: #d4ebff;}#sk-container-id-1 div.sk-label input.sk-toggleable__control:checked~label.sk-toggleable__label {background-color: #d4ebff;}#sk-container-id-1 input.sk-hidden--visually {border: 0;clip: rect(1px 1px 1px 1px);clip: rect(1px, 1px, 1px, 1px);height: 1px;margin: -1px;overflow: hidden;padding: 0;position: absolute;width: 1px;}#sk-container-id-1 div.sk-estimator {font-family: monospace;background-color: #f0f8ff;border: 1px dotted black;border-radius: 0.25em;box-sizing: border-box;margin-bottom: 0.5em;}#sk-container-id-1 div.sk-estimator:hover {background-color: #d4ebff;}#sk-container-id-1 div.sk-parallel-item::after {content: \"\";width: 100%;border-bottom: 1px solid gray;flex-grow: 1;}#sk-container-id-1 div.sk-label:hover label.sk-toggleable__label {background-color: #d4ebff;}#sk-container-id-1 div.sk-serial::before {content: \"\";position: absolute;border-left: 1px solid gray;box-sizing: border-box;top: 0;bottom: 0;left: 50%;z-index: 0;}#sk-container-id-1 div.sk-serial {display: flex;flex-direction: column;align-items: center;background-color: white;padding-right: 0.2em;padding-left: 0.2em;position: relative;}#sk-container-id-1 div.sk-item {position: relative;z-index: 1;}#sk-container-id-1 div.sk-parallel {display: flex;align-items: stretch;justify-content: center;background-color: white;position: relative;}#sk-container-id-1 div.sk-item::before, #sk-container-id-1 div.sk-parallel-item::before {content: \"\";position: absolute;border-left: 1px solid gray;box-sizing: border-box;top: 0;bottom: 0;left: 50%;z-index: -1;}#sk-container-id-1 div.sk-parallel-item {display: flex;flex-direction: column;z-index: 1;position: relative;background-color: white;}#sk-container-id-1 div.sk-parallel-item:first-child::after {align-self: flex-end;width: 50%;}#sk-container-id-1 div.sk-parallel-item:last-child::after {align-self: flex-start;width: 50%;}#sk-container-id-1 div.sk-parallel-item:only-child::after {width: 0;}#sk-container-id-1 div.sk-dashed-wrapped {border: 1px dashed gray;margin: 0 0.4em 0.5em 0.4em;box-sizing: border-box;padding-bottom: 0.4em;background-color: white;}#sk-container-id-1 div.sk-label label {font-family: monospace;font-weight: bold;display: inline-block;line-height: 1.2em;}#sk-container-id-1 div.sk-label-container {text-align: center;}#sk-container-id-1 div.sk-container {/* jupyter's `normalize.less` sets `[hidden] { display: none; }` but bootstrap.min.css set `[hidden] { display: none !important; }` so we also need the `!important` here to be able to override the default hidden behavior on the sphinx rendered scikit-learn.org. See: https://github.com/scikit-learn/scikit-learn/issues/21755 */display: inline-block !important;position: relative;}#sk-container-id-1 div.sk-text-repr-fallback {display: none;}</style><div id=\"sk-container-id-1\" class=\"sk-top-container\"><div class=\"sk-text-repr-fallback\"><pre>GridSearchCV(cv=TimeSeriesSplit(gap=0, max_train_size=None, n_splits=5, test_size=None),\n",
       "             estimator=RandomForestClassifier(),\n",
       "             param_grid=[{&#x27;max_depth&#x27;: [400, 500, 600],\n",
       "                          &#x27;min_samples_split&#x27;: [100, 200, 300],\n",
       "                          &#x27;n_estimators&#x27;: [100, 200, 300, 400, 500]}],\n",
       "             scoring=&#x27;precision&#x27;)</pre><b>In a Jupyter environment, please rerun this cell to show the HTML representation or trust the notebook. <br />On GitHub, the HTML representation is unable to render, please try loading this page with nbviewer.org.</b></div><div class=\"sk-container\" hidden><div class=\"sk-item sk-dashed-wrapped\"><div class=\"sk-label-container\"><div class=\"sk-label sk-toggleable\"><input class=\"sk-toggleable__control sk-hidden--visually\" id=\"sk-estimator-id-1\" type=\"checkbox\" ><label for=\"sk-estimator-id-1\" class=\"sk-toggleable__label sk-toggleable__label-arrow\">GridSearchCV</label><div class=\"sk-toggleable__content\"><pre>GridSearchCV(cv=TimeSeriesSplit(gap=0, max_train_size=None, n_splits=5, test_size=None),\n",
       "             estimator=RandomForestClassifier(),\n",
       "             param_grid=[{&#x27;max_depth&#x27;: [400, 500, 600],\n",
       "                          &#x27;min_samples_split&#x27;: [100, 200, 300],\n",
       "                          &#x27;n_estimators&#x27;: [100, 200, 300, 400, 500]}],\n",
       "             scoring=&#x27;precision&#x27;)</pre></div></div></div><div class=\"sk-parallel\"><div class=\"sk-parallel-item\"><div class=\"sk-item\"><div class=\"sk-label-container\"><div class=\"sk-label sk-toggleable\"><input class=\"sk-toggleable__control sk-hidden--visually\" id=\"sk-estimator-id-2\" type=\"checkbox\" ><label for=\"sk-estimator-id-2\" class=\"sk-toggleable__label sk-toggleable__label-arrow\">estimator: RandomForestClassifier</label><div class=\"sk-toggleable__content\"><pre>RandomForestClassifier()</pre></div></div></div><div class=\"sk-serial\"><div class=\"sk-item\"><div class=\"sk-estimator sk-toggleable\"><input class=\"sk-toggleable__control sk-hidden--visually\" id=\"sk-estimator-id-3\" type=\"checkbox\" ><label for=\"sk-estimator-id-3\" class=\"sk-toggleable__label sk-toggleable__label-arrow\">RandomForestClassifier</label><div class=\"sk-toggleable__content\"><pre>RandomForestClassifier()</pre></div></div></div></div></div></div></div></div></div></div>"
      ],
      "text/plain": [
       "GridSearchCV(cv=TimeSeriesSplit(gap=0, max_train_size=None, n_splits=5, test_size=None),\n",
       "             estimator=RandomForestClassifier(),\n",
       "             param_grid=[{'max_depth': [400, 500, 600],\n",
       "                          'min_samples_split': [100, 200, 300],\n",
       "                          'n_estimators': [100, 200, 300, 400, 500]}],\n",
       "             scoring='precision')"
      ]
     },
     "execution_count": 17,
     "metadata": {},
     "output_type": "execute_result"
    }
   ],
   "source": [
    "from sklearn.model_selection import TimeSeriesSplit\n",
    "tscv = TimeSeriesSplit()\n",
    "\n",
    "from sklearn.model_selection import GridSearchCV\n",
    "param_grid = [\n",
    "    {'n_estimators': [100, 200, 300, 400, 500], 'max_depth': [400, 500, 600], 'min_samples_split': [100, 200, 300]}\n",
    "]\n",
    "\n",
    "forest_class = RandomForestClassifier()\n",
    "\n",
    "grid_search = GridSearchCV(forest_class, param_grid, cv=tscv,\n",
    "                           scoring='precision')\n",
    "\n",
    "grid_search.fit(train[predictors], train['target'])"
   ]
  },
  {
   "cell_type": "code",
   "execution_count": 18,
   "id": "384f3cdf",
   "metadata": {},
   "outputs": [
    {
     "data": {
      "text/plain": [
       "{'max_depth': 600, 'min_samples_split': 200, 'n_estimators': 100}"
      ]
     },
     "execution_count": 18,
     "metadata": {},
     "output_type": "execute_result"
    }
   ],
   "source": [
    "grid_search.best_params_"
   ]
  },
  {
   "cell_type": "code",
   "execution_count": 27,
   "id": "a0eee299",
   "metadata": {},
   "outputs": [],
   "source": [
    "model = RandomForestClassifier(n_estimators=100, min_samples_split = 200,max_depth=600 ,random_state=True)"
   ]
  },
  {
   "cell_type": "code",
   "execution_count": 28,
   "id": "d5696ac7",
   "metadata": {},
   "outputs": [
    {
     "data": {
      "text/html": [
       "<style>#sk-container-id-3 {color: black;background-color: white;}#sk-container-id-3 pre{padding: 0;}#sk-container-id-3 div.sk-toggleable {background-color: white;}#sk-container-id-3 label.sk-toggleable__label {cursor: pointer;display: block;width: 100%;margin-bottom: 0;padding: 0.3em;box-sizing: border-box;text-align: center;}#sk-container-id-3 label.sk-toggleable__label-arrow:before {content: \"▸\";float: left;margin-right: 0.25em;color: #696969;}#sk-container-id-3 label.sk-toggleable__label-arrow:hover:before {color: black;}#sk-container-id-3 div.sk-estimator:hover label.sk-toggleable__label-arrow:before {color: black;}#sk-container-id-3 div.sk-toggleable__content {max-height: 0;max-width: 0;overflow: hidden;text-align: left;background-color: #f0f8ff;}#sk-container-id-3 div.sk-toggleable__content pre {margin: 0.2em;color: black;border-radius: 0.25em;background-color: #f0f8ff;}#sk-container-id-3 input.sk-toggleable__control:checked~div.sk-toggleable__content {max-height: 200px;max-width: 100%;overflow: auto;}#sk-container-id-3 input.sk-toggleable__control:checked~label.sk-toggleable__label-arrow:before {content: \"▾\";}#sk-container-id-3 div.sk-estimator input.sk-toggleable__control:checked~label.sk-toggleable__label {background-color: #d4ebff;}#sk-container-id-3 div.sk-label input.sk-toggleable__control:checked~label.sk-toggleable__label {background-color: #d4ebff;}#sk-container-id-3 input.sk-hidden--visually {border: 0;clip: rect(1px 1px 1px 1px);clip: rect(1px, 1px, 1px, 1px);height: 1px;margin: -1px;overflow: hidden;padding: 0;position: absolute;width: 1px;}#sk-container-id-3 div.sk-estimator {font-family: monospace;background-color: #f0f8ff;border: 1px dotted black;border-radius: 0.25em;box-sizing: border-box;margin-bottom: 0.5em;}#sk-container-id-3 div.sk-estimator:hover {background-color: #d4ebff;}#sk-container-id-3 div.sk-parallel-item::after {content: \"\";width: 100%;border-bottom: 1px solid gray;flex-grow: 1;}#sk-container-id-3 div.sk-label:hover label.sk-toggleable__label {background-color: #d4ebff;}#sk-container-id-3 div.sk-serial::before {content: \"\";position: absolute;border-left: 1px solid gray;box-sizing: border-box;top: 0;bottom: 0;left: 50%;z-index: 0;}#sk-container-id-3 div.sk-serial {display: flex;flex-direction: column;align-items: center;background-color: white;padding-right: 0.2em;padding-left: 0.2em;position: relative;}#sk-container-id-3 div.sk-item {position: relative;z-index: 1;}#sk-container-id-3 div.sk-parallel {display: flex;align-items: stretch;justify-content: center;background-color: white;position: relative;}#sk-container-id-3 div.sk-item::before, #sk-container-id-3 div.sk-parallel-item::before {content: \"\";position: absolute;border-left: 1px solid gray;box-sizing: border-box;top: 0;bottom: 0;left: 50%;z-index: -1;}#sk-container-id-3 div.sk-parallel-item {display: flex;flex-direction: column;z-index: 1;position: relative;background-color: white;}#sk-container-id-3 div.sk-parallel-item:first-child::after {align-self: flex-end;width: 50%;}#sk-container-id-3 div.sk-parallel-item:last-child::after {align-self: flex-start;width: 50%;}#sk-container-id-3 div.sk-parallel-item:only-child::after {width: 0;}#sk-container-id-3 div.sk-dashed-wrapped {border: 1px dashed gray;margin: 0 0.4em 0.5em 0.4em;box-sizing: border-box;padding-bottom: 0.4em;background-color: white;}#sk-container-id-3 div.sk-label label {font-family: monospace;font-weight: bold;display: inline-block;line-height: 1.2em;}#sk-container-id-3 div.sk-label-container {text-align: center;}#sk-container-id-3 div.sk-container {/* jupyter's `normalize.less` sets `[hidden] { display: none; }` but bootstrap.min.css set `[hidden] { display: none !important; }` so we also need the `!important` here to be able to override the default hidden behavior on the sphinx rendered scikit-learn.org. See: https://github.com/scikit-learn/scikit-learn/issues/21755 */display: inline-block !important;position: relative;}#sk-container-id-3 div.sk-text-repr-fallback {display: none;}</style><div id=\"sk-container-id-3\" class=\"sk-top-container\"><div class=\"sk-text-repr-fallback\"><pre>RandomForestClassifier(max_depth=600, min_samples_split=200, random_state=True)</pre><b>In a Jupyter environment, please rerun this cell to show the HTML representation or trust the notebook. <br />On GitHub, the HTML representation is unable to render, please try loading this page with nbviewer.org.</b></div><div class=\"sk-container\" hidden><div class=\"sk-item\"><div class=\"sk-estimator sk-toggleable\"><input class=\"sk-toggleable__control sk-hidden--visually\" id=\"sk-estimator-id-5\" type=\"checkbox\" checked><label for=\"sk-estimator-id-5\" class=\"sk-toggleable__label sk-toggleable__label-arrow\">RandomForestClassifier</label><div class=\"sk-toggleable__content\"><pre>RandomForestClassifier(max_depth=600, min_samples_split=200, random_state=True)</pre></div></div></div></div></div>"
      ],
      "text/plain": [
       "RandomForestClassifier(max_depth=600, min_samples_split=200, random_state=True)"
      ]
     },
     "execution_count": 28,
     "metadata": {},
     "output_type": "execute_result"
    }
   ],
   "source": [
    "model.fit(train[predictors], train['target'])"
   ]
  },
  {
   "cell_type": "code",
   "execution_count": 29,
   "id": "518889f6",
   "metadata": {},
   "outputs": [],
   "source": [
    "from sklearn.metrics import precision_score\n",
    "preds = model.predict(test[predictors])"
   ]
  },
  {
   "cell_type": "code",
   "execution_count": 30,
   "id": "0f31f1c0",
   "metadata": {},
   "outputs": [
    {
     "data": {
      "text/plain": [
       "Date\n",
       "2021-05-31    0\n",
       "2021-06-01    0\n",
       "2021-06-02    0\n",
       "2021-06-04    0\n",
       "2021-06-07    1\n",
       "             ..\n",
       "2022-08-04    0\n",
       "2022-08-05    0\n",
       "2022-08-08    0\n",
       "2022-08-09    0\n",
       "2022-08-10    0\n",
       "Length: 300, dtype: int64"
      ]
     },
     "execution_count": 30,
     "metadata": {},
     "output_type": "execute_result"
    }
   ],
   "source": [
    "preds = preds.ravel()\n",
    "preds = pd.Series(preds, index=test.index)\n",
    "preds"
   ]
  },
  {
   "cell_type": "code",
   "execution_count": 31,
   "id": "5363396e",
   "metadata": {},
   "outputs": [
    {
     "data": {
      "text/plain": [
       "0.5882352941176471"
      ]
     },
     "execution_count": 31,
     "metadata": {},
     "output_type": "execute_result"
    }
   ],
   "source": [
    "precision_score(test['target'], preds)"
   ]
  },
  {
   "cell_type": "code",
   "execution_count": 32,
   "id": "964f8085",
   "metadata": {},
   "outputs": [
    {
     "data": {
      "text/plain": [
       "0.18518518518518517"
      ]
     },
     "execution_count": 32,
     "metadata": {},
     "output_type": "execute_result"
    }
   ],
   "source": [
    "from sklearn.metrics import recall_score\n",
    "recall_score(test['target'], preds)"
   ]
  },
  {
   "cell_type": "code",
   "execution_count": null,
   "id": "83f21521",
   "metadata": {},
   "outputs": [],
   "source": []
  }
 ],
 "metadata": {
  "kernelspec": {
   "display_name": "Python 3 (ipykernel)",
   "language": "python",
   "name": "python3"
  },
  "language_info": {
   "codemirror_mode": {
    "name": "ipython",
    "version": 3
   },
   "file_extension": ".py",
   "mimetype": "text/x-python",
   "name": "python",
   "nbconvert_exporter": "python",
   "pygments_lexer": "ipython3",
   "version": "3.9.13"
  }
 },
 "nbformat": 4,
 "nbformat_minor": 5
}
