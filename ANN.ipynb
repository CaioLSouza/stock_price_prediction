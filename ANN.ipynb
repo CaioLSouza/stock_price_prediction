{
 "cells": [
  {
   "cell_type": "markdown",
   "id": "7eb40873",
   "metadata": {},
   "source": [
    "# Previsão de preços de ações -- Redes Neurais"
   ]
  },
  {
   "cell_type": "markdown",
   "id": "469890da",
   "metadata": {},
   "source": [
    "### Importar os pacotes e o dataset"
   ]
  },
  {
   "cell_type": "code",
   "execution_count": 46,
   "id": "b77ce052",
   "metadata": {},
   "outputs": [],
   "source": [
    "import pandas as pd\n",
    "import matplotlib.pyplot as plt"
   ]
  },
  {
   "cell_type": "code",
   "execution_count": 47,
   "id": "affe25ff",
   "metadata": {},
   "outputs": [
    {
     "name": "stdout",
     "output_type": "stream",
     "text": [
      "Requirement already satisfied: tensorflow in c:\\users\\caiol\\appdata\\roaming\\python\\python37\\site-packages (2.9.1)Note: you may need to restart the kernel to use updated packages.\n",
      "\n",
      "Requirement already satisfied: typing-extensions>=3.6.6 in c:\\users\\caiol\\appdata\\roaming\\python\\python37\\site-packages (from tensorflow) (4.3.0)\n",
      "Requirement already satisfied: six>=1.12.0 in c:\\users\\caiol\\appdata\\local\\programs\\python\\python37\\lib\\site-packages (from tensorflow) (1.16.0)\n",
      "Requirement already satisfied: libclang>=13.0.0 in c:\\users\\caiol\\appdata\\roaming\\python\\python37\\site-packages (from tensorflow) (14.0.1)\n",
      "Requirement already satisfied: h5py>=2.9.0 in c:\\users\\caiol\\appdata\\local\\programs\\python\\python37\\lib\\site-packages (from tensorflow) (3.7.0)\n",
      "Requirement already satisfied: protobuf<3.20,>=3.9.2 in c:\\users\\caiol\\appdata\\roaming\\python\\python37\\site-packages (from tensorflow) (3.19.4)\n",
      "Requirement already satisfied: opt-einsum>=2.3.2 in c:\\users\\caiol\\appdata\\roaming\\python\\python37\\site-packages (from tensorflow) (3.3.0)\n",
      "Requirement already satisfied: keras<2.10.0,>=2.9.0rc0 in c:\\users\\caiol\\appdata\\roaming\\python\\python37\\site-packages (from tensorflow) (2.9.0)\n",
      "Requirement already satisfied: keras-preprocessing>=1.1.1 in c:\\users\\caiol\\appdata\\roaming\\python\\python37\\site-packages (from tensorflow) (1.1.2)\n",
      "Requirement already satisfied: gast<=0.4.0,>=0.2.1 in c:\\users\\caiol\\appdata\\roaming\\python\\python37\\site-packages (from tensorflow) (0.4.0)\n",
      "Requirement already satisfied: setuptools in c:\\users\\caiol\\appdata\\local\\programs\\python\\python37\\lib\\site-packages (from tensorflow) (63.4.1)\n",
      "Requirement already satisfied: tensorflow-io-gcs-filesystem>=0.23.1 in c:\\users\\caiol\\appdata\\roaming\\python\\python37\\site-packages (from tensorflow) (0.26.0)\n",
      "Requirement already satisfied: absl-py>=1.0.0 in c:\\users\\caiol\\appdata\\roaming\\python\\python37\\site-packages (from tensorflow) (1.2.0)\n",
      "Requirement already satisfied: wrapt>=1.11.0 in c:\\users\\caiol\\appdata\\local\\programs\\python\\python37\\lib\\site-packages (from tensorflow) (1.14.1)\n",
      "Requirement already satisfied: packaging in c:\\users\\caiol\\appdata\\local\\programs\\python\\python37\\lib\\site-packages (from tensorflow) (21.3)\n",
      "Requirement already satisfied: grpcio<2.0,>=1.24.3 in c:\\users\\caiol\\appdata\\roaming\\python\\python37\\site-packages (from tensorflow) (1.47.0)\n",
      "Requirement already satisfied: tensorflow-estimator<2.10.0,>=2.9.0rc0 in c:\\users\\caiol\\appdata\\roaming\\python\\python37\\site-packages (from tensorflow) (2.9.0)\n",
      "Requirement already satisfied: tensorboard<2.10,>=2.9 in c:\\users\\caiol\\appdata\\roaming\\python\\python37\\site-packages (from tensorflow) (2.9.1)\n",
      "Requirement already satisfied: termcolor>=1.1.0 in c:\\users\\caiol\\appdata\\roaming\\python\\python37\\site-packages (from tensorflow) (1.1.0)\n",
      "Requirement already satisfied: astunparse>=1.6.0 in c:\\users\\caiol\\appdata\\roaming\\python\\python37\\site-packages (from tensorflow) (1.6.3)\n",
      "Requirement already satisfied: numpy>=1.20 in c:\\users\\caiol\\appdata\\roaming\\python\\python37\\site-packages (from tensorflow) (1.21.6)\n",
      "Requirement already satisfied: google-pasta>=0.1.1 in c:\\users\\caiol\\appdata\\roaming\\python\\python37\\site-packages (from tensorflow) (0.2.0)\n",
      "Requirement already satisfied: flatbuffers<2,>=1.12 in c:\\users\\caiol\\appdata\\roaming\\python\\python37\\site-packages (from tensorflow) (1.12)\n",
      "Requirement already satisfied: wheel<1.0,>=0.23.0 in c:\\users\\caiol\\appdata\\local\\programs\\python\\python37\\lib\\site-packages (from astunparse>=1.6.0->tensorflow) (0.37.1)\n",
      "Requirement already satisfied: markdown>=2.6.8 in c:\\users\\caiol\\appdata\\roaming\\python\\python37\\site-packages (from tensorboard<2.10,>=2.9->tensorflow) (3.4.1)\n",
      "Requirement already satisfied: google-auth-oauthlib<0.5,>=0.4.1 in c:\\users\\caiol\\appdata\\roaming\\python\\python37\\site-packages (from tensorboard<2.10,>=2.9->tensorflow) (0.4.6)\n",
      "Requirement already satisfied: tensorboard-data-server<0.7.0,>=0.6.0 in c:\\users\\caiol\\appdata\\roaming\\python\\python37\\site-packages (from tensorboard<2.10,>=2.9->tensorflow) (0.6.1)\n",
      "Requirement already satisfied: tensorboard-plugin-wit>=1.6.0 in c:\\users\\caiol\\appdata\\roaming\\python\\python37\\site-packages (from tensorboard<2.10,>=2.9->tensorflow) (1.8.1)\n",
      "Requirement already satisfied: google-auth<3,>=1.6.3 in c:\\users\\caiol\\appdata\\roaming\\python\\python37\\site-packages (from tensorboard<2.10,>=2.9->tensorflow) (2.9.1)\n",
      "Requirement already satisfied: requests<3,>=2.21.0 in c:\\users\\caiol\\appdata\\local\\programs\\python\\python37\\lib\\site-packages (from tensorboard<2.10,>=2.9->tensorflow) (2.28.1)\n",
      "Requirement already satisfied: werkzeug>=1.0.1 in c:\\users\\caiol\\appdata\\roaming\\python\\python37\\site-packages (from tensorboard<2.10,>=2.9->tensorflow) (2.2.0)\n",
      "Requirement already satisfied: pyparsing!=3.0.5,>=2.0.2 in c:\\users\\caiol\\appdata\\local\\programs\\python\\python37\\lib\\site-packages (from packaging->tensorflow) (3.0.9)\n",
      "Requirement already satisfied: pyasn1-modules>=0.2.1 in c:\\users\\caiol\\appdata\\roaming\\python\\python37\\site-packages (from google-auth<3,>=1.6.3->tensorboard<2.10,>=2.9->tensorflow) (0.2.8)\n",
      "Requirement already satisfied: rsa<5,>=3.1.4 in c:\\users\\caiol\\appdata\\roaming\\python\\python37\\site-packages (from google-auth<3,>=1.6.3->tensorboard<2.10,>=2.9->tensorflow) (4.9)\n",
      "Requirement already satisfied: cachetools<6.0,>=2.0.0 in c:\\users\\caiol\\appdata\\roaming\\python\\python37\\site-packages (from google-auth<3,>=1.6.3->tensorboard<2.10,>=2.9->tensorflow) (5.2.0)\n",
      "Requirement already satisfied: requests-oauthlib>=0.7.0 in c:\\users\\caiol\\appdata\\roaming\\python\\python37\\site-packages (from google-auth-oauthlib<0.5,>=0.4.1->tensorboard<2.10,>=2.9->tensorflow) (1.3.1)\n",
      "Requirement already satisfied: importlib-metadata>=4.4 in c:\\users\\caiol\\appdata\\roaming\\python\\python37\\site-packages (from markdown>=2.6.8->tensorboard<2.10,>=2.9->tensorflow) (4.12.0)\n",
      "Requirement already satisfied: urllib3<1.27,>=1.21.1 in c:\\users\\caiol\\appdata\\local\\programs\\python\\python37\\lib\\site-packages (from requests<3,>=2.21.0->tensorboard<2.10,>=2.9->tensorflow) (1.26.11)\n",
      "Requirement already satisfied: charset-normalizer<3,>=2 in c:\\users\\caiol\\appdata\\local\\programs\\python\\python37\\lib\\site-packages (from requests<3,>=2.21.0->tensorboard<2.10,>=2.9->tensorflow) (2.1.0)\n",
      "Requirement already satisfied: idna<4,>=2.5 in c:\\users\\caiol\\appdata\\local\\programs\\python\\python37\\lib\\site-packages (from requests<3,>=2.21.0->tensorboard<2.10,>=2.9->tensorflow) (3.3)\n",
      "Requirement already satisfied: certifi>=2017.4.17 in c:\\users\\caiol\\appdata\\local\\programs\\python\\python37\\lib\\site-packages (from requests<3,>=2.21.0->tensorboard<2.10,>=2.9->tensorflow) (2022.6.15)\n",
      "Requirement already satisfied: MarkupSafe>=2.1.1 in c:\\users\\caiol\\appdata\\local\\programs\\python\\python37\\lib\\site-packages (from werkzeug>=1.0.1->tensorboard<2.10,>=2.9->tensorflow) (2.1.1)\n",
      "Requirement already satisfied: zipp>=0.5 in c:\\users\\caiol\\appdata\\local\\programs\\python\\python37\\lib\\site-packages (from importlib-metadata>=4.4->markdown>=2.6.8->tensorboard<2.10,>=2.9->tensorflow) (3.8.1)\n",
      "Requirement already satisfied: pyasn1<0.5.0,>=0.4.6 in c:\\users\\caiol\\appdata\\roaming\\python\\python37\\site-packages (from pyasn1-modules>=0.2.1->google-auth<3,>=1.6.3->tensorboard<2.10,>=2.9->tensorflow) (0.4.8)\n",
      "Requirement already satisfied: oauthlib>=3.0.0 in c:\\users\\caiol\\appdata\\roaming\\python\\python37\\site-packages (from requests-oauthlib>=0.7.0->google-auth-oauthlib<0.5,>=0.4.1->tensorboard<2.10,>=2.9->tensorflow) (3.2.0)\n"
     ]
    }
   ],
   "source": [
    "pip install tensorflow"
   ]
  },
  {
   "cell_type": "code",
   "execution_count": 48,
   "id": "30c368a8",
   "metadata": {},
   "outputs": [],
   "source": [
    "import tensorflow as tf"
   ]
  },
  {
   "cell_type": "code",
   "execution_count": 49,
   "id": "fdf57fe5",
   "metadata": {},
   "outputs": [],
   "source": [
    "from keras.models import Sequential\n",
    "from keras.layers import Activation, Dense"
   ]
  },
  {
   "cell_type": "code",
   "execution_count": 50,
   "id": "efb82c9c",
   "metadata": {},
   "outputs": [],
   "source": [
    "import pandas as pd\n",
    "import matplotlib.pyplot as plt"
   ]
  },
  {
   "cell_type": "code",
   "execution_count": 51,
   "id": "61a458d8",
   "metadata": {},
   "outputs": [
    {
     "name": "stdout",
     "output_type": "stream",
     "text": [
      "Requirement already satisfied: yfinance in c:\\users\\caiol\\appdata\\local\\programs\\python\\python37\\lib\\site-packages (0.1.74)\n",
      "Requirement already satisfied: pandas>=0.24.0 in c:\\users\\caiol\\appdata\\local\\programs\\python\\python37\\lib\\site-packages (from yfinance) (1.3.5)\n",
      "Requirement already satisfied: lxml>=4.5.1 in c:\\users\\caiol\\appdata\\local\\programs\\python\\python37\\lib\\site-packages (from yfinance) (4.9.1)\n",
      "Requirement already satisfied: requests>=2.26 in c:\\users\\caiol\\appdata\\local\\programs\\python\\python37\\lib\\site-packages (from yfinance) (2.28.1)\n",
      "Requirement already satisfied: multitasking>=0.0.7 in c:\\users\\caiol\\appdata\\local\\programs\\python\\python37\\lib\\site-packages (from yfinance) (0.0.11)\n",
      "Requirement already satisfied: numpy>=1.15 in c:\\users\\caiol\\appdata\\roaming\\python\\python37\\site-packages (from yfinance) (1.21.6)\n",
      "Requirement already satisfied: python-dateutil>=2.7.3 in c:\\users\\caiol\\appdata\\local\\programs\\python\\python37\\lib\\site-packages (from pandas>=0.24.0->yfinance) (2.8.2)\n",
      "Requirement already satisfied: pytz>=2017.3 in c:\\users\\caiol\\appdata\\local\\programs\\python\\python37\\lib\\site-packages (from pandas>=0.24.0->yfinance) (2021.3)\n",
      "Requirement already satisfied: charset-normalizer<3,>=2 in c:\\users\\caiol\\appdata\\local\\programs\\python\\python37\\lib\\site-packages (from requests>=2.26->yfinance) (2.1.0)\n",
      "Requirement already satisfied: urllib3<1.27,>=1.21.1 in c:\\users\\caiol\\appdata\\local\\programs\\python\\python37\\lib\\site-packages (from requests>=2.26->yfinance) (1.26.11)\n",
      "Requirement already satisfied: certifi>=2017.4.17 in c:\\users\\caiol\\appdata\\local\\programs\\python\\python37\\lib\\site-packages (from requests>=2.26->yfinance) (2022.6.15)\n",
      "Requirement already satisfied: idna<4,>=2.5 in c:\\users\\caiol\\appdata\\local\\programs\\python\\python37\\lib\\site-packages (from requests>=2.26->yfinance) (3.3)\n",
      "Requirement already satisfied: six>=1.5 in c:\\users\\caiol\\appdata\\local\\programs\\python\\python37\\lib\\site-packages (from python-dateutil>=2.7.3->pandas>=0.24.0->yfinance) (1.16.0)\n"
     ]
    }
   ],
   "source": [
    "!pip install yfinance --upgrade --no-cache-dir"
   ]
  },
  {
   "cell_type": "code",
   "execution_count": 52,
   "id": "66846152",
   "metadata": {},
   "outputs": [],
   "source": [
    "import yfinance as yf\n",
    "yf.pdr_override()"
   ]
  },
  {
   "cell_type": "code",
   "execution_count": 53,
   "id": "734136b3",
   "metadata": {},
   "outputs": [],
   "source": [
    "codigo = ['PETR4.SA']\n",
    "petro = yf.Ticker(codigo[0])"
   ]
  },
  {
   "cell_type": "code",
   "execution_count": 54,
   "id": "a3fe9809",
   "metadata": {},
   "outputs": [],
   "source": [
    "# importar os dados do ibovespa \n",
    "code = ['BOVA11.SA']\n",
    "bov = yf.Ticker(code[0])"
   ]
  },
  {
   "cell_type": "code",
   "execution_count": 55,
   "id": "c37d0e06",
   "metadata": {},
   "outputs": [],
   "source": [
    "petro = petro.history(start='2012-01-01', end='2022-07-01')"
   ]
  },
  {
   "cell_type": "code",
   "execution_count": 56,
   "id": "44d9cd33",
   "metadata": {},
   "outputs": [],
   "source": [
    "bov = bov.history(start='2012-01-01', end='2022-07-01')"
   ]
  },
  {
   "cell_type": "markdown",
   "id": "5ce15a80",
   "metadata": {},
   "source": [
    "### Limpar os dados"
   ]
  },
  {
   "cell_type": "code",
   "execution_count": 57,
   "id": "e6287e1a",
   "metadata": {},
   "outputs": [
    {
     "name": "stdout",
     "output_type": "stream",
     "text": [
      "[0]\n"
     ]
    },
    {
     "data": {
      "text/plain": [
       "array([0.000000e+00, 1.773000e-01, 1.244000e-01, 2.000000e-01,\n",
       "       3.861700e-01, 9.672000e-01, 5.000000e-02, 1.000000e-01,\n",
       "       7.165630e-01, 1.949400e-02, 2.009250e-01, 4.219420e-01,\n",
       "       4.490000e-04, 4.610000e-04, 7.928340e-01, 1.609911e+00,\n",
       "       3.250487e+00, 2.970249e+00, 3.715490e+00])"
      ]
     },
     "execution_count": 57,
     "metadata": {},
     "output_type": "execute_result"
    }
   ],
   "source": [
    "print(petro['Stock Splits'].unique())\n",
    "petro['Dividends'].unique()"
   ]
  },
  {
   "cell_type": "code",
   "execution_count": 58,
   "id": "4e2d9279",
   "metadata": {},
   "outputs": [],
   "source": [
    "petro.drop('Stock Splits',axis=1, inplace=True)"
   ]
  },
  {
   "cell_type": "code",
   "execution_count": 59,
   "id": "cc1186f8",
   "metadata": {},
   "outputs": [
    {
     "data": {
      "image/png": "[encoded data removed]",
      "text/plain": [
       "<Figure size 1008x576 with 1 Axes>"
      ]
     },
     "metadata": {
      "needs_background": "light"
     },
     "output_type": "display_data"
    }
   ],
   "source": [
    "fig, ax = plt.subplots(figsize=(14, 8))\n",
    "petro['Close'].plot(kind='line', ax=ax, linewidth=2)\n",
    "ax.set_title('Evolução do preço de fechamento da Petrobrás', fontsize=20, fontweight='bold')\n",
    "plt.tight_layout()"
   ]
  },
  {
   "cell_type": "markdown",
   "id": "a31bb614",
   "metadata": {},
   "source": [
    "### Criar novas variáveis"
   ]
  },
  {
   "cell_type": "code",
   "execution_count": 60,
   "id": "6c62fcc4",
   "metadata": {},
   "outputs": [],
   "source": [
    "# variável High minus Low price\n",
    "petro['H-L'] = petro['High'] - petro['Low']"
   ]
  },
  {
   "cell_type": "code",
   "execution_count": 61,
   "id": "56e26a47",
   "metadata": {},
   "outputs": [],
   "source": [
    "# variável close menos open price\n",
    "petro['C-O'] = petro['Close'] - petro['Open']"
   ]
  },
  {
   "cell_type": "code",
   "execution_count": 62,
   "id": "ced4eb3a",
   "metadata": {},
   "outputs": [],
   "source": [
    "# variável diferença entre os valores mais baixos\n",
    "petro['low_dif'] = (petro['Low'] - petro['Low'].shift(1))\n",
    "petro['low_dif'] = petro['low_dif'].fillna(value=0.405418)"
   ]
  },
  {
   "cell_type": "code",
   "execution_count": 63,
   "id": "327349af",
   "metadata": {},
   "outputs": [],
   "source": [
    "# variável diferença entre os valores mais altos\n",
    "petro['high_dif'] = petro['High'] - petro['High'].shift(1)\n",
    "petro['high_dif'] = petro['high_dif'].fillna(value=0.263652)"
   ]
  },
  {
   "cell_type": "code",
   "execution_count": 64,
   "id": "7cdc06c6",
   "metadata": {},
   "outputs": [],
   "source": [
    "# variáveis de proporção\n",
    "petro['open_close_ratio'] = petro['Open'] / petro['Close']\n",
    "petro['high_close_ratio'] = petro['High'] / petro['Close']\n",
    "petro['low_close_ratio'] = petro['Low'] / petro['Close']"
   ]
  },
  {
   "cell_type": "code",
   "execution_count": 65,
   "id": "e73c5b04",
   "metadata": {},
   "outputs": [],
   "source": [
    "# variável média entre o maior e o menor preço\n",
    "bov['mean'] = (bov['High'] + bov['Low']) / 2\n",
    "\n",
    "# definir variável variação percentual da média do índice\n",
    "bov['perc_mean'] = (bov['mean'].shift(1) - bov['mean']) / bov['mean'].shift(1)\n",
    "bov['perc_mean'] = bov['perc_mean'].fillna(value=-0.023021)"
   ]
  },
  {
   "cell_type": "code",
   "execution_count": 66,
   "id": "20288998",
   "metadata": {},
   "outputs": [],
   "source": [
    "# transformar as variáveis do ibov para o dataset do modelo\n",
    "petro['bov_close'] = bov['Close']\n",
    "petro['bov_mean'] = bov['mean']\n",
    "petro['perc_mean'] = bov['perc_mean']"
   ]
  },
  {
   "cell_type": "markdown",
   "id": "45455b3a",
   "metadata": {},
   "source": [
    "### Variável-alvo"
   ]
  },
  {
   "cell_type": "code",
   "execution_count": 67,
   "id": "d2d44a0b",
   "metadata": {},
   "outputs": [],
   "source": [
    "petro['tomorrow'] = petro['Close'].shift(-1)"
   ]
  },
  {
   "cell_type": "code",
   "execution_count": 68,
   "id": "18c1a0b6",
   "metadata": {},
   "outputs": [],
   "source": [
    "petro['target'] = (petro['tomorrow'] > petro['Close']).astype(int)"
   ]
  },
  {
   "cell_type": "code",
   "execution_count": 69,
   "id": "6e5ced85",
   "metadata": {},
   "outputs": [],
   "source": [
    "# definir features preditivas\n",
    "predictors = ['Close', 'Volume', 'Open', 'High', 'Low','H-L', 'C-O','low_dif', 'high_dif', 'open_close_ratio',\n",
    "              'high_close_ratio','low_close_ratio']"
   ]
  },
  {
   "cell_type": "markdown",
   "id": "d86639b2",
   "metadata": {},
   "source": [
    "### Treino e teste"
   ]
  },
  {
   "cell_type": "code",
   "execution_count": 85,
   "id": "cef48a1f",
   "metadata": {},
   "outputs": [],
   "source": [
    "# conjunto de treinamento e de teste\n",
    "train = petro.iloc[:-200]\n",
    "test = petro.iloc[-200:]\n",
    "\n",
    "predictors = ['Close', 'Volume', 'Open', 'High', 'Low']\n",
    "\n",
    "X_train = train[predictors]\n",
    "X_test = test[predictors]"
   ]
  },
  {
   "cell_type": "code",
   "execution_count": 86,
   "id": "91626d4f",
   "metadata": {},
   "outputs": [
    {
     "data": {
      "image/png": "[encoded data removed]",
      "text/plain": [
       "<Figure size 720x432 with 1 Axes>"
      ]
     },
     "metadata": {
      "needs_background": "light"
     },
     "output_type": "display_data"
    }
   ],
   "source": [
    "# gráfico com distinção entre dados de treinamento e teste\n",
    "fig, ax = plt.subplots(figsize=(10, 6))\n",
    "train['Close'].plot(kind='line', ax=ax)\n",
    "test['Close'].plot(kind='line', ax=ax)\n",
    "ax.set_title('Evolução do preço de fechamento da Petrobrás', fontsize=20, fontweight='bold')\n",
    "plt.tight_layout()"
   ]
  },
  {
   "cell_type": "markdown",
   "id": "6fa4e5f2",
   "metadata": {},
   "source": [
    "### Criar o modelo e treiná-lo"
   ]
  },
  {
   "cell_type": "code",
   "execution_count": 87,
   "id": "cb6454a1",
   "metadata": {},
   "outputs": [],
   "source": [
    "# criando as redes neurais \n",
    "model = Sequential()\n",
    "model.add(Dense(units=32, activation='relu', input_shape=(train[predictors].shape[1:])))\n",
    "model.add(Dense(units=10, activation='relu', input_shape=(train[predictors].shape[1:])))\n",
    "model.add(Dense(units=6, activation='relu', input_shape=(train[predictors].shape[1:])))\n",
    "model.add(Dense(1, activation = 'sigmoid'))"
   ]
  },
  {
   "cell_type": "code",
   "execution_count": 88,
   "id": "124d1c76",
   "metadata": {},
   "outputs": [],
   "source": [
    "from sklearn.metrics import precision_score\n",
    "from sklearn.metrics import recall_score"
   ]
  },
  {
   "cell_type": "code",
   "execution_count": 89,
   "id": "754966ab",
   "metadata": {},
   "outputs": [],
   "source": [
    "# especificando o otimizador e a função de perda\n",
    "model.compile(optimizer='adam', loss='binary_crossentropy', metrics=['accuracy', \n",
    "                                                                     tf.keras.metrics.Precision(), tf.keras.metrics.Recall()])"
   ]
  },
  {
   "cell_type": "code",
   "execution_count": 90,
   "id": "58c642e8",
   "metadata": {},
   "outputs": [
    {
     "name": "stdout",
     "output_type": "stream",
     "text": [
      "Epoch 1/200\n",
      "241/241 [==============================] - 2s 2ms/step - loss: 17984.9043 - accuracy: 0.5002 - precision_1: 0.5023 - recall_1: 0.4478\n",
      "Epoch 2/200\n",
      "241/241 [==============================] - 1s 2ms/step - loss: 130.1006 - accuracy: 0.5056 - precision_1: 0.5072 - recall_1: 0.5224\n",
      "Epoch 3/200\n",
      "241/241 [==============================] - 1s 2ms/step - loss: 76.9725 - accuracy: 0.5010 - precision_1: 0.5028 - recall_1: 0.5166\n",
      "Epoch 4/200\n",
      "241/241 [==============================] - 1s 2ms/step - loss: 28.5743 - accuracy: 0.5214 - precision_1: 0.5233 - recall_1: 0.5224\n",
      "Epoch 5/200\n",
      "241/241 [==============================] - 1s 2ms/step - loss: 7.0375 - accuracy: 0.5065 - precision_1: 0.5082 - recall_1: 0.5149\n",
      "Epoch 6/200\n",
      "241/241 [==============================] - 1s 2ms/step - loss: 2.1178 - accuracy: 0.5002 - precision_1: 0.5020 - recall_1: 0.5149\n",
      "Epoch 7/200\n",
      "241/241 [==============================] - 1s 2ms/step - loss: 0.7525 - accuracy: 0.4894 - precision_1: 0.4925 - recall_1: 0.5738\n",
      "Epoch 8/200\n",
      "241/241 [==============================] - 1s 2ms/step - loss: 0.6994 - accuracy: 0.4919 - precision_1: 0.4946 - recall_1: 0.5663\n",
      "Epoch 9/200\n",
      "241/241 [==============================] - 1s 2ms/step - loss: 0.6935 - accuracy: 0.5073 - precision_1: 0.5080 - recall_1: 0.5779\n",
      "Epoch 10/200\n",
      "241/241 [==============================] - 1s 2ms/step - loss: 0.6935 - accuracy: 0.4923 - precision_1: 0.4970 - recall_1: 0.9585\n",
      "Epoch 11/200\n",
      "241/241 [==============================] - 1s 2ms/step - loss: 0.6932 - accuracy: 0.5019 - precision_1: 0.5019 - recall_1: 1.0000\n",
      "Epoch 12/200\n",
      "241/241 [==============================] - 1s 2ms/step - loss: 0.6932 - accuracy: 0.4998 - precision_1: 0.5008 - recall_1: 0.9834\n",
      "Epoch 13/200\n",
      "241/241 [==============================] - 1s 2ms/step - loss: 0.6933 - accuracy: 0.4836 - precision_1: 0.4892 - recall_1: 0.6584\n",
      "Epoch 14/200\n",
      "241/241 [==============================] - 1s 2ms/step - loss: 0.6932 - accuracy: 0.5019 - precision_1: 0.5019 - recall_1: 1.0000\n",
      "Epoch 15/200\n",
      "241/241 [==============================] - 1s 2ms/step - loss: 0.6932 - accuracy: 0.4919 - precision_1: 0.4967 - recall_1: 0.9486\n",
      "Epoch 16/200\n",
      "241/241 [==============================] - 1s 2ms/step - loss: 0.6932 - accuracy: 0.4944 - precision_1: 0.4979 - recall_1: 0.8806\n",
      "Epoch 17/200\n",
      "241/241 [==============================] - 1s 2ms/step - loss: 0.6932 - accuracy: 0.4869 - precision_1: 0.4905 - recall_1: 0.5788\n",
      "Epoch 18/200\n",
      "241/241 [==============================] - 0s 2ms/step - loss: 0.6932 - accuracy: 0.4969 - precision_1: 0.4993 - recall_1: 0.9328\n",
      "Epoch 19/200\n",
      "241/241 [==============================] - 1s 2ms/step - loss: 0.6932 - accuracy: 0.5019 - precision_1: 0.5019 - recall_1: 1.0000\n",
      "Epoch 20/200\n",
      "241/241 [==============================] - 1s 2ms/step - loss: 0.6932 - accuracy: 0.5019 - precision_1: 0.5019 - recall_1: 1.0000\n",
      "Epoch 21/200\n",
      "241/241 [==============================] - 1s 2ms/step - loss: 0.6932 - accuracy: 0.5019 - precision_1: 0.5019 - recall_1: 1.0000\n",
      "Epoch 22/200\n",
      "241/241 [==============================] - 1s 2ms/step - loss: 0.6932 - accuracy: 0.5019 - precision_1: 0.5019 - recall_1: 1.0000\n",
      "Epoch 23/200\n",
      "241/241 [==============================] - 1s 2ms/step - loss: 0.6932 - accuracy: 0.4919 - precision_1: 0.4954 - recall_1: 0.6750\n",
      "Epoch 24/200\n",
      "241/241 [==============================] - 1s 2ms/step - loss: 0.6932 - accuracy: 0.5019 - precision_1: 0.5019 - recall_1: 1.0000\n",
      "Epoch 25/200\n",
      "241/241 [==============================] - 1s 2ms/step - loss: 0.6932 - accuracy: 0.4935 - precision_1: 0.4975 - recall_1: 0.9088\n",
      "Epoch 26/200\n",
      "241/241 [==============================] - 0s 2ms/step - loss: 0.6932 - accuracy: 0.5019 - precision_1: 0.5019 - recall_1: 1.0000\n",
      "Epoch 27/200\n",
      "241/241 [==============================] - 1s 2ms/step - loss: 0.6932 - accuracy: 0.5019 - precision_1: 0.5019 - recall_1: 1.0000\n",
      "Epoch 28/200\n",
      "241/241 [==============================] - 1s 2ms/step - loss: 0.6932 - accuracy: 0.5019 - precision_1: 0.5019 - recall_1: 1.0000\n",
      "Epoch 29/200\n",
      "241/241 [==============================] - 1s 3ms/step - loss: 0.6932 - accuracy: 0.5019 - precision_1: 0.5019 - recall_1: 1.0000\n",
      "Epoch 30/200\n",
      "241/241 [==============================] - 1s 3ms/step - loss: 0.6932 - accuracy: 0.5019 - precision_1: 0.5019 - recall_1: 1.0000\n",
      "Epoch 31/200\n",
      "241/241 [==============================] - 1s 2ms/step - loss: 0.6932 - accuracy: 0.5019 - precision_1: 0.5019 - recall_1: 1.0000\n",
      "Epoch 32/200\n",
      "241/241 [==============================] - 1s 2ms/step - loss: 0.6932 - accuracy: 0.4977 - precision_1: 0.4998 - recall_1: 0.9710\n",
      "Epoch 33/200\n",
      "241/241 [==============================] - 1s 2ms/step - loss: 0.6932 - accuracy: 0.4952 - precision_1: 0.4932 - recall_1: 0.2098\n",
      "Epoch 34/200\n",
      "241/241 [==============================] - 1s 2ms/step - loss: 0.6932 - accuracy: 0.4969 - precision_1: 0.4990 - recall_1: 0.5970\n",
      "Epoch 35/200\n",
      "241/241 [==============================] - 1s 2ms/step - loss: 0.6932 - accuracy: 0.4960 - precision_1: 0.4989 - recall_1: 0.9154\n",
      "Epoch 36/200\n",
      "241/241 [==============================] - 1s 2ms/step - loss: 0.6932 - accuracy: 0.4944 - precision_1: 0.4979 - recall_1: 0.9055\n",
      "Epoch 37/200\n",
      "241/241 [==============================] - 1s 2ms/step - loss: 0.6932 - accuracy: 0.5019 - precision_1: 0.5019 - recall_1: 1.0000\n",
      "Epoch 38/200\n",
      "241/241 [==============================] - 1s 2ms/step - loss: 0.6932 - accuracy: 0.5019 - precision_1: 0.5019 - recall_1: 1.0000\n",
      "Epoch 39/200\n",
      "241/241 [==============================] - 1s 2ms/step - loss: 0.6932 - accuracy: 0.4911 - precision_1: 0.4956 - recall_1: 0.8027\n",
      "Epoch 40/200\n",
      "241/241 [==============================] - 1s 2ms/step - loss: 0.6932 - accuracy: 0.5019 - precision_1: 0.5019 - recall_1: 1.0000\n",
      "Epoch 41/200\n",
      "241/241 [==============================] - 0s 2ms/step - loss: 0.6932 - accuracy: 0.4836 - precision_1: 0.4900 - recall_1: 0.7081\n",
      "Epoch 42/200\n",
      "241/241 [==============================] - 1s 2ms/step - loss: 0.6932 - accuracy: 0.4911 - precision_1: 0.4959 - recall_1: 0.8607\n",
      "Epoch 43/200\n",
      "241/241 [==============================] - 1s 2ms/step - loss: 0.6932 - accuracy: 0.5019 - precision_1: 0.5019 - recall_1: 1.0000\n",
      "Epoch 44/200\n",
      "241/241 [==============================] - 1s 2ms/step - loss: 0.6932 - accuracy: 0.4935 - precision_1: 0.4960 - recall_1: 0.5647\n",
      "Epoch 45/200\n",
      "241/241 [==============================] - 0s 2ms/step - loss: 0.6932 - accuracy: 0.4902 - precision_1: 0.4959 - recall_1: 0.9469\n",
      "Epoch 46/200\n",
      "241/241 [==============================] - 1s 2ms/step - loss: 0.6932 - accuracy: 0.5019 - precision_1: 0.5019 - recall_1: 1.0000\n",
      "Epoch 47/200\n",
      "241/241 [==============================] - 0s 2ms/step - loss: 0.6932 - accuracy: 0.5019 - precision_1: 0.5019 - recall_1: 1.0000\n",
      "Epoch 48/200\n",
      "241/241 [==============================] - 1s 2ms/step - loss: 0.6932 - accuracy: 0.4769 - precision_1: 0.4828 - recall_1: 0.5937\n",
      "Epoch 49/200\n",
      "241/241 [==============================] - 0s 2ms/step - loss: 0.6932 - accuracy: 0.5019 - precision_1: 0.5019 - recall_1: 1.0000\n",
      "Epoch 50/200\n",
      "241/241 [==============================] - 1s 2ms/step - loss: 0.6932 - accuracy: 0.5019 - precision_1: 0.5019 - recall_1: 1.0000\n",
      "Epoch 51/200\n",
      "241/241 [==============================] - 1s 2ms/step - loss: 0.6932 - accuracy: 0.4861 - precision_1: 0.4917 - recall_1: 0.7148\n",
      "Epoch 52/200\n",
      "241/241 [==============================] - 1s 2ms/step - loss: 0.6932 - accuracy: 0.5019 - precision_1: 0.5019 - recall_1: 1.0000\n",
      "Epoch 53/200\n",
      "241/241 [==============================] - 1s 2ms/step - loss: 0.6932 - accuracy: 0.5019 - precision_1: 0.5019 - recall_1: 1.0000\n",
      "Epoch 54/200\n",
      "241/241 [==============================] - 1s 2ms/step - loss: 0.6932 - accuracy: 0.4994 - precision_1: 0.5006 - recall_1: 0.9809\n",
      "Epoch 55/200\n",
      "241/241 [==============================] - 1s 2ms/step - loss: 0.6932 - accuracy: 0.5019 - precision_1: 0.5019 - recall_1: 1.0000\n",
      "Epoch 56/200\n",
      "241/241 [==============================] - 1s 2ms/step - loss: 0.6932 - accuracy: 0.4869 - precision_1: 0.4898 - recall_1: 0.5373\n",
      "Epoch 57/200\n",
      "241/241 [==============================] - 0s 2ms/step - loss: 0.6932 - accuracy: 0.5019 - precision_1: 0.5019 - recall_1: 1.0000\n",
      "Epoch 58/200\n",
      "241/241 [==============================] - 0s 2ms/step - loss: 0.6932 - accuracy: 0.4877 - precision_1: 0.4936 - recall_1: 0.7993\n",
      "Epoch 59/200\n",
      "241/241 [==============================] - 1s 3ms/step - loss: 0.6932 - accuracy: 0.5019 - precision_1: 0.5019 - recall_1: 1.0000\n",
      "Epoch 60/200\n",
      "241/241 [==============================] - 1s 3ms/step - loss: 0.6932 - accuracy: 0.4919 - precision_1: 0.4948 - recall_1: 0.5920\n",
      "Epoch 61/200\n",
      "241/241 [==============================] - 1s 2ms/step - loss: 0.6932 - accuracy: 0.5019 - precision_1: 0.5019 - recall_1: 1.0000\n",
      "Epoch 62/200\n",
      "241/241 [==============================] - 0s 2ms/step - loss: 0.6932 - accuracy: 0.5019 - precision_1: 0.5019 - recall_1: 1.0000\n",
      "Epoch 63/200\n",
      "241/241 [==============================] - 0s 2ms/step - loss: 0.6932 - accuracy: 0.5019 - precision_1: 0.5019 - recall_1: 1.0000\n",
      "Epoch 64/200\n",
      "241/241 [==============================] - 0s 2ms/step - loss: 0.6932 - accuracy: 0.4960 - precision_1: 0.4989 - recall_1: 0.9486\n",
      "Epoch 65/200\n",
      "241/241 [==============================] - 0s 2ms/step - loss: 0.6932 - accuracy: 0.5019 - precision_1: 0.5019 - recall_1: 1.0000\n",
      "Epoch 66/200\n",
      "241/241 [==============================] - 1s 2ms/step - loss: 0.6932 - accuracy: 0.5019 - precision_1: 0.5019 - recall_1: 1.0000\n",
      "Epoch 67/200\n",
      "241/241 [==============================] - 0s 2ms/step - loss: 0.6932 - accuracy: 0.4969 - precision_1: 0.4979 - recall_1: 0.2902\n",
      "Epoch 68/200\n",
      "241/241 [==============================] - 0s 2ms/step - loss: 0.6932 - accuracy: 0.4935 - precision_1: 0.4975 - recall_1: 0.9088\n",
      "Epoch 69/200\n",
      "241/241 [==============================] - 0s 2ms/step - loss: 0.6932 - accuracy: 0.5019 - precision_1: 0.5019 - recall_1: 1.0000\n",
      "Epoch 70/200\n",
      "241/241 [==============================] - 0s 2ms/step - loss: 0.6932 - accuracy: 0.4894 - precision_1: 0.4939 - recall_1: 0.7056\n",
      "Epoch 71/200\n",
      "241/241 [==============================] - 0s 2ms/step - loss: 0.6932 - accuracy: 0.4935 - precision_1: 0.4972 - recall_1: 0.7968\n",
      "Epoch 72/200\n",
      "241/241 [==============================] - 0s 2ms/step - loss: 0.6932 - accuracy: 0.5019 - precision_1: 0.5019 - recall_1: 1.0000\n",
      "Epoch 73/200\n",
      "241/241 [==============================] - 0s 2ms/step - loss: 0.6932 - accuracy: 0.5019 - precision_1: 0.5019 - recall_1: 1.0000\n",
      "Epoch 74/200\n",
      "241/241 [==============================] - 0s 2ms/step - loss: 0.6932 - accuracy: 0.5019 - precision_1: 0.5019 - recall_1: 1.0000\n",
      "Epoch 75/200\n",
      "241/241 [==============================] - 0s 2ms/step - loss: 0.6932 - accuracy: 0.4919 - precision_1: 0.4962 - recall_1: 0.8159\n",
      "Epoch 76/200\n",
      "241/241 [==============================] - 0s 2ms/step - loss: 0.6932 - accuracy: 0.5019 - precision_1: 0.5019 - recall_1: 1.0000\n",
      "Epoch 77/200\n",
      "241/241 [==============================] - 0s 2ms/step - loss: 0.6932 - accuracy: 0.5019 - precision_1: 0.5019 - recall_1: 1.0000\n",
      "Epoch 78/200\n",
      "241/241 [==============================] - 0s 2ms/step - loss: 0.6932 - accuracy: 0.5019 - precision_1: 0.5019 - recall_1: 1.0000\n",
      "Epoch 79/200\n",
      "241/241 [==============================] - 0s 2ms/step - loss: 0.6932 - accuracy: 0.5019 - precision_1: 0.5019 - recall_1: 1.0000\n",
      "Epoch 80/200\n",
      "241/241 [==============================] - 1s 2ms/step - loss: 0.6932 - accuracy: 0.5019 - precision_1: 0.5019 - recall_1: 1.0000\n",
      "Epoch 81/200\n",
      "241/241 [==============================] - 0s 2ms/step - loss: 0.6932 - accuracy: 0.4952 - precision_1: 0.4982 - recall_1: 0.7861\n",
      "Epoch 82/200\n",
      "241/241 [==============================] - 0s 2ms/step - loss: 0.6932 - accuracy: 0.4919 - precision_1: 0.4940 - recall_1: 0.5133\n",
      "Epoch 83/200\n",
      "241/241 [==============================] - 0s 2ms/step - loss: 0.6932 - accuracy: 0.5019 - precision_1: 0.5019 - recall_1: 1.0000\n",
      "Epoch 84/200\n",
      "241/241 [==============================] - 0s 2ms/step - loss: 0.6932 - accuracy: 0.5019 - precision_1: 0.5019 - recall_1: 1.0000\n",
      "Epoch 85/200\n",
      "241/241 [==============================] - 0s 2ms/step - loss: 0.6932 - accuracy: 0.5019 - precision_1: 0.5019 - recall_1: 1.0000\n",
      "Epoch 86/200\n",
      "241/241 [==============================] - 0s 2ms/step - loss: 0.6932 - accuracy: 0.5019 - precision_1: 0.5019 - recall_1: 1.0000\n",
      "Epoch 87/200\n",
      "241/241 [==============================] - 0s 2ms/step - loss: 0.6932 - accuracy: 0.4911 - precision_1: 0.4917 - recall_1: 0.4171\n",
      "Epoch 88/200\n",
      "241/241 [==============================] - 0s 2ms/step - loss: 0.6932 - accuracy: 0.4902 - precision_1: 0.4950 - recall_1: 0.7728\n",
      "Epoch 89/200\n",
      "241/241 [==============================] - 0s 2ms/step - loss: 0.6932 - accuracy: 0.4877 - precision_1: 0.4934 - recall_1: 0.7703\n",
      "Epoch 90/200\n",
      "241/241 [==============================] - 0s 2ms/step - loss: 0.6932 - accuracy: 0.5019 - precision_1: 0.5019 - recall_1: 1.0000\n",
      "Epoch 91/200\n",
      "241/241 [==============================] - 1s 2ms/step - loss: 0.6932 - accuracy: 0.5019 - precision_1: 0.5019 - recall_1: 1.0000\n",
      "Epoch 92/200\n",
      "241/241 [==============================] - 1s 3ms/step - loss: 0.6932 - accuracy: 0.4919 - precision_1: 0.4950 - recall_1: 0.6128\n",
      "Epoch 93/200\n",
      "241/241 [==============================] - 1s 2ms/step - loss: 0.6932 - accuracy: 0.5019 - precision_1: 0.5019 - recall_1: 1.0000\n",
      "Epoch 94/200\n",
      "241/241 [==============================] - 0s 2ms/step - loss: 0.6932 - accuracy: 0.4977 - precision_1: 0.4998 - recall_1: 0.9420\n",
      "Epoch 95/200\n",
      "241/241 [==============================] - 0s 2ms/step - loss: 0.6932 - accuracy: 0.5019 - precision_1: 0.5019 - recall_1: 1.0000\n",
      "Epoch 96/200\n",
      "241/241 [==============================] - 0s 2ms/step - loss: 0.6932 - accuracy: 0.5019 - precision_1: 0.5019 - recall_1: 1.0000\n",
      "Epoch 97/200\n",
      "241/241 [==============================] - 0s 2ms/step - loss: 0.6932 - accuracy: 0.4960 - precision_1: 0.4989 - recall_1: 0.9237\n",
      "Epoch 98/200\n",
      "241/241 [==============================] - 1s 2ms/step - loss: 0.6932 - accuracy: 0.4944 - precision_1: 0.4978 - recall_1: 0.8391\n",
      "Epoch 99/200\n",
      "241/241 [==============================] - 0s 2ms/step - loss: 0.6932 - accuracy: 0.4902 - precision_1: 0.4947 - recall_1: 0.7396\n",
      "Epoch 100/200\n",
      "241/241 [==============================] - 0s 2ms/step - loss: 0.6932 - accuracy: 0.5019 - precision_1: 0.5019 - recall_1: 1.0000\n",
      "Epoch 101/200\n",
      "241/241 [==============================] - 0s 2ms/step - loss: 0.6932 - accuracy: 0.5019 - precision_1: 0.5019 - recall_1: 1.0000\n",
      "Epoch 102/200\n",
      "241/241 [==============================] - 0s 2ms/step - loss: 0.6932 - accuracy: 0.5019 - precision_1: 0.5019 - recall_1: 1.0000\n",
      "Epoch 103/200\n",
      "241/241 [==============================] - 0s 2ms/step - loss: 0.6932 - accuracy: 0.4927 - precision_1: 0.4965 - recall_1: 0.7670\n",
      "Epoch 104/200\n",
      "241/241 [==============================] - 1s 2ms/step - loss: 0.6932 - accuracy: 0.4894 - precision_1: 0.4944 - recall_1: 0.7678\n",
      "Epoch 105/200\n",
      "241/241 [==============================] - 0s 2ms/step - loss: 0.6932 - accuracy: 0.4852 - precision_1: 0.4892 - recall_1: 0.5813\n",
      "Epoch 106/200\n",
      "241/241 [==============================] - 0s 2ms/step - loss: 0.6932 - accuracy: 0.5019 - precision_1: 0.5019 - recall_1: 1.0000\n",
      "Epoch 107/200\n",
      "241/241 [==============================] - 0s 2ms/step - loss: 0.6933 - accuracy: 0.4969 - precision_1: 0.4989 - recall_1: 0.5680\n",
      "Epoch 108/200\n",
      "241/241 [==============================] - 0s 2ms/step - loss: 0.6932 - accuracy: 0.4977 - precision_1: 0.4998 - recall_1: 0.9461\n",
      "Epoch 109/200\n",
      "241/241 [==============================] - 0s 2ms/step - loss: 0.6932 - accuracy: 0.5019 - precision_1: 0.5019 - recall_1: 1.0000\n",
      "Epoch 110/200\n",
      "241/241 [==============================] - 0s 2ms/step - loss: 0.6932 - accuracy: 0.5019 - precision_1: 0.5019 - recall_1: 1.0000\n",
      "Epoch 111/200\n",
      "241/241 [==============================] - 0s 2ms/step - loss: 0.6932 - accuracy: 0.5019 - precision_1: 0.5019 - recall_1: 1.0000\n",
      "Epoch 112/200\n",
      "241/241 [==============================] - 0s 2ms/step - loss: 0.6932 - accuracy: 0.5019 - precision_1: 0.5019 - recall_1: 1.0000\n",
      "Epoch 113/200\n",
      "241/241 [==============================] - 0s 2ms/step - loss: 0.6932 - accuracy: 0.4852 - precision_1: 0.4828 - recall_1: 0.3615\n",
      "Epoch 114/200\n",
      "241/241 [==============================] - 1s 2ms/step - loss: 0.6932 - accuracy: 0.4827 - precision_1: 0.4908 - recall_1: 0.8192\n",
      "Epoch 115/200\n",
      "241/241 [==============================] - 0s 2ms/step - loss: 0.6932 - accuracy: 0.5019 - precision_1: 0.5019 - recall_1: 1.0000\n",
      "Epoch 116/200\n",
      "241/241 [==============================] - 0s 2ms/step - loss: 0.6932 - accuracy: 0.4944 - precision_1: 0.4969 - recall_1: 0.6028\n",
      "Epoch 117/200\n",
      "241/241 [==============================] - 0s 2ms/step - loss: 0.6932 - accuracy: 0.4869 - precision_1: 0.4923 - recall_1: 0.7114\n",
      "Epoch 118/200\n",
      "241/241 [==============================] - 0s 2ms/step - loss: 0.6932 - accuracy: 0.5019 - precision_1: 0.5019 - recall_1: 1.0000\n",
      "Epoch 119/200\n",
      "241/241 [==============================] - 0s 2ms/step - loss: 0.6932 - accuracy: 0.5019 - precision_1: 0.5019 - recall_1: 1.0000\n",
      "Epoch 120/200\n",
      "241/241 [==============================] - 0s 2ms/step - loss: 0.6932 - accuracy: 0.4960 - precision_1: 0.4989 - recall_1: 0.9237\n",
      "Epoch 121/200\n",
      "241/241 [==============================] - 0s 2ms/step - loss: 0.6932 - accuracy: 0.5019 - precision_1: 0.5019 - recall_1: 1.0000\n",
      "Epoch 122/200\n",
      "241/241 [==============================] - 0s 2ms/step - loss: 0.6932 - accuracy: 0.4852 - precision_1: 0.4802 - recall_1: 0.3118\n",
      "Epoch 123/200\n",
      "241/241 [==============================] - 1s 3ms/step - loss: 0.6932 - accuracy: 0.4952 - precision_1: 0.4985 - recall_1: 0.9809\n",
      "Epoch 124/200\n",
      "241/241 [==============================] - 1s 3ms/step - loss: 0.6932 - accuracy: 0.5019 - precision_1: 0.5019 - recall_1: 1.0000\n",
      "Epoch 125/200\n",
      "241/241 [==============================] - 1s 2ms/step - loss: 0.6932 - accuracy: 0.5019 - precision_1: 0.5019 - recall_1: 1.0000\n",
      "Epoch 126/200\n",
      "241/241 [==============================] - 0s 2ms/step - loss: 0.6932 - accuracy: 0.5019 - precision_1: 0.5019 - recall_1: 1.0000\n",
      "Epoch 127/200\n",
      "241/241 [==============================] - 1s 2ms/step - loss: 0.6932 - accuracy: 0.5019 - precision_1: 0.5019 - recall_1: 1.0000\n",
      "Epoch 128/200\n",
      "241/241 [==============================] - 0s 2ms/step - loss: 0.6932 - accuracy: 0.5019 - precision_1: 0.5019 - recall_1: 1.0000\n",
      "Epoch 129/200\n",
      "241/241 [==============================] - 0s 2ms/step - loss: 0.6933 - accuracy: 0.4861 - precision_1: 0.4907 - recall_1: 0.6318\n",
      "Epoch 130/200\n",
      "241/241 [==============================] - 0s 2ms/step - loss: 0.6932 - accuracy: 0.4944 - precision_1: 0.4946 - recall_1: 0.3416\n",
      "Epoch 131/200\n",
      "241/241 [==============================] - 0s 2ms/step - loss: 0.6932 - accuracy: 0.5019 - precision_1: 0.5019 - recall_1: 1.0000\n",
      "Epoch 132/200\n",
      "241/241 [==============================] - 0s 2ms/step - loss: 0.6932 - accuracy: 0.5019 - precision_1: 0.5019 - recall_1: 1.0000\n",
      "Epoch 133/200\n",
      "241/241 [==============================] - 0s 2ms/step - loss: 0.6932 - accuracy: 0.4927 - precision_1: 0.4951 - recall_1: 0.5473\n",
      "Epoch 134/200\n",
      "241/241 [==============================] - 0s 2ms/step - loss: 0.6932 - accuracy: 0.5019 - precision_1: 0.5019 - recall_1: 1.0000\n",
      "Epoch 135/200\n",
      "241/241 [==============================] - 0s 2ms/step - loss: 0.6932 - accuracy: 0.5019 - precision_1: 0.5019 - recall_1: 1.0000\n",
      "Epoch 136/200\n",
      "241/241 [==============================] - 0s 2ms/step - loss: 0.6932 - accuracy: 0.4927 - precision_1: 0.4958 - recall_1: 0.6343\n",
      "Epoch 137/200\n",
      "241/241 [==============================] - 0s 2ms/step - loss: 0.6932 - accuracy: 0.4694 - precision_1: 0.4773 - recall_1: 0.6028\n",
      "Epoch 138/200\n",
      "241/241 [==============================] - 0s 2ms/step - loss: 0.6932 - accuracy: 0.4969 - precision_1: 0.4992 - recall_1: 0.8126\n",
      "Epoch 139/200\n",
      "241/241 [==============================] - 0s 2ms/step - loss: 0.6932 - accuracy: 0.4935 - precision_1: 0.4971 - recall_1: 0.7720\n",
      "Epoch 140/200\n",
      "241/241 [==============================] - 0s 2ms/step - loss: 0.6932 - accuracy: 0.5019 - precision_1: 0.5019 - recall_1: 1.0000\n",
      "Epoch 141/200\n",
      "241/241 [==============================] - 0s 2ms/step - loss: 0.6932 - accuracy: 0.5019 - precision_1: 0.5019 - recall_1: 1.0000\n",
      "Epoch 142/200\n",
      "241/241 [==============================] - 0s 2ms/step - loss: 0.6932 - accuracy: 0.4960 - precision_1: 0.4989 - recall_1: 0.9610\n",
      "Epoch 143/200\n",
      "241/241 [==============================] - 0s 2ms/step - loss: 0.6932 - accuracy: 0.5019 - precision_1: 0.5019 - recall_1: 1.0000\n",
      "Epoch 144/200\n",
      "241/241 [==============================] - 0s 2ms/step - loss: 0.6932 - accuracy: 0.5019 - precision_1: 0.5019 - recall_1: 1.0000\n",
      "Epoch 145/200\n",
      "241/241 [==============================] - 1s 2ms/step - loss: 0.6932 - accuracy: 0.4836 - precision_1: 0.4900 - recall_1: 0.7081\n",
      "Epoch 146/200\n",
      "241/241 [==============================] - 0s 2ms/step - loss: 0.6932 - accuracy: 0.5019 - precision_1: 0.5019 - recall_1: 1.0000\n",
      "Epoch 147/200\n",
      "241/241 [==============================] - 0s 2ms/step - loss: 0.6932 - accuracy: 0.5019 - precision_1: 0.5019 - recall_1: 1.0000\n",
      "Epoch 148/200\n",
      "241/241 [==============================] - 0s 2ms/step - loss: 0.6932 - accuracy: 0.4927 - precision_1: 0.4956 - recall_1: 0.6136\n",
      "Epoch 149/200\n",
      "241/241 [==============================] - 0s 2ms/step - loss: 0.6932 - accuracy: 0.5019 - precision_1: 0.5019 - recall_1: 1.0000\n",
      "Epoch 150/200\n",
      "241/241 [==============================] - 0s 2ms/step - loss: 0.6932 - accuracy: 0.5019 - precision_1: 0.5019 - recall_1: 1.0000\n",
      "Epoch 151/200\n",
      "241/241 [==============================] - 0s 2ms/step - loss: 0.6932 - accuracy: 0.4919 - precision_1: 0.4929 - recall_1: 0.4345\n",
      "Epoch 152/200\n",
      "241/241 [==============================] - 0s 2ms/step - loss: 0.6932 - accuracy: 0.4861 - precision_1: 0.4919 - recall_1: 0.7313\n",
      "Epoch 153/200\n",
      "241/241 [==============================] - 0s 2ms/step - loss: 0.6932 - accuracy: 0.5019 - precision_1: 0.5019 - recall_1: 1.0000\n",
      "Epoch 154/200\n",
      "241/241 [==============================] - 0s 2ms/step - loss: 0.6932 - accuracy: 0.4969 - precision_1: 0.4993 - recall_1: 0.9328\n",
      "Epoch 155/200\n",
      "241/241 [==============================] - 1s 2ms/step - loss: 0.6932 - accuracy: 0.4877 - precision_1: 0.4878 - recall_1: 0.4138\n",
      "Epoch 156/200\n",
      "241/241 [==============================] - 1s 3ms/step - loss: 0.6932 - accuracy: 0.5019 - precision_1: 0.5019 - recall_1: 1.0000\n",
      "Epoch 157/200\n",
      "241/241 [==============================] - 1s 3ms/step - loss: 0.6932 - accuracy: 0.5019 - precision_1: 0.5019 - recall_1: 1.0000\n",
      "Epoch 158/200\n",
      "241/241 [==============================] - 1s 2ms/step - loss: 0.6932 - accuracy: 0.4919 - precision_1: 0.4961 - recall_1: 0.7993\n",
      "Epoch 159/200\n",
      "241/241 [==============================] - 1s 2ms/step - loss: 0.6932 - accuracy: 0.5019 - precision_1: 0.5019 - recall_1: 1.0000\n",
      "Epoch 160/200\n",
      "241/241 [==============================] - 0s 2ms/step - loss: 0.6932 - accuracy: 0.5019 - precision_1: 0.5019 - recall_1: 1.0000\n",
      "Epoch 161/200\n",
      "241/241 [==============================] - 0s 2ms/step - loss: 0.6932 - accuracy: 0.4902 - precision_1: 0.4958 - recall_1: 0.9221\n",
      "Epoch 162/200\n",
      "241/241 [==============================] - 0s 2ms/step - loss: 0.6932 - accuracy: 0.4935 - precision_1: 0.4975 - recall_1: 0.8964\n",
      "Epoch 163/200\n",
      "241/241 [==============================] - 0s 2ms/step - loss: 0.6933 - accuracy: 0.5019 - precision_1: 0.5019 - recall_1: 1.0000\n",
      "Epoch 164/200\n",
      "241/241 [==============================] - 0s 2ms/step - loss: 0.6933 - accuracy: 0.4911 - precision_1: 0.4947 - recall_1: 0.6534\n",
      "Epoch 165/200\n",
      "241/241 [==============================] - 0s 2ms/step - loss: 0.6932 - accuracy: 0.5019 - precision_1: 0.5019 - recall_1: 1.0000\n",
      "Epoch 166/200\n",
      "241/241 [==============================] - 0s 2ms/step - loss: 0.6932 - accuracy: 0.5019 - precision_1: 0.5019 - recall_1: 1.0000\n",
      "Epoch 167/200\n",
      "241/241 [==============================] - 0s 2ms/step - loss: 0.6932 - accuracy: 0.4927 - precision_1: 0.4966 - recall_1: 0.7919\n",
      "Epoch 168/200\n",
      "241/241 [==============================] - 0s 2ms/step - loss: 0.6932 - accuracy: 0.5019 - precision_1: 0.5019 - recall_1: 1.0000\n",
      "Epoch 169/200\n",
      "241/241 [==============================] - 0s 2ms/step - loss: 0.6932 - accuracy: 0.4869 - precision_1: 0.4935 - recall_1: 0.8483\n",
      "Epoch 170/200\n",
      "241/241 [==============================] - 0s 2ms/step - loss: 0.6932 - accuracy: 0.5019 - precision_1: 0.5019 - recall_1: 1.0000\n",
      "Epoch 171/200\n",
      "241/241 [==============================] - 1s 2ms/step - loss: 0.6932 - accuracy: 0.5019 - precision_1: 0.5019 - recall_1: 1.0000\n",
      "Epoch 172/200\n",
      "241/241 [==============================] - 0s 2ms/step - loss: 0.6932 - accuracy: 0.4852 - precision_1: 0.4910 - recall_1: 0.7015\n",
      "Epoch 173/200\n",
      "241/241 [==============================] - 0s 2ms/step - loss: 0.6932 - accuracy: 0.5019 - precision_1: 0.5019 - recall_1: 1.0000\n",
      "Epoch 174/200\n",
      "241/241 [==============================] - 0s 2ms/step - loss: 0.6932 - accuracy: 0.4927 - precision_1: 0.4965 - recall_1: 0.7629\n",
      "Epoch 175/200\n",
      "241/241 [==============================] - 0s 2ms/step - loss: 0.6932 - accuracy: 0.5019 - precision_1: 0.5019 - recall_1: 1.0000\n",
      "Epoch 176/200\n",
      "241/241 [==============================] - 0s 2ms/step - loss: 0.6932 - accuracy: 0.5019 - precision_1: 0.5019 - recall_1: 1.0000\n",
      "Epoch 177/200\n",
      "241/241 [==============================] - 0s 2ms/step - loss: 0.6932 - accuracy: 0.5019 - precision_1: 0.5019 - recall_1: 1.0000\n",
      "Epoch 178/200\n",
      "241/241 [==============================] - 0s 2ms/step - loss: 0.6932 - accuracy: 0.4911 - precision_1: 0.4932 - recall_1: 0.5124\n",
      "Epoch 179/200\n",
      "241/241 [==============================] - 0s 2ms/step - loss: 0.6932 - accuracy: 0.4960 - precision_1: 0.4988 - recall_1: 0.8947\n",
      "Epoch 180/200\n",
      "241/241 [==============================] - 0s 2ms/step - loss: 0.6932 - accuracy: 0.4944 - precision_1: 0.4981 - recall_1: 0.9552\n",
      "Epoch 181/200\n",
      "241/241 [==============================] - 0s 2ms/step - loss: 0.6932 - accuracy: 0.5019 - precision_1: 0.5019 - recall_1: 1.0000\n",
      "Epoch 182/200\n",
      "241/241 [==============================] - 0s 2ms/step - loss: 0.6932 - accuracy: 0.4935 - precision_1: 0.4966 - recall_1: 0.6642\n",
      "Epoch 183/200\n",
      "241/241 [==============================] - 1s 2ms/step - loss: 0.6932 - accuracy: 0.5019 - precision_1: 0.5019 - recall_1: 1.0000\n",
      "Epoch 184/200\n",
      "241/241 [==============================] - 1s 2ms/step - loss: 0.6932 - accuracy: 0.4944 - precision_1: 0.4979 - recall_1: 0.8847\n",
      "Epoch 185/200\n",
      "241/241 [==============================] - 1s 2ms/step - loss: 0.6932 - accuracy: 0.5019 - precision_1: 0.5019 - recall_1: 1.0000\n",
      "Epoch 186/200\n",
      "241/241 [==============================] - 1s 2ms/step - loss: 0.6932 - accuracy: 0.4902 - precision_1: 0.4950 - recall_1: 0.7811\n",
      "Epoch 187/200\n",
      "241/241 [==============================] - 1s 3ms/step - loss: 0.6932 - accuracy: 0.5019 - precision_1: 0.5019 - recall_1: 1.0000\n",
      "Epoch 188/200\n",
      "241/241 [==============================] - 1s 3ms/step - loss: 0.6932 - accuracy: 0.5019 - precision_1: 0.5019 - recall_1: 1.0000\n",
      "Epoch 189/200\n",
      "241/241 [==============================] - 1s 3ms/step - loss: 0.6932 - accuracy: 0.5019 - precision_1: 0.5019 - recall_1: 1.0000\n",
      "Epoch 190/200\n",
      "241/241 [==============================] - 0s 2ms/step - loss: 0.6932 - accuracy: 0.5019 - precision_1: 0.5019 - recall_1: 1.0000\n",
      "Epoch 191/200\n",
      "241/241 [==============================] - 1s 2ms/step - loss: 0.6932 - accuracy: 0.4960 - precision_1: 0.4989 - recall_1: 0.9652\n",
      "Epoch 192/200\n",
      "241/241 [==============================] - 1s 2ms/step - loss: 0.6932 - accuracy: 0.5019 - precision_1: 0.5019 - recall_1: 1.0000\n",
      "Epoch 193/200\n",
      "241/241 [==============================] - 1s 2ms/step - loss: 0.6932 - accuracy: 0.5019 - precision_1: 0.5019 - recall_1: 1.0000\n",
      "Epoch 194/200\n",
      "241/241 [==============================] - 1s 2ms/step - loss: 0.6932 - accuracy: 0.5019 - precision_1: 0.5019 - recall_1: 1.0000\n",
      "Epoch 195/200\n",
      "241/241 [==============================] - 1s 2ms/step - loss: 0.6932 - accuracy: 0.4836 - precision_1: 0.4724 - recall_1: 0.2479\n",
      "Epoch 196/200\n",
      "241/241 [==============================] - 1s 2ms/step - loss: 0.6932 - accuracy: 0.4902 - precision_1: 0.4951 - recall_1: 0.7935\n",
      "Epoch 197/200\n",
      "241/241 [==============================] - 1s 2ms/step - loss: 0.6932 - accuracy: 0.5019 - precision_1: 0.5019 - recall_1: 1.0000\n",
      "Epoch 198/200\n",
      "241/241 [==============================] - 0s 2ms/step - loss: 0.6932 - accuracy: 0.4802 - precision_1: 0.4884 - recall_1: 0.7504\n",
      "Epoch 199/200\n",
      "241/241 [==============================] - 0s 2ms/step - loss: 0.6932 - accuracy: 0.5019 - precision_1: 0.5019 - recall_1: 1.0000\n",
      "Epoch 200/200\n",
      "241/241 [==============================] - 0s 2ms/step - loss: 0.6932 - accuracy: 0.5019 - precision_1: 0.5019 - recall_1: 1.0000\n"
     ]
    },
    {
     "data": {
      "text/plain": [
       "<keras.callbacks.History at 0x16c6555e6a0>"
      ]
     },
     "execution_count": 90,
     "metadata": {},
     "output_type": "execute_result"
    }
   ],
   "source": [
    "model.fit(X_train, train['target'], batch_size=10,epochs=200)"
   ]
  },
  {
   "cell_type": "code",
   "execution_count": 92,
   "id": "45d83477",
   "metadata": {},
   "outputs": [
    {
     "name": "stdout",
     "output_type": "stream",
     "text": [
      "7/7 - 0s - loss: 0.6930 - accuracy: 0.5250 - precision_1: 0.5250 - recall_1: 1.0000 - 32ms/epoch - 5ms/step\n"
     ]
    },
    {
     "data": {
      "text/plain": [
       "[0.6930439472198486, 0.5249999761581421, 0.5249999761581421, 1.0]"
      ]
     },
     "execution_count": 92,
     "metadata": {},
     "output_type": "execute_result"
    }
   ],
   "source": [
    "model.evaluate(X_test, test['target'],verbose=2)"
   ]
  },
  {
   "cell_type": "code",
   "execution_count": null,
   "id": "7e04342d",
   "metadata": {},
   "outputs": [],
   "source": []
  },
  {
   "cell_type": "code",
   "execution_count": null,
   "id": "476d4832",
   "metadata": {},
   "outputs": [],
   "source": []
  }
 ],
 "metadata": {
  "kernelspec": {
   "display_name": "Python 3 (ipykernel)",
   "language": "python",
   "name": "python3"
  },
  "language_info": {
   "codemirror_mode": {
    "name": "ipython",
    "version": 3
   },
   "file_extension": ".py",
   "mimetype": "text/x-python",
   "name": "python",
   "nbconvert_exporter": "python",
   "pygments_lexer": "ipython3",
   "version": "3.7.1"
  }
 },
 "nbformat": 4,
 "nbformat_minor": 5
}
